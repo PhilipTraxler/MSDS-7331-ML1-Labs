{
 "cells": [
  {
   "attachments": {},
   "cell_type": "markdown",
   "metadata": {},
   "source": [
    "__Title:__ Lab 1: Visualization and Data Preprocessing  \n",
    "__Authors:__ Butler, Derner, Holmes, Traxler  \n",
    "__Date:__ 1/22/23 "
   ]
  },
  {
   "attachments": {},
   "cell_type": "markdown",
   "metadata": {},
   "source": [
    "## Ruberic"
   ]
  },
  {
   "cell_type": "markdown",
   "metadata": {},
   "source": [
    "|Category | Points | Description |\n",
    "| --- | --- | --- |\n",
    "| Business Understanding | 10 | Describe the purpose of the data set you selected (i.e., why was this data collected in the first place?). Describe how you would define and measure the outcomes from the dataset. That is, why is this data important and how do you know if you have mined useful knowledge from the dataset? How would you measure the effectiveness of a good prediction algorithm? Be specific.\n",
    "| Data Meaning Type | 10 | Describe the meaning and type of data (scale, values, etc.) for each attribute in the data file.\n",
    "| Data Quality | 15 | Verify data quality: Explain any missing values, duplicate data, and outliers. Are those mistakes? How do you deal with these problems? Give justifications for your methods.\n",
    "| Simple Statistics | 10 | Visualize appropriate statistics (e.g., range, mode, mean, median, variance, counts) for a subset of attributes. Describe anything meaningful you found from this or if you found something potentially interesting. Note: You can also use data from other sources for comparison. Explain why the statistics run are meaningful. \n",
    "| Visualize Attributes | 15 | Visualize the most interesting attributes (at least 5 attributes, your opinion on what is interesting). Important: Interpret the implications for each visualization. Explain for each attribute why the chosen visualization is appropriate.\n",
    "| Explore Joint Attributes | 15 | Visualize relationships between attributes: Look at the attributes via scatter plots, correlation, cross-tabulation, group-wise averages, etc. as appropriate. Explain any interesting relationships.\n",
    "| Explore Attributes and Class | 10 | Identify and explain interesting relationships between features and the class you are trying to predict (i.e., relationships with variables and the target classification).\n",
    "| New Features | 5 | Are there other features that could be added to the data or created from existing features? Which ones?\n",
    "| Exceptional Work | 10 | You have free reign to provide additional analyses. One idea: implement dimensionality reduction, then visualize and interpret the results.\n",
    "| Total\t| 100\n"
   ]
  },
  {
   "attachments": {},
   "cell_type": "markdown",
   "id": "18e23ddb",
   "metadata": {},
   "source": [
    "## Business Understanding\n",
    "We've selected a data source from Kaggle that is focused on predicting flight delays/cancelations and the length of time delayed. The original data set comes from the \"Marketing Carrier On-Time Performance data table of the \"On-Time\" database from the TranStats data library\" (Kaggle, 2022). For the purposes of this exercise, we have limited the scope to 2022. In this Lab, we will be highlighting our relevant findings during out initial expoloration of the data set. Predicitive models for regression and classificaiton will be thouroughly reviewed in Lab 2.\n",
    "\n",
    "According to research, 2007 United States flight delays and cancelations had an estimated total cost of $32.9 billion (Ball et al., 2010). Airlines and passengers accounted for $8.3 billion and $16.7 billion repspectively. The remaining $3.9 billion was due to lost demand. These 2007 figures highlight the staggering cost to airlines and customers, but do nothing to quantify the tanjential losses faced by customers. A delayed or canceled flight can result in critical meetings missed, the loss of final moments with a loved one, or experiences never lived. Just last Christmas, we witnessed Southwest Airlines ground and cancel thousands of flights due to weather cancellations and outdated computer systems (Olson, 2022). According to a recent financial report to the SEC (Investis, 2023), Southwest is estimating a loss of up to $825 million. While this loss is significant, it can not begin to quantify the time lost with loved ones and the experiences missed by customers.\n",
    "\n",
    "The numbers outlined above are sufficent to unerpin the importance of this study from a business perspective. However, beyond the business, we've also highlighted the intagiable costs of delays and cancelations to customers. Throughout this study, we will be reviewing the data and seeking to answer the most important questions from each perspective.\n",
    "\n",
    "Data Source:\n",
    "https://www.kaggle.com/datasets/robikscube/flight-delay-dataset-20182022"
   ]
  },
  {
   "cell_type": "code",
   "execution_count": 2,
   "id": "8d82f8c0",
   "metadata": {},
   "outputs": [],
   "source": [
    "# Import libraries\n",
    "import pandas as pd\n",
    "import matplotlib.pyplot as plt\n",
    "import numpy as np\n",
    "\n",
    "# Workbook settings\n",
    "pd.set_option('display.max_columns', None)"
   ]
  },
  {
   "cell_type": "code",
   "execution_count": 3,
   "id": "182ec918",
   "metadata": {},
   "outputs": [],
   "source": [
    "# Import data\n",
    "file_load = \"data/Combined_Flights_2022.csv\"\n",
    "flight_data_df = pd.read_csv(file_load, encoding = \"utf-8\")"
   ]
  },
  {
   "attachments": {},
   "cell_type": "markdown",
   "id": "df9a5579",
   "metadata": {},
   "source": [
    "## Data Meaning Type\n",
    "\n",
    "Describe the meaning and type of data (scale, values, etc.) for each attribute in the data file."
   ]
  },
  {
   "attachments": {},
   "cell_type": "markdown",
   "id": "b2697652",
   "metadata": {},
   "source": [
    "__Feature Definitions__  \n",
    "\n",
    "Definitions sourced from Kaggle dataset documentation (Kaggle, 2022)."
   ]
  },
  {
   "attachments": {},
   "cell_type": "markdown",
   "id": "0b94489f",
   "metadata": {},
   "source": [
    "| Response Features | Definition                                                                                                 |\n",
    "| ----------------- | ---------------------------------------------------------------------------------------------------------- |\n",
    "| Cancelled         | Cancelled Flight Indicator (1=Yes)                                                                         |\n",
    "| DepDelay          | Difference in minutes between scheduled and actual departure time. Early departures set to 0.              |\n",
    "| DepDelayMinutes   | Difference in minutes between scheduled and actual departure time. Early departures show negative numbers. |"
   ]
  },
  {
   "attachments": {},
   "cell_type": "markdown",
   "id": "29293f8a",
   "metadata": {},
   "source": [
    "| Categorical Features                    | Definition                                                                                                                                                                                                                                             |\n",
    "| --------------------------------------- | ------------------------------------------------------------------------------------------------------------------------------------------------------------------------------------------------------------------------------------------------------ |\n",
    "| Airline                                 | Airline                                                                                                                                                                                                                                                |\n",
    "| ArrTimeBlk                              | CRS Arrival Time Block, Hourly Intervals                                                                                                                                                                                                               |\n",
    "| Cancelled                               | Cancelled Flight Indicator (1=Yes)                                                                                                                                                                                                                     |\n",
    "| DepartureDelayGroups                    | Departure Delay intervals, every (15 minutes from <-15 to >180)                                                                                                                                                                                        |\n",
    "| DepDel15                                | Departure Delay Indicator, 15 Minutes or More (1=Yes)                                                                                                                                                                                                  |\n",
    "| DepTimeBlk                              | CRS Departure Time Block, Hourly Intervals                                                                                                                                                                                                             |\n",
    "| Dest                                    | Destination Airport                                                                                                                                                                                                                                    |\n",
    "| DestAirportID                           | Destination Airport, Airport ID. An identification number assigned by US DOT to identify a unique airport. Use this field for airport analysis across a range of years because an airport can change its airport code and airport codes can be reused. |\n",
    "| DestAirportSeqID                        | Destination Airport, Airport Sequence ID. An identification number assigned by US DOT to identify a unique airport at a given point of time. Airport attributes, such as airport name or coordinates, may change over time.                            |\n",
    "| DestCityMarketID                        | Destination Airport, City Market ID. City Market ID is an identification number assigned by US DOT to identify a city market. Use this field to consolidate airports serving the same city market.                                                     |\n",
    "| DestCityName                            | Destination Airport, City Name                                                                                                                                                                                                                         |\n",
    "| DestState                               | Destination Airport, State Code                                                                                                                                                                                                                        |\n",
    "| DestStateFips                           | Destination Airport, State Fips                                                                                                                                                                                                                        |\n",
    "| DestStateName                           | Destination Airport, State Name                                                                                                                                                                                                                        |\n",
    "| DestWac                                 | Destination Airport, World Area Code                                                                                                                                                                                                                   |\n",
    "| Diverted                                | Diverted Flight Indicator (1=Yes)                                                                                                                                                                                                                      |\n",
    "| DOT_ID_Marketing_Airline                | An identification number assigned by US DOT to identify a unique airline (carrier). A unique airline (carrier) is defined as one holding and reporting under the same DOT certificate regardless of its Code, Name, or holding company/corporation.    |\n",
    "| DOT_ID_Operating_Airline                | An identification number assigned by US DOT to identify a unique airline (carrier). A unique airline (carrier) is defined as one holding and reporting under the same DOT certificate regardless of its Code, Name, or holding company/corporation.    |\n",
    "| Flight_Number_Marketing_Airline         | Flight Number                                                                                                                                                                                                                                          |\n",
    "| Flight_Number_Operating_Airline         | Flight Number                                                                                                                                                                                                                                          |\n",
    "| IATA_Code_Marketing_Airline             | Code assigned by IATA and commonly used to identify a carrier. As the same code may have been assigned to different carriers over time, the code is not always unique. For analysis, use the Unique Carrier Code.                                      |\n",
    "| IATA_Code_Operating_Airline             | Code assigned by IATA and commonly used to identify a carrier. As the same code may have been assigned to different carriers over time, the code is not always unique. For analysis, use the Unique Carrier Code.                                      |\n",
    "| Marketing_Airline_Network               | Unique Marketing Carrier Code. When the same code has been used by multiple carriers, a numeric suffix is used for earlier users, for example, PA, PA(1), PA(2). Use this field for analysis across a range of years.                                  |\n",
    "| Operated_or_Branded_Code_Share_Partners | Reporting Carrier Operated or Branded Code Share Partners                                                                                                                                                                                              |\n",
    "| Operating_Airline                       | Unique Carrier Code. When the same code has been used by multiple carriers, a numeric suffix is used for earlier users, for example, PA, PA(1), PA(2). Use this field for analysis across a range of years.                                            |\n",
    "| Origin                                  | Origin Airport                                                                                                                                                                                                                                         |\n",
    "| OriginAirportID                         | Origin Airport, Airport ID. An identification number assigned by US DOT to identify a unique airport. Use this field for airport analysis across a range of years because an airport can change its airport code and airport codes can be reused.      |\n",
    "| OriginAirportSeqID                      | Origin Airport, Airport Sequence ID. An identification number assigned by US DOT to identify a unique airport at a given point of time. Airport attributes, such as airport name or coordinates, may change over time.                                 |\n",
    "| OriginCityMarketID                      | Origin Airport, City Market ID. City Market ID is an identification number assigned by US DOT to identify a city market. Use this field to consolidate airports serving the same city market.                                                          |\n",
    "| OriginCityName                          | Origin Airport, City Name                                                                                                                                                                                                                              |\n",
    "| OriginState                             | Origin Airport, State Code                                                                                                                                                                                                                             |\n",
    "| OriginStateFips                         | Origin Airport, State Fips                                                                                                                                                                                                                             |\n",
    "| OriginStateName                         | Origin Airport, State Name                                                                                                                                                                                                                             |\n",
    "| OriginWac                               | Origin Airport, World Area Code                                                                                                                                                                                                                        |\n",
    "| Tail_Number                             | Tail Number                                                                                                                                                                                                                                            |"
   ]
  },
  {
   "attachments": {},
   "cell_type": "markdown",
   "id": "6f94e535",
   "metadata": {},
   "source": [
    "| Continuous Features | Definition                                                                                                 |\n",
    "| ------------------- | ---------------------------------------------------------------------------------------------------------- |\n",
    "| ActualElapsedTime   | Elapsed Time of Flight, in Minutes                                                                         |\n",
    "| AirTime             | Flight Time, in Minutes                                                                                    |\n",
    "| ArrDel15            | Arrival Delay Indicator, 15 Minutes or More (1=Yes)                                                        |\n",
    "| ArrDelay            | Difference in minutes between scheduled and actual arrival time. Early arrivals show negative numbers.     |\n",
    "| ArrDelayMinutes     | Difference in minutes between scheduled and actual arrival time. Early arrivals set to 0.                  |\n",
    "| ArrivalDelayGroups  | Arrival Delay intervals, every (15-minutes from <-15 to >180)                                              |\n",
    "| ArrTime             | Actual Arrival Time (local time: hhmm)                                                                     |\n",
    "| CRSArrTime          | CRS Arrival Time (local time: hhmm)                                                                        |\n",
    "| CRSDepTime          | CRS Departure Time (local time: hhmm)                                                                      |\n",
    "| CRSElapsedTime      | CRS Elapsed Time of Flight, in Minutes                                                                     |\n",
    "| DepDelay            | Difference in minutes between scheduled and actual departure time. Early departures show negative numbers. |\n",
    "| DepDelayMinutes     | Difference in minutes between scheduled and actual departure time. Early departures set to 0.              |\n",
    "| DepTime             | Actual Departure Time (local time: hhmm)                                                                   |\n",
    "| Distance            | Distance between airports (miles)                                                                          |\n",
    "| DivAirportLandings  | Number of Diverted Airport Landings                                                                        |\n",
    "| TaxiIn              | Taxi In Time, in Minutes                                                                                   |\n",
    "| TaxiOut             | Taxi Out Time, in Minutes                                                                                  |\n",
    "| WheelsOff           | Wheels Off Time (local time: hhmm)                                                                         |\n",
    "| WheelsOn            | Wheels On Time (local time: hhmm)                                                                          |"
   ]
  },
  {
   "attachments": {},
   "cell_type": "markdown",
   "id": "5922b2ab",
   "metadata": {},
   "source": [
    "| Ordinal Features | Definition    |\n",
    "| ---------------- | ------------- |\n",
    "| Year             | Year          |\n",
    "| Quarter          | Quarter (1-4) |\n",
    "| Month            | Month         |\n",
    "| DayofMonth       | Day of Month  |\n",
    "| DayOfWeek        | Day of Week   |"
   ]
  },
  {
   "attachments": {},
   "cell_type": "markdown",
   "id": "1f400d30",
   "metadata": {},
   "source": [
    "# Data Quality\n",
    "Verify data quality: Explain any missing values, duplicate data, and outliers. Are those mistakes? How do you deal with these problems? Give justifications for your methods."
   ]
  },
  {
   "cell_type": "code",
   "execution_count": 5,
   "id": "38cc9775",
   "metadata": {},
   "outputs": [
    {
     "data": {
      "text/plain": [
       "(4078318, 61)"
      ]
     },
     "execution_count": 5,
     "metadata": {},
     "output_type": "execute_result"
    }
   ],
   "source": [
    "flight_data_df.shape"
   ]
  },
  {
   "attachments": {},
   "cell_type": "markdown",
   "id": "fe633f40",
   "metadata": {},
   "source": [
    "__Missing Values__"
   ]
  },
  {
   "cell_type": "code",
   "execution_count": 6,
   "id": "8f3ade6e",
   "metadata": {},
   "outputs": [
    {
     "data": {
      "text/html": [
       "<div>\n",
       "<style scoped>\n",
       "    .dataframe tbody tr th:only-of-type {\n",
       "        vertical-align: middle;\n",
       "    }\n",
       "\n",
       "    .dataframe tbody tr th {\n",
       "        vertical-align: top;\n",
       "    }\n",
       "\n",
       "    .dataframe thead th {\n",
       "        text-align: right;\n",
       "    }\n",
       "</style>\n",
       "<table border=\"1\" class=\"dataframe\">\n",
       "  <thead>\n",
       "    <tr style=\"text-align: right;\">\n",
       "      <th></th>\n",
       "      <th>Feature</th>\n",
       "      <th>Value</th>\n",
       "      <th>Percent</th>\n",
       "    </tr>\n",
       "  </thead>\n",
       "  <tbody>\n",
       "    <tr>\n",
       "      <th>0</th>\n",
       "      <td>DepTime</td>\n",
       "      <td>120433</td>\n",
       "      <td>2.95</td>\n",
       "    </tr>\n",
       "    <tr>\n",
       "      <th>1</th>\n",
       "      <td>DepDelayMinutes</td>\n",
       "      <td>120495</td>\n",
       "      <td>2.95</td>\n",
       "    </tr>\n",
       "    <tr>\n",
       "      <th>2</th>\n",
       "      <td>DepDelay</td>\n",
       "      <td>120495</td>\n",
       "      <td>2.95</td>\n",
       "    </tr>\n",
       "    <tr>\n",
       "      <th>3</th>\n",
       "      <td>ArrTime</td>\n",
       "      <td>124239</td>\n",
       "      <td>3.05</td>\n",
       "    </tr>\n",
       "    <tr>\n",
       "      <th>4</th>\n",
       "      <td>ArrDelayMinutes</td>\n",
       "      <td>133402</td>\n",
       "      <td>3.27</td>\n",
       "    </tr>\n",
       "    <tr>\n",
       "      <th>5</th>\n",
       "      <td>AirTime</td>\n",
       "      <td>133402</td>\n",
       "      <td>3.27</td>\n",
       "    </tr>\n",
       "    <tr>\n",
       "      <th>6</th>\n",
       "      <td>ActualElapsedTime</td>\n",
       "      <td>133402</td>\n",
       "      <td>3.27</td>\n",
       "    </tr>\n",
       "    <tr>\n",
       "      <th>7</th>\n",
       "      <td>Tail_Number</td>\n",
       "      <td>26795</td>\n",
       "      <td>0.66</td>\n",
       "    </tr>\n",
       "    <tr>\n",
       "      <th>8</th>\n",
       "      <td>DepDel15</td>\n",
       "      <td>120495</td>\n",
       "      <td>2.95</td>\n",
       "    </tr>\n",
       "    <tr>\n",
       "      <th>9</th>\n",
       "      <td>DepartureDelayGroups</td>\n",
       "      <td>120495</td>\n",
       "      <td>2.95</td>\n",
       "    </tr>\n",
       "    <tr>\n",
       "      <th>10</th>\n",
       "      <td>TaxiOut</td>\n",
       "      <td>122666</td>\n",
       "      <td>3.01</td>\n",
       "    </tr>\n",
       "    <tr>\n",
       "      <th>11</th>\n",
       "      <td>WheelsOff</td>\n",
       "      <td>122666</td>\n",
       "      <td>3.01</td>\n",
       "    </tr>\n",
       "    <tr>\n",
       "      <th>12</th>\n",
       "      <td>WheelsOn</td>\n",
       "      <td>124242</td>\n",
       "      <td>3.05</td>\n",
       "    </tr>\n",
       "    <tr>\n",
       "      <th>13</th>\n",
       "      <td>TaxiIn</td>\n",
       "      <td>124242</td>\n",
       "      <td>3.05</td>\n",
       "    </tr>\n",
       "    <tr>\n",
       "      <th>14</th>\n",
       "      <td>ArrDelay</td>\n",
       "      <td>133402</td>\n",
       "      <td>3.27</td>\n",
       "    </tr>\n",
       "    <tr>\n",
       "      <th>15</th>\n",
       "      <td>ArrDel15</td>\n",
       "      <td>133402</td>\n",
       "      <td>3.27</td>\n",
       "    </tr>\n",
       "    <tr>\n",
       "      <th>16</th>\n",
       "      <td>ArrivalDelayGroups</td>\n",
       "      <td>133402</td>\n",
       "      <td>3.27</td>\n",
       "    </tr>\n",
       "  </tbody>\n",
       "</table>\n",
       "</div>"
      ],
      "text/plain": [
       "                 Feature   Value  Percent\n",
       "0                DepTime  120433     2.95\n",
       "1        DepDelayMinutes  120495     2.95\n",
       "2               DepDelay  120495     2.95\n",
       "3                ArrTime  124239     3.05\n",
       "4        ArrDelayMinutes  133402     3.27\n",
       "5                AirTime  133402     3.27\n",
       "6      ActualElapsedTime  133402     3.27\n",
       "7            Tail_Number   26795     0.66\n",
       "8               DepDel15  120495     2.95\n",
       "9   DepartureDelayGroups  120495     2.95\n",
       "10               TaxiOut  122666     3.01\n",
       "11             WheelsOff  122666     3.01\n",
       "12              WheelsOn  124242     3.05\n",
       "13                TaxiIn  124242     3.05\n",
       "14              ArrDelay  133402     3.27\n",
       "15              ArrDel15  133402     3.27\n",
       "16    ArrivalDelayGroups  133402     3.27"
      ]
     },
     "execution_count": 6,
     "metadata": {},
     "output_type": "execute_result"
    }
   ],
   "source": [
    "# Features with Null Values and Percent missing\n",
    "null_df = pd.DataFrame(flight_data_df[flight_data_df.columns[flight_data_df.isnull().any()]].isnull().sum()).reset_index()\n",
    "null_df.columns = ['Feature', 'Value']\n",
    "null_df['Percent'] = round((null_df['Value'] / flight_data_df.shape[0] * 100),2)\n",
    "\n",
    "null_df"
   ]
  },
  {
   "attachments": {},
   "cell_type": "markdown",
   "id": "39cbf90e",
   "metadata": {},
   "source": [
    "It appears that many of the features with missing values have the same count of missing values. These features in particular would likely not be available for cancelled flights. To test that theory, we created the same table filtered only to cancelled flights. \n",
    "\n",
    "In the three subsequent tables, we show the null values associated with non-cancelled flights and then flights that were diverted. The results show the exact same number of missing values across every feature. When we combine the filters to show missing values for observations that were neither cancelled nor diverted, there are no more missing values.\n",
    "\n",
    "These findings show that all missing values are related in full to the response feature 'Cancelled' or 'Diverted'. No missing values will be dropped or imputed for this data set."
   ]
  },
  {
   "cell_type": "code",
   "execution_count": 7,
   "id": "d9f569c5",
   "metadata": {},
   "outputs": [
    {
     "data": {
      "text/html": [
       "<div>\n",
       "<style scoped>\n",
       "    .dataframe tbody tr th:only-of-type {\n",
       "        vertical-align: middle;\n",
       "    }\n",
       "\n",
       "    .dataframe tbody tr th {\n",
       "        vertical-align: top;\n",
       "    }\n",
       "\n",
       "    .dataframe thead th {\n",
       "        text-align: right;\n",
       "    }\n",
       "</style>\n",
       "<table border=\"1\" class=\"dataframe\">\n",
       "  <thead>\n",
       "    <tr style=\"text-align: right;\">\n",
       "      <th></th>\n",
       "      <th>Feature</th>\n",
       "      <th>Value</th>\n",
       "      <th>Percent</th>\n",
       "    </tr>\n",
       "  </thead>\n",
       "  <tbody>\n",
       "    <tr>\n",
       "      <th>0</th>\n",
       "      <td>DepTime</td>\n",
       "      <td>0</td>\n",
       "      <td>0.00</td>\n",
       "    </tr>\n",
       "    <tr>\n",
       "      <th>1</th>\n",
       "      <td>DepDelayMinutes</td>\n",
       "      <td>0</td>\n",
       "      <td>0.00</td>\n",
       "    </tr>\n",
       "    <tr>\n",
       "      <th>2</th>\n",
       "      <td>DepDelay</td>\n",
       "      <td>0</td>\n",
       "      <td>0.00</td>\n",
       "    </tr>\n",
       "    <tr>\n",
       "      <th>3</th>\n",
       "      <td>ArrTime</td>\n",
       "      <td>1047</td>\n",
       "      <td>0.03</td>\n",
       "    </tr>\n",
       "    <tr>\n",
       "      <th>4</th>\n",
       "      <td>ArrDelayMinutes</td>\n",
       "      <td>10210</td>\n",
       "      <td>0.25</td>\n",
       "    </tr>\n",
       "    <tr>\n",
       "      <th>5</th>\n",
       "      <td>AirTime</td>\n",
       "      <td>10210</td>\n",
       "      <td>0.25</td>\n",
       "    </tr>\n",
       "    <tr>\n",
       "      <th>6</th>\n",
       "      <td>ActualElapsedTime</td>\n",
       "      <td>10210</td>\n",
       "      <td>0.25</td>\n",
       "    </tr>\n",
       "    <tr>\n",
       "      <th>7</th>\n",
       "      <td>Tail_Number</td>\n",
       "      <td>0</td>\n",
       "      <td>0.00</td>\n",
       "    </tr>\n",
       "    <tr>\n",
       "      <th>8</th>\n",
       "      <td>DepDel15</td>\n",
       "      <td>0</td>\n",
       "      <td>0.00</td>\n",
       "    </tr>\n",
       "    <tr>\n",
       "      <th>9</th>\n",
       "      <td>DepartureDelayGroups</td>\n",
       "      <td>0</td>\n",
       "      <td>0.00</td>\n",
       "    </tr>\n",
       "    <tr>\n",
       "      <th>10</th>\n",
       "      <td>TaxiOut</td>\n",
       "      <td>0</td>\n",
       "      <td>0.00</td>\n",
       "    </tr>\n",
       "    <tr>\n",
       "      <th>11</th>\n",
       "      <td>WheelsOff</td>\n",
       "      <td>0</td>\n",
       "      <td>0.00</td>\n",
       "    </tr>\n",
       "    <tr>\n",
       "      <th>12</th>\n",
       "      <td>WheelsOn</td>\n",
       "      <td>1050</td>\n",
       "      <td>0.03</td>\n",
       "    </tr>\n",
       "    <tr>\n",
       "      <th>13</th>\n",
       "      <td>TaxiIn</td>\n",
       "      <td>1050</td>\n",
       "      <td>0.03</td>\n",
       "    </tr>\n",
       "    <tr>\n",
       "      <th>14</th>\n",
       "      <td>ArrDelay</td>\n",
       "      <td>10210</td>\n",
       "      <td>0.25</td>\n",
       "    </tr>\n",
       "    <tr>\n",
       "      <th>15</th>\n",
       "      <td>ArrDel15</td>\n",
       "      <td>10210</td>\n",
       "      <td>0.25</td>\n",
       "    </tr>\n",
       "    <tr>\n",
       "      <th>16</th>\n",
       "      <td>ArrivalDelayGroups</td>\n",
       "      <td>10210</td>\n",
       "      <td>0.25</td>\n",
       "    </tr>\n",
       "  </tbody>\n",
       "</table>\n",
       "</div>"
      ],
      "text/plain": [
       "                 Feature  Value  Percent\n",
       "0                DepTime      0     0.00\n",
       "1        DepDelayMinutes      0     0.00\n",
       "2               DepDelay      0     0.00\n",
       "3                ArrTime   1047     0.03\n",
       "4        ArrDelayMinutes  10210     0.25\n",
       "5                AirTime  10210     0.25\n",
       "6      ActualElapsedTime  10210     0.25\n",
       "7            Tail_Number      0     0.00\n",
       "8               DepDel15      0     0.00\n",
       "9   DepartureDelayGroups      0     0.00\n",
       "10               TaxiOut      0     0.00\n",
       "11             WheelsOff      0     0.00\n",
       "12              WheelsOn   1050     0.03\n",
       "13                TaxiIn   1050     0.03\n",
       "14              ArrDelay  10210     0.25\n",
       "15              ArrDel15  10210     0.25\n",
       "16    ArrivalDelayGroups  10210     0.25"
      ]
     },
     "execution_count": 7,
     "metadata": {},
     "output_type": "execute_result"
    }
   ],
   "source": [
    "# Non-cancelled flights with null values\n",
    "null_df = pd.DataFrame(flight_data_df[(flight_data_df['Cancelled'] == False)][flight_data_df.columns[flight_data_df.isnull().any()]].isnull().sum()).reset_index()\n",
    "null_df.columns = ['Feature', 'Value']\n",
    "null_df['Percent'] = round((null_df['Value'] / flight_data_df.shape[0] * 100),2)\n",
    "\n",
    "null_df"
   ]
  },
  {
   "cell_type": "code",
   "execution_count": 114,
   "id": "cb9dba4c",
   "metadata": {},
   "outputs": [
    {
     "data": {
      "text/html": [
       "<div>\n",
       "<style scoped>\n",
       "    .dataframe tbody tr th:only-of-type {\n",
       "        vertical-align: middle;\n",
       "    }\n",
       "\n",
       "    .dataframe tbody tr th {\n",
       "        vertical-align: top;\n",
       "    }\n",
       "\n",
       "    .dataframe thead th {\n",
       "        text-align: right;\n",
       "    }\n",
       "</style>\n",
       "<table border=\"1\" class=\"dataframe\">\n",
       "  <thead>\n",
       "    <tr style=\"text-align: right;\">\n",
       "      <th></th>\n",
       "      <th>Feature</th>\n",
       "      <th>Value</th>\n",
       "      <th>Percent</th>\n",
       "    </tr>\n",
       "  </thead>\n",
       "  <tbody>\n",
       "    <tr>\n",
       "      <th>0</th>\n",
       "      <td>DepTime</td>\n",
       "      <td>0</td>\n",
       "      <td>0.00</td>\n",
       "    </tr>\n",
       "    <tr>\n",
       "      <th>1</th>\n",
       "      <td>DepDelayMinutes</td>\n",
       "      <td>0</td>\n",
       "      <td>0.00</td>\n",
       "    </tr>\n",
       "    <tr>\n",
       "      <th>2</th>\n",
       "      <td>DepDelay</td>\n",
       "      <td>0</td>\n",
       "      <td>0.00</td>\n",
       "    </tr>\n",
       "    <tr>\n",
       "      <th>3</th>\n",
       "      <td>ArrTime</td>\n",
       "      <td>1047</td>\n",
       "      <td>0.03</td>\n",
       "    </tr>\n",
       "    <tr>\n",
       "      <th>4</th>\n",
       "      <td>ArrDelayMinutes</td>\n",
       "      <td>10210</td>\n",
       "      <td>0.25</td>\n",
       "    </tr>\n",
       "    <tr>\n",
       "      <th>5</th>\n",
       "      <td>AirTime</td>\n",
       "      <td>10210</td>\n",
       "      <td>0.25</td>\n",
       "    </tr>\n",
       "    <tr>\n",
       "      <th>6</th>\n",
       "      <td>ActualElapsedTime</td>\n",
       "      <td>10210</td>\n",
       "      <td>0.25</td>\n",
       "    </tr>\n",
       "    <tr>\n",
       "      <th>7</th>\n",
       "      <td>Tail_Number</td>\n",
       "      <td>0</td>\n",
       "      <td>0.00</td>\n",
       "    </tr>\n",
       "    <tr>\n",
       "      <th>8</th>\n",
       "      <td>DepDel15</td>\n",
       "      <td>0</td>\n",
       "      <td>0.00</td>\n",
       "    </tr>\n",
       "    <tr>\n",
       "      <th>9</th>\n",
       "      <td>DepartureDelayGroups</td>\n",
       "      <td>0</td>\n",
       "      <td>0.00</td>\n",
       "    </tr>\n",
       "    <tr>\n",
       "      <th>10</th>\n",
       "      <td>TaxiOut</td>\n",
       "      <td>0</td>\n",
       "      <td>0.00</td>\n",
       "    </tr>\n",
       "    <tr>\n",
       "      <th>11</th>\n",
       "      <td>WheelsOff</td>\n",
       "      <td>0</td>\n",
       "      <td>0.00</td>\n",
       "    </tr>\n",
       "    <tr>\n",
       "      <th>12</th>\n",
       "      <td>WheelsOn</td>\n",
       "      <td>1050</td>\n",
       "      <td>0.03</td>\n",
       "    </tr>\n",
       "    <tr>\n",
       "      <th>13</th>\n",
       "      <td>TaxiIn</td>\n",
       "      <td>1050</td>\n",
       "      <td>0.03</td>\n",
       "    </tr>\n",
       "    <tr>\n",
       "      <th>14</th>\n",
       "      <td>ArrDelay</td>\n",
       "      <td>10210</td>\n",
       "      <td>0.25</td>\n",
       "    </tr>\n",
       "    <tr>\n",
       "      <th>15</th>\n",
       "      <td>ArrDel15</td>\n",
       "      <td>10210</td>\n",
       "      <td>0.25</td>\n",
       "    </tr>\n",
       "    <tr>\n",
       "      <th>16</th>\n",
       "      <td>ArrivalDelayGroups</td>\n",
       "      <td>10210</td>\n",
       "      <td>0.25</td>\n",
       "    </tr>\n",
       "  </tbody>\n",
       "</table>\n",
       "</div>"
      ],
      "text/plain": [
       "                 Feature  Value  Percent\n",
       "0                DepTime      0     0.00\n",
       "1        DepDelayMinutes      0     0.00\n",
       "2               DepDelay      0     0.00\n",
       "3                ArrTime   1047     0.03\n",
       "4        ArrDelayMinutes  10210     0.25\n",
       "5                AirTime  10210     0.25\n",
       "6      ActualElapsedTime  10210     0.25\n",
       "7            Tail_Number      0     0.00\n",
       "8               DepDel15      0     0.00\n",
       "9   DepartureDelayGroups      0     0.00\n",
       "10               TaxiOut      0     0.00\n",
       "11             WheelsOff      0     0.00\n",
       "12              WheelsOn   1050     0.03\n",
       "13                TaxiIn   1050     0.03\n",
       "14              ArrDelay  10210     0.25\n",
       "15              ArrDel15  10210     0.25\n",
       "16    ArrivalDelayGroups  10210     0.25"
      ]
     },
     "execution_count": 114,
     "metadata": {},
     "output_type": "execute_result"
    }
   ],
   "source": [
    "# Diverted flights with null values\n",
    "null_df = pd.DataFrame(flight_data_df[(flight_data_df['Diverted'] == True)][flight_data_df.columns[flight_data_df.isnull().any()]].isnull().sum()).reset_index()\n",
    "null_df.columns = ['Feature', 'Value']\n",
    "null_df['Percent'] = round((null_df['Value'] / flight_data_df.shape[0] * 100),2)\n",
    "\n",
    "null_df"
   ]
  },
  {
   "cell_type": "code",
   "execution_count": 8,
   "id": "680957f3",
   "metadata": {},
   "outputs": [
    {
     "data": {
      "text/html": [
       "<div>\n",
       "<style scoped>\n",
       "    .dataframe tbody tr th:only-of-type {\n",
       "        vertical-align: middle;\n",
       "    }\n",
       "\n",
       "    .dataframe tbody tr th {\n",
       "        vertical-align: top;\n",
       "    }\n",
       "\n",
       "    .dataframe thead th {\n",
       "        text-align: right;\n",
       "    }\n",
       "</style>\n",
       "<table border=\"1\" class=\"dataframe\">\n",
       "  <thead>\n",
       "    <tr style=\"text-align: right;\">\n",
       "      <th></th>\n",
       "      <th>Feature</th>\n",
       "      <th>Value</th>\n",
       "      <th>Percent</th>\n",
       "    </tr>\n",
       "  </thead>\n",
       "  <tbody>\n",
       "    <tr>\n",
       "      <th>0</th>\n",
       "      <td>DepTime</td>\n",
       "      <td>0</td>\n",
       "      <td>0.0</td>\n",
       "    </tr>\n",
       "    <tr>\n",
       "      <th>1</th>\n",
       "      <td>DepDelayMinutes</td>\n",
       "      <td>0</td>\n",
       "      <td>0.0</td>\n",
       "    </tr>\n",
       "    <tr>\n",
       "      <th>2</th>\n",
       "      <td>DepDelay</td>\n",
       "      <td>0</td>\n",
       "      <td>0.0</td>\n",
       "    </tr>\n",
       "    <tr>\n",
       "      <th>3</th>\n",
       "      <td>ArrTime</td>\n",
       "      <td>0</td>\n",
       "      <td>0.0</td>\n",
       "    </tr>\n",
       "    <tr>\n",
       "      <th>4</th>\n",
       "      <td>ArrDelayMinutes</td>\n",
       "      <td>0</td>\n",
       "      <td>0.0</td>\n",
       "    </tr>\n",
       "    <tr>\n",
       "      <th>5</th>\n",
       "      <td>AirTime</td>\n",
       "      <td>0</td>\n",
       "      <td>0.0</td>\n",
       "    </tr>\n",
       "    <tr>\n",
       "      <th>6</th>\n",
       "      <td>ActualElapsedTime</td>\n",
       "      <td>0</td>\n",
       "      <td>0.0</td>\n",
       "    </tr>\n",
       "    <tr>\n",
       "      <th>7</th>\n",
       "      <td>Tail_Number</td>\n",
       "      <td>0</td>\n",
       "      <td>0.0</td>\n",
       "    </tr>\n",
       "    <tr>\n",
       "      <th>8</th>\n",
       "      <td>DepDel15</td>\n",
       "      <td>0</td>\n",
       "      <td>0.0</td>\n",
       "    </tr>\n",
       "    <tr>\n",
       "      <th>9</th>\n",
       "      <td>DepartureDelayGroups</td>\n",
       "      <td>0</td>\n",
       "      <td>0.0</td>\n",
       "    </tr>\n",
       "    <tr>\n",
       "      <th>10</th>\n",
       "      <td>TaxiOut</td>\n",
       "      <td>0</td>\n",
       "      <td>0.0</td>\n",
       "    </tr>\n",
       "    <tr>\n",
       "      <th>11</th>\n",
       "      <td>WheelsOff</td>\n",
       "      <td>0</td>\n",
       "      <td>0.0</td>\n",
       "    </tr>\n",
       "    <tr>\n",
       "      <th>12</th>\n",
       "      <td>WheelsOn</td>\n",
       "      <td>0</td>\n",
       "      <td>0.0</td>\n",
       "    </tr>\n",
       "    <tr>\n",
       "      <th>13</th>\n",
       "      <td>TaxiIn</td>\n",
       "      <td>0</td>\n",
       "      <td>0.0</td>\n",
       "    </tr>\n",
       "    <tr>\n",
       "      <th>14</th>\n",
       "      <td>ArrDelay</td>\n",
       "      <td>0</td>\n",
       "      <td>0.0</td>\n",
       "    </tr>\n",
       "    <tr>\n",
       "      <th>15</th>\n",
       "      <td>ArrDel15</td>\n",
       "      <td>0</td>\n",
       "      <td>0.0</td>\n",
       "    </tr>\n",
       "    <tr>\n",
       "      <th>16</th>\n",
       "      <td>ArrivalDelayGroups</td>\n",
       "      <td>0</td>\n",
       "      <td>0.0</td>\n",
       "    </tr>\n",
       "  </tbody>\n",
       "</table>\n",
       "</div>"
      ],
      "text/plain": [
       "                 Feature  Value  Percent\n",
       "0                DepTime      0      0.0\n",
       "1        DepDelayMinutes      0      0.0\n",
       "2               DepDelay      0      0.0\n",
       "3                ArrTime      0      0.0\n",
       "4        ArrDelayMinutes      0      0.0\n",
       "5                AirTime      0      0.0\n",
       "6      ActualElapsedTime      0      0.0\n",
       "7            Tail_Number      0      0.0\n",
       "8               DepDel15      0      0.0\n",
       "9   DepartureDelayGroups      0      0.0\n",
       "10               TaxiOut      0      0.0\n",
       "11             WheelsOff      0      0.0\n",
       "12              WheelsOn      0      0.0\n",
       "13                TaxiIn      0      0.0\n",
       "14              ArrDelay      0      0.0\n",
       "15              ArrDel15      0      0.0\n",
       "16    ArrivalDelayGroups      0      0.0"
      ]
     },
     "execution_count": 8,
     "metadata": {},
     "output_type": "execute_result"
    }
   ],
   "source": [
    "# Cancelled and Diverted flights with null values\n",
    "null_df = pd.DataFrame(flight_data_df[(flight_data_df['Cancelled'] == False) & (flight_data_df['Diverted'] == False)][flight_data_df.columns[flight_data_df.isnull().any()]].isnull().sum()).reset_index()\n",
    "null_df.columns = ['Feature', 'Value']\n",
    "null_df['Percent'] = round((null_df['Value'] / flight_data_df.shape[0] * 100),2)\n",
    "\n",
    "null_df"
   ]
  },
  {
   "attachments": {},
   "cell_type": "markdown",
   "id": "58df3290",
   "metadata": {},
   "source": [
    "__Duplicate Values__\n",
    "There are no duplicate values in the data set. No action was needed."
   ]
  },
  {
   "cell_type": "code",
   "execution_count": 9,
   "id": "9ffc9c39",
   "metadata": {},
   "outputs": [
    {
     "data": {
      "text/plain": [
       "0"
      ]
     },
     "execution_count": 9,
     "metadata": {},
     "output_type": "execute_result"
    }
   ],
   "source": [
    "# Duplicate record validation\n",
    "flight_data_df.duplicated().sum()"
   ]
  },
  {
   "attachments": {},
   "cell_type": "markdown",
   "id": "0c0d24b8",
   "metadata": {},
   "source": [
    "__Data Type Conversion__\n",
    "In this section we grouped all features by their correct data type and converted each to their coresponding group. "
   ]
  },
  {
   "cell_type": "code",
   "execution_count": 10,
   "id": "79df3635",
   "metadata": {},
   "outputs": [
    {
     "data": {
      "text/html": [
       "<div>\n",
       "<style scoped>\n",
       "    .dataframe tbody tr th:only-of-type {\n",
       "        vertical-align: middle;\n",
       "    }\n",
       "\n",
       "    .dataframe tbody tr th {\n",
       "        vertical-align: top;\n",
       "    }\n",
       "\n",
       "    .dataframe thead th {\n",
       "        text-align: right;\n",
       "    }\n",
       "</style>\n",
       "<table border=\"1\" class=\"dataframe\">\n",
       "  <thead>\n",
       "    <tr style=\"text-align: right;\">\n",
       "      <th></th>\n",
       "      <th>FlightDate</th>\n",
       "      <th>Airline</th>\n",
       "      <th>Origin</th>\n",
       "      <th>Dest</th>\n",
       "      <th>Cancelled</th>\n",
       "      <th>Diverted</th>\n",
       "      <th>CRSDepTime</th>\n",
       "      <th>DepTime</th>\n",
       "      <th>DepDelayMinutes</th>\n",
       "      <th>DepDelay</th>\n",
       "      <th>ArrTime</th>\n",
       "      <th>ArrDelayMinutes</th>\n",
       "      <th>AirTime</th>\n",
       "      <th>CRSElapsedTime</th>\n",
       "      <th>ActualElapsedTime</th>\n",
       "      <th>Distance</th>\n",
       "      <th>Year</th>\n",
       "      <th>Quarter</th>\n",
       "      <th>Month</th>\n",
       "      <th>DayofMonth</th>\n",
       "      <th>DayOfWeek</th>\n",
       "      <th>Marketing_Airline_Network</th>\n",
       "      <th>Operated_or_Branded_Code_Share_Partners</th>\n",
       "      <th>DOT_ID_Marketing_Airline</th>\n",
       "      <th>IATA_Code_Marketing_Airline</th>\n",
       "      <th>Flight_Number_Marketing_Airline</th>\n",
       "      <th>Operating_Airline</th>\n",
       "      <th>DOT_ID_Operating_Airline</th>\n",
       "      <th>IATA_Code_Operating_Airline</th>\n",
       "      <th>Tail_Number</th>\n",
       "      <th>Flight_Number_Operating_Airline</th>\n",
       "      <th>OriginAirportID</th>\n",
       "      <th>OriginAirportSeqID</th>\n",
       "      <th>OriginCityMarketID</th>\n",
       "      <th>OriginCityName</th>\n",
       "      <th>OriginState</th>\n",
       "      <th>OriginStateFips</th>\n",
       "      <th>OriginStateName</th>\n",
       "      <th>OriginWac</th>\n",
       "      <th>DestAirportID</th>\n",
       "      <th>DestAirportSeqID</th>\n",
       "      <th>DestCityMarketID</th>\n",
       "      <th>DestCityName</th>\n",
       "      <th>DestState</th>\n",
       "      <th>DestStateFips</th>\n",
       "      <th>DestStateName</th>\n",
       "      <th>DestWac</th>\n",
       "      <th>DepDel15</th>\n",
       "      <th>DepartureDelayGroups</th>\n",
       "      <th>DepTimeBlk</th>\n",
       "      <th>TaxiOut</th>\n",
       "      <th>WheelsOff</th>\n",
       "      <th>WheelsOn</th>\n",
       "      <th>TaxiIn</th>\n",
       "      <th>CRSArrTime</th>\n",
       "      <th>ArrDelay</th>\n",
       "      <th>ArrDel15</th>\n",
       "      <th>ArrivalDelayGroups</th>\n",
       "      <th>ArrTimeBlk</th>\n",
       "      <th>DistanceGroup</th>\n",
       "      <th>DivAirportLandings</th>\n",
       "    </tr>\n",
       "  </thead>\n",
       "  <tbody>\n",
       "    <tr>\n",
       "      <th>0</th>\n",
       "      <td>2022-04-04</td>\n",
       "      <td>Commutair Aka Champlain Enterprises, Inc.</td>\n",
       "      <td>GJT</td>\n",
       "      <td>DEN</td>\n",
       "      <td>False</td>\n",
       "      <td>False</td>\n",
       "      <td>1133</td>\n",
       "      <td>1123.0</td>\n",
       "      <td>0.0</td>\n",
       "      <td>-10.0</td>\n",
       "      <td>1228.0</td>\n",
       "      <td>0.0</td>\n",
       "      <td>40.0</td>\n",
       "      <td>72.0</td>\n",
       "      <td>65.0</td>\n",
       "      <td>212.0</td>\n",
       "      <td>2022</td>\n",
       "      <td>2</td>\n",
       "      <td>4</td>\n",
       "      <td>4</td>\n",
       "      <td>1</td>\n",
       "      <td>UA</td>\n",
       "      <td>UA_CODESHARE</td>\n",
       "      <td>19977</td>\n",
       "      <td>UA</td>\n",
       "      <td>4301</td>\n",
       "      <td>C5</td>\n",
       "      <td>20445</td>\n",
       "      <td>C5</td>\n",
       "      <td>N21144</td>\n",
       "      <td>4301</td>\n",
       "      <td>11921</td>\n",
       "      <td>1192102</td>\n",
       "      <td>31921</td>\n",
       "      <td>Grand Junction, CO</td>\n",
       "      <td>CO</td>\n",
       "      <td>8</td>\n",
       "      <td>Colorado</td>\n",
       "      <td>82</td>\n",
       "      <td>11292</td>\n",
       "      <td>1129202</td>\n",
       "      <td>30325</td>\n",
       "      <td>Denver, CO</td>\n",
       "      <td>CO</td>\n",
       "      <td>8</td>\n",
       "      <td>Colorado</td>\n",
       "      <td>82</td>\n",
       "      <td>0.0</td>\n",
       "      <td>-1.0</td>\n",
       "      <td>1100-1159</td>\n",
       "      <td>17.0</td>\n",
       "      <td>1140.0</td>\n",
       "      <td>1220.0</td>\n",
       "      <td>8.0</td>\n",
       "      <td>1245</td>\n",
       "      <td>-17.0</td>\n",
       "      <td>0.0</td>\n",
       "      <td>-2.0</td>\n",
       "      <td>1200-1259</td>\n",
       "      <td>1</td>\n",
       "      <td>0</td>\n",
       "    </tr>\n",
       "    <tr>\n",
       "      <th>1</th>\n",
       "      <td>2022-04-04</td>\n",
       "      <td>Commutair Aka Champlain Enterprises, Inc.</td>\n",
       "      <td>HRL</td>\n",
       "      <td>IAH</td>\n",
       "      <td>False</td>\n",
       "      <td>False</td>\n",
       "      <td>732</td>\n",
       "      <td>728.0</td>\n",
       "      <td>0.0</td>\n",
       "      <td>-4.0</td>\n",
       "      <td>848.0</td>\n",
       "      <td>0.0</td>\n",
       "      <td>55.0</td>\n",
       "      <td>77.0</td>\n",
       "      <td>80.0</td>\n",
       "      <td>295.0</td>\n",
       "      <td>2022</td>\n",
       "      <td>2</td>\n",
       "      <td>4</td>\n",
       "      <td>4</td>\n",
       "      <td>1</td>\n",
       "      <td>UA</td>\n",
       "      <td>UA_CODESHARE</td>\n",
       "      <td>19977</td>\n",
       "      <td>UA</td>\n",
       "      <td>4299</td>\n",
       "      <td>C5</td>\n",
       "      <td>20445</td>\n",
       "      <td>C5</td>\n",
       "      <td>N16170</td>\n",
       "      <td>4299</td>\n",
       "      <td>12206</td>\n",
       "      <td>1220605</td>\n",
       "      <td>32206</td>\n",
       "      <td>Harlingen/San Benito, TX</td>\n",
       "      <td>TX</td>\n",
       "      <td>48</td>\n",
       "      <td>Texas</td>\n",
       "      <td>74</td>\n",
       "      <td>12266</td>\n",
       "      <td>1226603</td>\n",
       "      <td>31453</td>\n",
       "      <td>Houston, TX</td>\n",
       "      <td>TX</td>\n",
       "      <td>48</td>\n",
       "      <td>Texas</td>\n",
       "      <td>74</td>\n",
       "      <td>0.0</td>\n",
       "      <td>-1.0</td>\n",
       "      <td>0700-0759</td>\n",
       "      <td>16.0</td>\n",
       "      <td>744.0</td>\n",
       "      <td>839.0</td>\n",
       "      <td>9.0</td>\n",
       "      <td>849</td>\n",
       "      <td>-1.0</td>\n",
       "      <td>0.0</td>\n",
       "      <td>-1.0</td>\n",
       "      <td>0800-0859</td>\n",
       "      <td>2</td>\n",
       "      <td>0</td>\n",
       "    </tr>\n",
       "    <tr>\n",
       "      <th>2</th>\n",
       "      <td>2022-04-04</td>\n",
       "      <td>Commutair Aka Champlain Enterprises, Inc.</td>\n",
       "      <td>DRO</td>\n",
       "      <td>DEN</td>\n",
       "      <td>False</td>\n",
       "      <td>False</td>\n",
       "      <td>1529</td>\n",
       "      <td>1514.0</td>\n",
       "      <td>0.0</td>\n",
       "      <td>-15.0</td>\n",
       "      <td>1636.0</td>\n",
       "      <td>0.0</td>\n",
       "      <td>47.0</td>\n",
       "      <td>70.0</td>\n",
       "      <td>82.0</td>\n",
       "      <td>251.0</td>\n",
       "      <td>2022</td>\n",
       "      <td>2</td>\n",
       "      <td>4</td>\n",
       "      <td>4</td>\n",
       "      <td>1</td>\n",
       "      <td>UA</td>\n",
       "      <td>UA_CODESHARE</td>\n",
       "      <td>19977</td>\n",
       "      <td>UA</td>\n",
       "      <td>4298</td>\n",
       "      <td>C5</td>\n",
       "      <td>20445</td>\n",
       "      <td>C5</td>\n",
       "      <td>N21144</td>\n",
       "      <td>4298</td>\n",
       "      <td>11413</td>\n",
       "      <td>1141307</td>\n",
       "      <td>30285</td>\n",
       "      <td>Durango, CO</td>\n",
       "      <td>CO</td>\n",
       "      <td>8</td>\n",
       "      <td>Colorado</td>\n",
       "      <td>82</td>\n",
       "      <td>11292</td>\n",
       "      <td>1129202</td>\n",
       "      <td>30325</td>\n",
       "      <td>Denver, CO</td>\n",
       "      <td>CO</td>\n",
       "      <td>8</td>\n",
       "      <td>Colorado</td>\n",
       "      <td>82</td>\n",
       "      <td>0.0</td>\n",
       "      <td>-1.0</td>\n",
       "      <td>1500-1559</td>\n",
       "      <td>21.0</td>\n",
       "      <td>1535.0</td>\n",
       "      <td>1622.0</td>\n",
       "      <td>14.0</td>\n",
       "      <td>1639</td>\n",
       "      <td>-3.0</td>\n",
       "      <td>0.0</td>\n",
       "      <td>-1.0</td>\n",
       "      <td>1600-1659</td>\n",
       "      <td>2</td>\n",
       "      <td>0</td>\n",
       "    </tr>\n",
       "    <tr>\n",
       "      <th>3</th>\n",
       "      <td>2022-04-04</td>\n",
       "      <td>Commutair Aka Champlain Enterprises, Inc.</td>\n",
       "      <td>IAH</td>\n",
       "      <td>GPT</td>\n",
       "      <td>False</td>\n",
       "      <td>False</td>\n",
       "      <td>1435</td>\n",
       "      <td>1430.0</td>\n",
       "      <td>0.0</td>\n",
       "      <td>-5.0</td>\n",
       "      <td>1547.0</td>\n",
       "      <td>0.0</td>\n",
       "      <td>57.0</td>\n",
       "      <td>90.0</td>\n",
       "      <td>77.0</td>\n",
       "      <td>376.0</td>\n",
       "      <td>2022</td>\n",
       "      <td>2</td>\n",
       "      <td>4</td>\n",
       "      <td>4</td>\n",
       "      <td>1</td>\n",
       "      <td>UA</td>\n",
       "      <td>UA_CODESHARE</td>\n",
       "      <td>19977</td>\n",
       "      <td>UA</td>\n",
       "      <td>4296</td>\n",
       "      <td>C5</td>\n",
       "      <td>20445</td>\n",
       "      <td>C5</td>\n",
       "      <td>N11184</td>\n",
       "      <td>4296</td>\n",
       "      <td>12266</td>\n",
       "      <td>1226603</td>\n",
       "      <td>31453</td>\n",
       "      <td>Houston, TX</td>\n",
       "      <td>TX</td>\n",
       "      <td>48</td>\n",
       "      <td>Texas</td>\n",
       "      <td>74</td>\n",
       "      <td>11973</td>\n",
       "      <td>1197302</td>\n",
       "      <td>31973</td>\n",
       "      <td>Gulfport/Biloxi, MS</td>\n",
       "      <td>MS</td>\n",
       "      <td>28</td>\n",
       "      <td>Mississippi</td>\n",
       "      <td>53</td>\n",
       "      <td>0.0</td>\n",
       "      <td>-1.0</td>\n",
       "      <td>1400-1459</td>\n",
       "      <td>16.0</td>\n",
       "      <td>1446.0</td>\n",
       "      <td>1543.0</td>\n",
       "      <td>4.0</td>\n",
       "      <td>1605</td>\n",
       "      <td>-18.0</td>\n",
       "      <td>0.0</td>\n",
       "      <td>-2.0</td>\n",
       "      <td>1600-1659</td>\n",
       "      <td>2</td>\n",
       "      <td>0</td>\n",
       "    </tr>\n",
       "    <tr>\n",
       "      <th>4</th>\n",
       "      <td>2022-04-04</td>\n",
       "      <td>Commutair Aka Champlain Enterprises, Inc.</td>\n",
       "      <td>DRO</td>\n",
       "      <td>DEN</td>\n",
       "      <td>False</td>\n",
       "      <td>False</td>\n",
       "      <td>1135</td>\n",
       "      <td>1135.0</td>\n",
       "      <td>0.0</td>\n",
       "      <td>0.0</td>\n",
       "      <td>1251.0</td>\n",
       "      <td>6.0</td>\n",
       "      <td>49.0</td>\n",
       "      <td>70.0</td>\n",
       "      <td>76.0</td>\n",
       "      <td>251.0</td>\n",
       "      <td>2022</td>\n",
       "      <td>2</td>\n",
       "      <td>4</td>\n",
       "      <td>4</td>\n",
       "      <td>1</td>\n",
       "      <td>UA</td>\n",
       "      <td>UA_CODESHARE</td>\n",
       "      <td>19977</td>\n",
       "      <td>UA</td>\n",
       "      <td>4295</td>\n",
       "      <td>C5</td>\n",
       "      <td>20445</td>\n",
       "      <td>C5</td>\n",
       "      <td>N17146</td>\n",
       "      <td>4295</td>\n",
       "      <td>11413</td>\n",
       "      <td>1141307</td>\n",
       "      <td>30285</td>\n",
       "      <td>Durango, CO</td>\n",
       "      <td>CO</td>\n",
       "      <td>8</td>\n",
       "      <td>Colorado</td>\n",
       "      <td>82</td>\n",
       "      <td>11292</td>\n",
       "      <td>1129202</td>\n",
       "      <td>30325</td>\n",
       "      <td>Denver, CO</td>\n",
       "      <td>CO</td>\n",
       "      <td>8</td>\n",
       "      <td>Colorado</td>\n",
       "      <td>82</td>\n",
       "      <td>0.0</td>\n",
       "      <td>0.0</td>\n",
       "      <td>1100-1159</td>\n",
       "      <td>19.0</td>\n",
       "      <td>1154.0</td>\n",
       "      <td>1243.0</td>\n",
       "      <td>8.0</td>\n",
       "      <td>1245</td>\n",
       "      <td>6.0</td>\n",
       "      <td>0.0</td>\n",
       "      <td>0.0</td>\n",
       "      <td>1200-1259</td>\n",
       "      <td>2</td>\n",
       "      <td>0</td>\n",
       "    </tr>\n",
       "  </tbody>\n",
       "</table>\n",
       "</div>"
      ],
      "text/plain": [
       "   FlightDate                                    Airline Origin Dest  \\\n",
       "0  2022-04-04  Commutair Aka Champlain Enterprises, Inc.    GJT  DEN   \n",
       "1  2022-04-04  Commutair Aka Champlain Enterprises, Inc.    HRL  IAH   \n",
       "2  2022-04-04  Commutair Aka Champlain Enterprises, Inc.    DRO  DEN   \n",
       "3  2022-04-04  Commutair Aka Champlain Enterprises, Inc.    IAH  GPT   \n",
       "4  2022-04-04  Commutair Aka Champlain Enterprises, Inc.    DRO  DEN   \n",
       "\n",
       "   Cancelled  Diverted  CRSDepTime  DepTime  DepDelayMinutes  DepDelay  \\\n",
       "0      False     False        1133   1123.0              0.0     -10.0   \n",
       "1      False     False         732    728.0              0.0      -4.0   \n",
       "2      False     False        1529   1514.0              0.0     -15.0   \n",
       "3      False     False        1435   1430.0              0.0      -5.0   \n",
       "4      False     False        1135   1135.0              0.0       0.0   \n",
       "\n",
       "   ArrTime  ArrDelayMinutes  AirTime  CRSElapsedTime  ActualElapsedTime  \\\n",
       "0   1228.0              0.0     40.0            72.0               65.0   \n",
       "1    848.0              0.0     55.0            77.0               80.0   \n",
       "2   1636.0              0.0     47.0            70.0               82.0   \n",
       "3   1547.0              0.0     57.0            90.0               77.0   \n",
       "4   1251.0              6.0     49.0            70.0               76.0   \n",
       "\n",
       "   Distance  Year  Quarter  Month  DayofMonth  DayOfWeek  \\\n",
       "0     212.0  2022        2      4           4          1   \n",
       "1     295.0  2022        2      4           4          1   \n",
       "2     251.0  2022        2      4           4          1   \n",
       "3     376.0  2022        2      4           4          1   \n",
       "4     251.0  2022        2      4           4          1   \n",
       "\n",
       "  Marketing_Airline_Network Operated_or_Branded_Code_Share_Partners  \\\n",
       "0                        UA                            UA_CODESHARE   \n",
       "1                        UA                            UA_CODESHARE   \n",
       "2                        UA                            UA_CODESHARE   \n",
       "3                        UA                            UA_CODESHARE   \n",
       "4                        UA                            UA_CODESHARE   \n",
       "\n",
       "   DOT_ID_Marketing_Airline IATA_Code_Marketing_Airline  \\\n",
       "0                     19977                          UA   \n",
       "1                     19977                          UA   \n",
       "2                     19977                          UA   \n",
       "3                     19977                          UA   \n",
       "4                     19977                          UA   \n",
       "\n",
       "   Flight_Number_Marketing_Airline Operating_Airline  \\\n",
       "0                             4301                C5   \n",
       "1                             4299                C5   \n",
       "2                             4298                C5   \n",
       "3                             4296                C5   \n",
       "4                             4295                C5   \n",
       "\n",
       "   DOT_ID_Operating_Airline IATA_Code_Operating_Airline Tail_Number  \\\n",
       "0                     20445                          C5      N21144   \n",
       "1                     20445                          C5      N16170   \n",
       "2                     20445                          C5      N21144   \n",
       "3                     20445                          C5      N11184   \n",
       "4                     20445                          C5      N17146   \n",
       "\n",
       "   Flight_Number_Operating_Airline  OriginAirportID  OriginAirportSeqID  \\\n",
       "0                             4301            11921             1192102   \n",
       "1                             4299            12206             1220605   \n",
       "2                             4298            11413             1141307   \n",
       "3                             4296            12266             1226603   \n",
       "4                             4295            11413             1141307   \n",
       "\n",
       "   OriginCityMarketID            OriginCityName OriginState  OriginStateFips  \\\n",
       "0               31921        Grand Junction, CO          CO                8   \n",
       "1               32206  Harlingen/San Benito, TX          TX               48   \n",
       "2               30285               Durango, CO          CO                8   \n",
       "3               31453               Houston, TX          TX               48   \n",
       "4               30285               Durango, CO          CO                8   \n",
       "\n",
       "  OriginStateName  OriginWac  DestAirportID  DestAirportSeqID  \\\n",
       "0        Colorado         82          11292           1129202   \n",
       "1           Texas         74          12266           1226603   \n",
       "2        Colorado         82          11292           1129202   \n",
       "3           Texas         74          11973           1197302   \n",
       "4        Colorado         82          11292           1129202   \n",
       "\n",
       "   DestCityMarketID         DestCityName DestState  DestStateFips  \\\n",
       "0             30325           Denver, CO        CO              8   \n",
       "1             31453          Houston, TX        TX             48   \n",
       "2             30325           Denver, CO        CO              8   \n",
       "3             31973  Gulfport/Biloxi, MS        MS             28   \n",
       "4             30325           Denver, CO        CO              8   \n",
       "\n",
       "  DestStateName  DestWac  DepDel15  DepartureDelayGroups DepTimeBlk  TaxiOut  \\\n",
       "0      Colorado       82       0.0                  -1.0  1100-1159     17.0   \n",
       "1         Texas       74       0.0                  -1.0  0700-0759     16.0   \n",
       "2      Colorado       82       0.0                  -1.0  1500-1559     21.0   \n",
       "3   Mississippi       53       0.0                  -1.0  1400-1459     16.0   \n",
       "4      Colorado       82       0.0                   0.0  1100-1159     19.0   \n",
       "\n",
       "   WheelsOff  WheelsOn  TaxiIn  CRSArrTime  ArrDelay  ArrDel15  \\\n",
       "0     1140.0    1220.0     8.0        1245     -17.0       0.0   \n",
       "1      744.0     839.0     9.0         849      -1.0       0.0   \n",
       "2     1535.0    1622.0    14.0        1639      -3.0       0.0   \n",
       "3     1446.0    1543.0     4.0        1605     -18.0       0.0   \n",
       "4     1154.0    1243.0     8.0        1245       6.0       0.0   \n",
       "\n",
       "   ArrivalDelayGroups ArrTimeBlk  DistanceGroup  DivAirportLandings  \n",
       "0                -2.0  1200-1259              1                   0  \n",
       "1                -1.0  0800-0859              2                   0  \n",
       "2                -1.0  1600-1659              2                   0  \n",
       "3                -2.0  1600-1659              2                   0  \n",
       "4                 0.0  1200-1259              2                   0  "
      ]
     },
     "execution_count": 10,
     "metadata": {},
     "output_type": "execute_result"
    }
   ],
   "source": [
    "flight_data_df.head()"
   ]
  },
  {
   "cell_type": "code",
   "execution_count": 17,
   "id": "1e1c5fbb",
   "metadata": {},
   "outputs": [],
   "source": [
    "# Features grouped by data type\n",
    "cat_features = ['Airline', 'ArrTimeBlk', 'Cancelled', 'DepartureDelayGroups', 'DepDel15', 'DepTimeBlk', 'Dest', 'DestAirportID', 'DestAirportSeqID', 'DestCityMarketID', 'DestCityName', 'DestState', 'DestStateFips', 'DestStateName', 'DestWac', 'Diverted', 'DOT_ID_Marketing_Airline', 'DOT_ID_Operating_Airline', 'Flight_Number_Marketing_Airline', 'Flight_Number_Operating_Airline', 'IATA_Code_Marketing_Airline', 'IATA_Code_Operating_Airline', 'Marketing_Airline_Network', 'Operated_or_Branded_Code_Share_Partners', 'Operating_Airline', 'Origin', 'OriginAirportID', 'OriginAirportSeqID', 'OriginCityMarketID', 'OriginCityName', 'OriginState', 'OriginStateFips', 'OriginStateName', 'OriginWac', 'Tail_Number']\n",
    "cont_features = ['ActualElapsedTime', 'AirTime', 'ArrDel15', 'ArrDelay', 'ArrDelayMinutes', 'ArrivalDelayGroups', 'ArrTime', 'CRSArrTime', 'CRSDepTime', 'CRSElapsedTime', 'DepDelay', 'DepDelayMinutes', 'DepTime', 'Distance', 'DivAirportLandings', 'TaxiIn', 'TaxiOut', 'WheelsOff', 'WheelsOn']\n",
    "ord_features = ['Year', 'Quarter', 'Month', 'DayofMonth', 'DayOfWeek']\n",
    "date_feature = ['FlightDate']"
   ]
  },
  {
   "cell_type": "code",
   "execution_count": 29,
   "id": "cae44a31",
   "metadata": {},
   "outputs": [],
   "source": [
    "# Features converted to corresponding group type\n",
    "flight_data_df[cat_features] = flight_data_df[cat_features].astype(\"string\")\n",
    "flight_data_df[ord_features] = flight_data_df[ord_features].astype(np.int64)\n",
    "flight_data_df[cont_features] = flight_data_df[cont_features].astype(np.float64)\n",
    "flight_data_df['FlightDate'] = pd.to_datetime(flight_data_df['FlightDate']).dt.date"
   ]
  },
  {
   "cell_type": "code",
   "execution_count": 30,
   "id": "62b9b7d6",
   "metadata": {},
   "outputs": [
    {
     "name": "stdout",
     "output_type": "stream",
     "text": [
      "<class 'pandas.core.frame.DataFrame'>\n",
      "RangeIndex: 4078318 entries, 0 to 4078317\n",
      "Data columns (total 61 columns):\n",
      " #   Column                                   Dtype  \n",
      "---  ------                                   -----  \n",
      " 0   FlightDate                               object \n",
      " 1   Airline                                  string \n",
      " 2   Origin                                   string \n",
      " 3   Dest                                     string \n",
      " 4   Cancelled                                string \n",
      " 5   Diverted                                 string \n",
      " 6   CRSDepTime                               float64\n",
      " 7   DepTime                                  float64\n",
      " 8   DepDelayMinutes                          float64\n",
      " 9   DepDelay                                 float64\n",
      " 10  ArrTime                                  float64\n",
      " 11  ArrDelayMinutes                          float64\n",
      " 12  AirTime                                  float64\n",
      " 13  CRSElapsedTime                           float64\n",
      " 14  ActualElapsedTime                        float64\n",
      " 15  Distance                                 float64\n",
      " 16  Year                                     int64  \n",
      " 17  Quarter                                  int64  \n",
      " 18  Month                                    int64  \n",
      " 19  DayofMonth                               int64  \n",
      " 20  DayOfWeek                                int64  \n",
      " 21  Marketing_Airline_Network                string \n",
      " 22  Operated_or_Branded_Code_Share_Partners  string \n",
      " 23  DOT_ID_Marketing_Airline                 string \n",
      " 24  IATA_Code_Marketing_Airline              string \n",
      " 25  Flight_Number_Marketing_Airline          string \n",
      " 26  Operating_Airline                        string \n",
      " 27  DOT_ID_Operating_Airline                 string \n",
      " 28  IATA_Code_Operating_Airline              string \n",
      " 29  Tail_Number                              string \n",
      " 30  Flight_Number_Operating_Airline          string \n",
      " 31  OriginAirportID                          string \n",
      " 32  OriginAirportSeqID                       string \n",
      " 33  OriginCityMarketID                       string \n",
      " 34  OriginCityName                           string \n",
      " 35  OriginState                              string \n",
      " 36  OriginStateFips                          string \n",
      " 37  OriginStateName                          string \n",
      " 38  OriginWac                                string \n",
      " 39  DestAirportID                            string \n",
      " 40  DestAirportSeqID                         string \n",
      " 41  DestCityMarketID                         string \n",
      " 42  DestCityName                             string \n",
      " 43  DestState                                string \n",
      " 44  DestStateFips                            string \n",
      " 45  DestStateName                            string \n",
      " 46  DestWac                                  string \n",
      " 47  DepDel15                                 string \n",
      " 48  DepartureDelayGroups                     string \n",
      " 49  DepTimeBlk                               string \n",
      " 50  TaxiOut                                  float64\n",
      " 51  WheelsOff                                float64\n",
      " 52  WheelsOn                                 float64\n",
      " 53  TaxiIn                                   float64\n",
      " 54  CRSArrTime                               float64\n",
      " 55  ArrDelay                                 float64\n",
      " 56  ArrDel15                                 float64\n",
      " 57  ArrivalDelayGroups                       float64\n",
      " 58  ArrTimeBlk                               string \n",
      " 59  DistanceGroup                            int64  \n",
      " 60  DivAirportLandings                       float64\n",
      "dtypes: float64(19), int64(6), object(1), string(35)\n",
      "memory usage: 1.9+ GB\n"
     ]
    }
   ],
   "source": [
    "flight_data_df.info()"
   ]
  },
  {
   "cell_type": "code",
   "execution_count": null,
   "id": "f682d0db",
   "metadata": {},
   "outputs": [],
   "source": [
    "# let's start by first changing the numeric values to be floats\n",
    "# continous_features = ['','','','']\n",
    "\n",
    "\n",
    "#change all numeric fields to one type for univariate analysis"
   ]
  },
  {
   "cell_type": "code",
   "execution_count": null,
   "id": "213355cb",
   "metadata": {},
   "outputs": [],
   "source": [
    "# an the ordinal values to be integers\n",
    "# ordinal_features = ['','','','']"
   ]
  },
  {
   "cell_type": "code",
   "execution_count": null,
   "id": "d64f8e83",
   "metadata": {},
   "outputs": [],
   "source": [
    "# we won't touch these variables, keep them as categorical\n",
    "#categ_features = ['','','','','']"
   ]
  },
  {
   "cell_type": "code",
   "execution_count": null,
   "id": "6ce2c45a",
   "metadata": {},
   "outputs": [],
   "source": [
    "#use the \"astype\" function to change the variable type\n",
    "#df[continous_features] = df[continous_features].astype(np.float64)\n",
    "#df[ordinal_features] = df[ordinal_features].astype(np.int64)\n",
    "\n",
    "#now the data should be treated better\n",
    "#df.head()"
   ]
  },
  {
   "cell_type": "code",
   "execution_count": 36,
   "id": "5f0214cb",
   "metadata": {},
   "outputs": [
    {
     "name": "stdout",
     "output_type": "stream",
     "text": [
      "Index(['FlightDate'], dtype='object')\n",
      "['CRSDepTime', 'DepTime', 'DepDelayMinutes', 'DepDelay', 'ArrTime', 'ArrDelayMinutes', 'AirTime', 'CRSElapsedTime', 'ActualElapsedTime', 'Distance', 'Year', 'Quarter', 'Month', 'DayofMonth', 'DayOfWeek', 'TaxiOut', 'WheelsOff', 'WheelsOn', 'TaxiIn', 'CRSArrTime', 'ArrDelay', 'ArrDel15', 'ArrivalDelayGroups', 'DistanceGroup', 'DivAirportLandings']\n"
     ]
    }
   ],
   "source": [
    "#Separate Numerical and Categorical variables for easy analysis\n",
    "\n",
    "cat_cols=flight_data_df.select_dtypes(include=['object']).columns\n",
    "num_cols = flight_data_df.select_dtypes(include=np.number).columns.tolist()\n",
    "\n",
    "print(cat_cols)\n",
    "print(num_cols)\n",
    "\n",
    "# Code reference from https://www.analyticsvidhya.com/blog/2022/07/step-by-step-exploratory-data-analysis-eda-using-python/"
   ]
  },
  {
   "cell_type": "markdown",
   "id": "38929bff",
   "metadata": {},
   "source": [
    "# Simple Statistics\n",
    "Visualize appropriate statistics (e.g., range, mode, mean, median, variance, counts) for a subset of attributes. Describe anything meaningful you found from this or if you found something potentially interesting. Note: You can also use data from other sources for comparison. Explain why the statistics run are meaningful. \n"
   ]
  },
  {
   "cell_type": "code",
   "execution_count": 31,
   "id": "3686b54e",
   "metadata": {},
   "outputs": [
    {
     "data": {
      "text/html": [
       "<div>\n",
       "<style scoped>\n",
       "    .dataframe tbody tr th:only-of-type {\n",
       "        vertical-align: middle;\n",
       "    }\n",
       "\n",
       "    .dataframe tbody tr th {\n",
       "        vertical-align: top;\n",
       "    }\n",
       "\n",
       "    .dataframe thead th {\n",
       "        text-align: right;\n",
       "    }\n",
       "</style>\n",
       "<table border=\"1\" class=\"dataframe\">\n",
       "  <thead>\n",
       "    <tr style=\"text-align: right;\">\n",
       "      <th></th>\n",
       "      <th>CRSDepTime</th>\n",
       "      <th>DepTime</th>\n",
       "      <th>DepDelayMinutes</th>\n",
       "      <th>DepDelay</th>\n",
       "      <th>ArrTime</th>\n",
       "      <th>ArrDelayMinutes</th>\n",
       "      <th>AirTime</th>\n",
       "      <th>CRSElapsedTime</th>\n",
       "      <th>ActualElapsedTime</th>\n",
       "      <th>Distance</th>\n",
       "      <th>Year</th>\n",
       "      <th>Quarter</th>\n",
       "      <th>Month</th>\n",
       "      <th>DayofMonth</th>\n",
       "      <th>DayOfWeek</th>\n",
       "      <th>TaxiOut</th>\n",
       "      <th>WheelsOff</th>\n",
       "      <th>WheelsOn</th>\n",
       "      <th>TaxiIn</th>\n",
       "      <th>CRSArrTime</th>\n",
       "      <th>ArrDelay</th>\n",
       "      <th>ArrDel15</th>\n",
       "      <th>ArrivalDelayGroups</th>\n",
       "      <th>DistanceGroup</th>\n",
       "      <th>DivAirportLandings</th>\n",
       "    </tr>\n",
       "  </thead>\n",
       "  <tbody>\n",
       "    <tr>\n",
       "      <th>count</th>\n",
       "      <td>4.078318e+06</td>\n",
       "      <td>3.957885e+06</td>\n",
       "      <td>3.957823e+06</td>\n",
       "      <td>3.957823e+06</td>\n",
       "      <td>3.954079e+06</td>\n",
       "      <td>3.944916e+06</td>\n",
       "      <td>3.944916e+06</td>\n",
       "      <td>4.078318e+06</td>\n",
       "      <td>3.944916e+06</td>\n",
       "      <td>4.078318e+06</td>\n",
       "      <td>4078318.0</td>\n",
       "      <td>4.078318e+06</td>\n",
       "      <td>4.078318e+06</td>\n",
       "      <td>4.078318e+06</td>\n",
       "      <td>4.078318e+06</td>\n",
       "      <td>3.955652e+06</td>\n",
       "      <td>3.955652e+06</td>\n",
       "      <td>3.954076e+06</td>\n",
       "      <td>3.954076e+06</td>\n",
       "      <td>4.078318e+06</td>\n",
       "      <td>3.944916e+06</td>\n",
       "      <td>3.944916e+06</td>\n",
       "      <td>3.944916e+06</td>\n",
       "      <td>4.078318e+06</td>\n",
       "      <td>4.078318e+06</td>\n",
       "    </tr>\n",
       "    <tr>\n",
       "      <th>mean</th>\n",
       "      <td>1.329587e+03</td>\n",
       "      <td>1.334374e+03</td>\n",
       "      <td>1.601494e+01</td>\n",
       "      <td>1.309049e+01</td>\n",
       "      <td>1.457886e+03</td>\n",
       "      <td>1.578307e+01</td>\n",
       "      <td>1.110075e+02</td>\n",
       "      <td>1.413211e+02</td>\n",
       "      <td>1.358624e+02</td>\n",
       "      <td>7.978657e+02</td>\n",
       "      <td>2022.0</td>\n",
       "      <td>1.741207e+00</td>\n",
       "      <td>4.083803e+00</td>\n",
       "      <td>1.571131e+01</td>\n",
       "      <td>4.005566e+00</td>\n",
       "      <td>1.697375e+01</td>\n",
       "      <td>1.356576e+03</td>\n",
       "      <td>1.455073e+03</td>\n",
       "      <td>7.894387e+00</td>\n",
       "      <td>1.486058e+03</td>\n",
       "      <td>7.528486e+00</td>\n",
       "      <td>2.164715e-01</td>\n",
       "      <td>-6.256103e-02</td>\n",
       "      <td>3.663516e+00</td>\n",
       "      <td>3.685098e-03</td>\n",
       "    </tr>\n",
       "    <tr>\n",
       "      <th>std</th>\n",
       "      <td>4.904801e+02</td>\n",
       "      <td>5.056219e+02</td>\n",
       "      <td>5.231498e+01</td>\n",
       "      <td>5.332016e+01</td>\n",
       "      <td>5.431841e+02</td>\n",
       "      <td>5.198424e+01</td>\n",
       "      <td>6.996246e+01</td>\n",
       "      <td>7.179635e+01</td>\n",
       "      <td>7.185501e+01</td>\n",
       "      <td>5.914742e+02</td>\n",
       "      <td>0.0</td>\n",
       "      <td>7.037563e-01</td>\n",
       "      <td>1.998918e+00</td>\n",
       "      <td>8.760122e+00</td>\n",
       "      <td>2.007050e+00</td>\n",
       "      <td>9.495407e+00</td>\n",
       "      <td>5.075580e+02</td>\n",
       "      <td>5.378428e+02</td>\n",
       "      <td>6.663118e+00</td>\n",
       "      <td>5.185078e+02</td>\n",
       "      <td>5.524625e+01</td>\n",
       "      <td>4.118393e-01</td>\n",
       "      <td>2.487442e+00</td>\n",
       "      <td>2.320848e+00</td>\n",
       "      <td>1.141331e-01</td>\n",
       "    </tr>\n",
       "    <tr>\n",
       "      <th>min</th>\n",
       "      <td>1.000000e+00</td>\n",
       "      <td>1.000000e+00</td>\n",
       "      <td>0.000000e+00</td>\n",
       "      <td>-7.800000e+01</td>\n",
       "      <td>1.000000e+00</td>\n",
       "      <td>0.000000e+00</td>\n",
       "      <td>8.000000e+00</td>\n",
       "      <td>-4.800000e+01</td>\n",
       "      <td>1.400000e+01</td>\n",
       "      <td>3.100000e+01</td>\n",
       "      <td>2022.0</td>\n",
       "      <td>1.000000e+00</td>\n",
       "      <td>1.000000e+00</td>\n",
       "      <td>1.000000e+00</td>\n",
       "      <td>1.000000e+00</td>\n",
       "      <td>1.000000e+00</td>\n",
       "      <td>1.000000e+00</td>\n",
       "      <td>1.000000e+00</td>\n",
       "      <td>1.000000e+00</td>\n",
       "      <td>1.000000e+00</td>\n",
       "      <td>-1.000000e+02</td>\n",
       "      <td>0.000000e+00</td>\n",
       "      <td>-2.000000e+00</td>\n",
       "      <td>1.000000e+00</td>\n",
       "      <td>0.000000e+00</td>\n",
       "    </tr>\n",
       "    <tr>\n",
       "      <th>25%</th>\n",
       "      <td>9.140000e+02</td>\n",
       "      <td>9.170000e+02</td>\n",
       "      <td>0.000000e+00</td>\n",
       "      <td>-5.000000e+00</td>\n",
       "      <td>1.046000e+03</td>\n",
       "      <td>0.000000e+00</td>\n",
       "      <td>6.000000e+01</td>\n",
       "      <td>8.900000e+01</td>\n",
       "      <td>8.300000e+01</td>\n",
       "      <td>3.680000e+02</td>\n",
       "      <td>2022.0</td>\n",
       "      <td>1.000000e+00</td>\n",
       "      <td>2.000000e+00</td>\n",
       "      <td>8.000000e+00</td>\n",
       "      <td>2.000000e+00</td>\n",
       "      <td>1.100000e+01</td>\n",
       "      <td>9.320000e+02</td>\n",
       "      <td>1.044000e+03</td>\n",
       "      <td>4.000000e+00</td>\n",
       "      <td>1.103000e+03</td>\n",
       "      <td>-1.400000e+01</td>\n",
       "      <td>0.000000e+00</td>\n",
       "      <td>-1.000000e+00</td>\n",
       "      <td>2.000000e+00</td>\n",
       "      <td>0.000000e+00</td>\n",
       "    </tr>\n",
       "    <tr>\n",
       "      <th>50%</th>\n",
       "      <td>1.320000e+03</td>\n",
       "      <td>1.325000e+03</td>\n",
       "      <td>0.000000e+00</td>\n",
       "      <td>-2.000000e+00</td>\n",
       "      <td>1.500000e+03</td>\n",
       "      <td>0.000000e+00</td>\n",
       "      <td>9.400000e+01</td>\n",
       "      <td>1.240000e+02</td>\n",
       "      <td>1.190000e+02</td>\n",
       "      <td>6.430000e+02</td>\n",
       "      <td>2022.0</td>\n",
       "      <td>2.000000e+00</td>\n",
       "      <td>4.000000e+00</td>\n",
       "      <td>1.600000e+01</td>\n",
       "      <td>4.000000e+00</td>\n",
       "      <td>1.500000e+01</td>\n",
       "      <td>1.338000e+03</td>\n",
       "      <td>1.456000e+03</td>\n",
       "      <td>6.000000e+00</td>\n",
       "      <td>1.513000e+03</td>\n",
       "      <td>-5.000000e+00</td>\n",
       "      <td>0.000000e+00</td>\n",
       "      <td>-1.000000e+00</td>\n",
       "      <td>3.000000e+00</td>\n",
       "      <td>0.000000e+00</td>\n",
       "    </tr>\n",
       "    <tr>\n",
       "      <th>75%</th>\n",
       "      <td>1.735000e+03</td>\n",
       "      <td>1.744000e+03</td>\n",
       "      <td>1.100000e+01</td>\n",
       "      <td>1.100000e+01</td>\n",
       "      <td>1.914000e+03</td>\n",
       "      <td>1.000000e+01</td>\n",
       "      <td>1.410000e+02</td>\n",
       "      <td>1.710000e+02</td>\n",
       "      <td>1.670000e+02</td>\n",
       "      <td>1.035000e+03</td>\n",
       "      <td>2022.0</td>\n",
       "      <td>2.000000e+00</td>\n",
       "      <td>6.000000e+00</td>\n",
       "      <td>2.300000e+01</td>\n",
       "      <td>6.000000e+00</td>\n",
       "      <td>1.900000e+01</td>\n",
       "      <td>1.758000e+03</td>\n",
       "      <td>1.909000e+03</td>\n",
       "      <td>9.000000e+00</td>\n",
       "      <td>1.920000e+03</td>\n",
       "      <td>1.000000e+01</td>\n",
       "      <td>0.000000e+00</td>\n",
       "      <td>0.000000e+00</td>\n",
       "      <td>5.000000e+00</td>\n",
       "      <td>0.000000e+00</td>\n",
       "    </tr>\n",
       "    <tr>\n",
       "      <th>max</th>\n",
       "      <td>2.359000e+03</td>\n",
       "      <td>2.400000e+03</td>\n",
       "      <td>7.223000e+03</td>\n",
       "      <td>7.223000e+03</td>\n",
       "      <td>2.400000e+03</td>\n",
       "      <td>7.232000e+03</td>\n",
       "      <td>7.270000e+02</td>\n",
       "      <td>6.900000e+02</td>\n",
       "      <td>7.640000e+02</td>\n",
       "      <td>5.095000e+03</td>\n",
       "      <td>2022.0</td>\n",
       "      <td>3.000000e+00</td>\n",
       "      <td>7.000000e+00</td>\n",
       "      <td>3.100000e+01</td>\n",
       "      <td>7.000000e+00</td>\n",
       "      <td>2.210000e+02</td>\n",
       "      <td>2.400000e+03</td>\n",
       "      <td>2.400000e+03</td>\n",
       "      <td>2.900000e+02</td>\n",
       "      <td>2.359000e+03</td>\n",
       "      <td>7.232000e+03</td>\n",
       "      <td>1.000000e+00</td>\n",
       "      <td>1.200000e+01</td>\n",
       "      <td>1.100000e+01</td>\n",
       "      <td>9.000000e+00</td>\n",
       "    </tr>\n",
       "  </tbody>\n",
       "</table>\n",
       "</div>"
      ],
      "text/plain": [
       "         CRSDepTime       DepTime  DepDelayMinutes      DepDelay  \\\n",
       "count  4.078318e+06  3.957885e+06     3.957823e+06  3.957823e+06   \n",
       "mean   1.329587e+03  1.334374e+03     1.601494e+01  1.309049e+01   \n",
       "std    4.904801e+02  5.056219e+02     5.231498e+01  5.332016e+01   \n",
       "min    1.000000e+00  1.000000e+00     0.000000e+00 -7.800000e+01   \n",
       "25%    9.140000e+02  9.170000e+02     0.000000e+00 -5.000000e+00   \n",
       "50%    1.320000e+03  1.325000e+03     0.000000e+00 -2.000000e+00   \n",
       "75%    1.735000e+03  1.744000e+03     1.100000e+01  1.100000e+01   \n",
       "max    2.359000e+03  2.400000e+03     7.223000e+03  7.223000e+03   \n",
       "\n",
       "            ArrTime  ArrDelayMinutes       AirTime  CRSElapsedTime  \\\n",
       "count  3.954079e+06     3.944916e+06  3.944916e+06    4.078318e+06   \n",
       "mean   1.457886e+03     1.578307e+01  1.110075e+02    1.413211e+02   \n",
       "std    5.431841e+02     5.198424e+01  6.996246e+01    7.179635e+01   \n",
       "min    1.000000e+00     0.000000e+00  8.000000e+00   -4.800000e+01   \n",
       "25%    1.046000e+03     0.000000e+00  6.000000e+01    8.900000e+01   \n",
       "50%    1.500000e+03     0.000000e+00  9.400000e+01    1.240000e+02   \n",
       "75%    1.914000e+03     1.000000e+01  1.410000e+02    1.710000e+02   \n",
       "max    2.400000e+03     7.232000e+03  7.270000e+02    6.900000e+02   \n",
       "\n",
       "       ActualElapsedTime      Distance       Year       Quarter         Month  \\\n",
       "count       3.944916e+06  4.078318e+06  4078318.0  4.078318e+06  4.078318e+06   \n",
       "mean        1.358624e+02  7.978657e+02     2022.0  1.741207e+00  4.083803e+00   \n",
       "std         7.185501e+01  5.914742e+02        0.0  7.037563e-01  1.998918e+00   \n",
       "min         1.400000e+01  3.100000e+01     2022.0  1.000000e+00  1.000000e+00   \n",
       "25%         8.300000e+01  3.680000e+02     2022.0  1.000000e+00  2.000000e+00   \n",
       "50%         1.190000e+02  6.430000e+02     2022.0  2.000000e+00  4.000000e+00   \n",
       "75%         1.670000e+02  1.035000e+03     2022.0  2.000000e+00  6.000000e+00   \n",
       "max         7.640000e+02  5.095000e+03     2022.0  3.000000e+00  7.000000e+00   \n",
       "\n",
       "         DayofMonth     DayOfWeek       TaxiOut     WheelsOff      WheelsOn  \\\n",
       "count  4.078318e+06  4.078318e+06  3.955652e+06  3.955652e+06  3.954076e+06   \n",
       "mean   1.571131e+01  4.005566e+00  1.697375e+01  1.356576e+03  1.455073e+03   \n",
       "std    8.760122e+00  2.007050e+00  9.495407e+00  5.075580e+02  5.378428e+02   \n",
       "min    1.000000e+00  1.000000e+00  1.000000e+00  1.000000e+00  1.000000e+00   \n",
       "25%    8.000000e+00  2.000000e+00  1.100000e+01  9.320000e+02  1.044000e+03   \n",
       "50%    1.600000e+01  4.000000e+00  1.500000e+01  1.338000e+03  1.456000e+03   \n",
       "75%    2.300000e+01  6.000000e+00  1.900000e+01  1.758000e+03  1.909000e+03   \n",
       "max    3.100000e+01  7.000000e+00  2.210000e+02  2.400000e+03  2.400000e+03   \n",
       "\n",
       "             TaxiIn    CRSArrTime      ArrDelay      ArrDel15  \\\n",
       "count  3.954076e+06  4.078318e+06  3.944916e+06  3.944916e+06   \n",
       "mean   7.894387e+00  1.486058e+03  7.528486e+00  2.164715e-01   \n",
       "std    6.663118e+00  5.185078e+02  5.524625e+01  4.118393e-01   \n",
       "min    1.000000e+00  1.000000e+00 -1.000000e+02  0.000000e+00   \n",
       "25%    4.000000e+00  1.103000e+03 -1.400000e+01  0.000000e+00   \n",
       "50%    6.000000e+00  1.513000e+03 -5.000000e+00  0.000000e+00   \n",
       "75%    9.000000e+00  1.920000e+03  1.000000e+01  0.000000e+00   \n",
       "max    2.900000e+02  2.359000e+03  7.232000e+03  1.000000e+00   \n",
       "\n",
       "       ArrivalDelayGroups  DistanceGroup  DivAirportLandings  \n",
       "count        3.944916e+06   4.078318e+06        4.078318e+06  \n",
       "mean        -6.256103e-02   3.663516e+00        3.685098e-03  \n",
       "std          2.487442e+00   2.320848e+00        1.141331e-01  \n",
       "min         -2.000000e+00   1.000000e+00        0.000000e+00  \n",
       "25%         -1.000000e+00   2.000000e+00        0.000000e+00  \n",
       "50%         -1.000000e+00   3.000000e+00        0.000000e+00  \n",
       "75%          0.000000e+00   5.000000e+00        0.000000e+00  \n",
       "max          1.200000e+01   1.100000e+01        9.000000e+00  "
      ]
     },
     "execution_count": 31,
     "metadata": {},
     "output_type": "execute_result"
    }
   ],
   "source": [
    "flight_data_df.describe()"
   ]
  },
  {
   "cell_type": "markdown",
   "id": "d1319392",
   "metadata": {},
   "source": [
    "# Visualize Attributes\n",
    "Visualize the most interesting attributes (at least 5 attributes, your opinion on what is interesting). Important: Interpret the implications for each visualization. Explain for each attribute why the chosen visualization is appropriate.\n"
   ]
  },
  {
   "cell_type": "code",
   "execution_count": 33,
   "id": "e700137b",
   "metadata": {},
   "outputs": [],
   "source": [
    "#load grpahing package\n",
    "import seaborn as sns"
   ]
  },
  {
   "cell_type": "code",
   "execution_count": 38,
   "id": "26f7738b",
   "metadata": {},
   "outputs": [
    {
     "name": "stdout",
     "output_type": "stream",
     "text": [
      "CRSDepTime\n",
      "Skew : 0.09\n"
     ]
    },
    {
     "data": {
      "image/png": "[encoded data removed]",
      "text/plain": [
       "<Figure size 1080x288 with 2 Axes>"
      ]
     },
     "metadata": {
      "needs_background": "light"
     },
     "output_type": "display_data"
    },
    {
     "name": "stdout",
     "output_type": "stream",
     "text": [
      "DepTime\n",
      "Skew : 0.04\n"
     ]
    },
    {
     "data": {
      "image/png": "[encoded data removed]",
      "text/plain": [
       "<Figure size 1080x288 with 2 Axes>"
      ]
     },
     "metadata": {
      "needs_background": "light"
     },
     "output_type": "display_data"
    },
    {
     "name": "stdout",
     "output_type": "stream",
     "text": [
      "DepDelayMinutes\n",
      "Skew : 11.95\n"
     ]
    },
    {
     "data": {
      "image/png": "[encoded data removed]",
      "text/plain": [
       "<Figure size 1080x288 with 2 Axes>"
      ]
     },
     "metadata": {
      "needs_background": "light"
     },
     "output_type": "display_data"
    },
    {
     "name": "stdout",
     "output_type": "stream",
     "text": [
      "DepDelay\n",
      "Skew : 11.43\n"
     ]
    },
    {
     "data": {
      "image/png": "[encoded data removed]",
      "text/plain": [
       "<Figure size 1080x288 with 2 Axes>"
      ]
     },
     "metadata": {
      "needs_background": "light"
     },
     "output_type": "display_data"
    },
    {
     "name": "stdout",
     "output_type": "stream",
     "text": [
      "ArrTime\n",
      "Skew : -0.38\n"
     ]
    },
    {
     "data": {
      "image/png": "[encoded data removed]",
      "text/plain": [
       "<Figure size 1080x288 with 2 Axes>"
      ]
     },
     "metadata": {
      "needs_background": "light"
     },
     "output_type": "display_data"
    },
    {
     "name": "stdout",
     "output_type": "stream",
     "text": [
      "ArrDelayMinutes\n",
      "Skew : 12.04\n"
     ]
    },
    {
     "data": {
      "image/png": "[encoded data removed]",
      "text/plain": [
       "<Figure size 1080x288 with 2 Axes>"
      ]
     },
     "metadata": {
      "needs_background": "light"
     },
     "output_type": "display_data"
    },
    {
     "name": "stdout",
     "output_type": "stream",
     "text": [
      "AirTime\n",
      "Skew : 1.48\n"
     ]
    },
    {
     "data": {
      "image/png": "[encoded data removed]",
      "text/plain": [
       "<Figure size 1080x288 with 2 Axes>"
      ]
     },
     "metadata": {
      "needs_background": "light"
     },
     "output_type": "display_data"
    },
    {
     "name": "stdout",
     "output_type": "stream",
     "text": [
      "CRSElapsedTime\n",
      "Skew : 1.47\n"
     ]
    },
    {
     "data": {
      "image/png": "[encoded data removed]",
      "text/plain": [
       "<Figure size 1080x288 with 2 Axes>"
      ]
     },
     "metadata": {
      "needs_background": "light"
     },
     "output_type": "display_data"
    },
    {
     "name": "stdout",
     "output_type": "stream",
     "text": [
      "ActualElapsedTime\n",
      "Skew : 1.44\n"
     ]
    },
    {
     "data": {
      "image/png": "[encoded data removed]",
      "text/plain": [
       "<Figure size 1080x288 with 2 Axes>"
      ]
     },
     "metadata": {
      "needs_background": "light"
     },
     "output_type": "display_data"
    },
    {
     "name": "stdout",
     "output_type": "stream",
     "text": [
      "Distance\n",
      "Skew : 1.55\n"
     ]
    },
    {
     "data": {
      "image/png": "[encoded data removed]",
      "text/plain": [
       "<Figure size 1080x288 with 2 Axes>"
      ]
     },
     "metadata": {
      "needs_background": "light"
     },
     "output_type": "display_data"
    },
    {
     "name": "stdout",
     "output_type": "stream",
     "text": [
      "Year\n",
      "Skew : 0\n"
     ]
    },
    {
     "data": {
      "image/png": "[encoded data removed]",
      "text/plain": [
       "<Figure size 1080x288 with 2 Axes>"
      ]
     },
     "metadata": {
      "needs_background": "light"
     },
     "output_type": "display_data"
    },
    {
     "name": "stdout",
     "output_type": "stream",
     "text": [
      "Quarter\n",
      "Skew : 0.41\n"
     ]
    },
    {
     "data": {
      "image/png": "[encoded data removed]",
      "text/plain": [
       "<Figure size 1080x288 with 2 Axes>"
      ]
     },
     "metadata": {
      "needs_background": "light"
     },
     "output_type": "display_data"
    },
    {
     "name": "stdout",
     "output_type": "stream",
     "text": [
      "Month\n",
      "Skew : -0.06\n"
     ]
    },
    {
     "data": {
      "image/png": "[encoded data removed]",
      "text/plain": [
       "<Figure size 1080x288 with 2 Axes>"
      ]
     },
     "metadata": {
      "needs_background": "light"
     },
     "output_type": "display_data"
    },
    {
     "name": "stdout",
     "output_type": "stream",
     "text": [
      "DayofMonth\n",
      "Skew : 0.0\n"
     ]
    },
    {
     "data": {
      "image/png": "[encoded data removed]",
      "text/plain": [
       "<Figure size 1080x288 with 2 Axes>"
      ]
     },
     "metadata": {
      "needs_background": "light"
     },
     "output_type": "display_data"
    },
    {
     "name": "stdout",
     "output_type": "stream",
     "text": [
      "DayOfWeek\n",
      "Skew : -0.01\n"
     ]
    },
    {
     "data": {
      "image/png": "[encoded data removed]",
      "text/plain": [
       "<Figure size 1080x288 with 2 Axes>"
      ]
     },
     "metadata": {
      "needs_background": "light"
     },
     "output_type": "display_data"
    },
    {
     "name": "stdout",
     "output_type": "stream",
     "text": [
      "TaxiOut\n",
      "Skew : 3.63\n"
     ]
    },
    {
     "data": {
      "image/png": "[encoded data removed]",
      "text/plain": [
       "<Figure size 1080x288 with 2 Axes>"
      ]
     },
     "metadata": {
      "needs_background": "light"
     },
     "output_type": "display_data"
    },
    {
     "name": "stdout",
     "output_type": "stream",
     "text": [
      "WheelsOff\n",
      "Skew : 0.0\n"
     ]
    },
    {
     "data": {
      "image/png": "[encoded data removed]",
      "text/plain": [
       "<Figure size 1080x288 with 2 Axes>"
      ]
     },
     "metadata": {
      "needs_background": "light"
     },
     "output_type": "display_data"
    },
    {
     "name": "stdout",
     "output_type": "stream",
     "text": [
      "WheelsOn\n",
      "Skew : -0.34\n"
     ]
    },
    {
     "data": {
      "image/png": "[encoded data removed]",
      "text/plain": [
       "<Figure size 1080x288 with 2 Axes>"
      ]
     },
     "metadata": {
      "needs_background": "light"
     },
     "output_type": "display_data"
    },
    {
     "name": "stdout",
     "output_type": "stream",
     "text": [
      "TaxiIn\n",
      "Skew : 5.07\n"
     ]
    },
    {
     "data": {
      "image/png": "[encoded data removed]",
      "text/plain": [
       "<Figure size 1080x288 with 2 Axes>"
      ]
     },
     "metadata": {
      "needs_background": "light"
     },
     "output_type": "display_data"
    },
    {
     "name": "stdout",
     "output_type": "stream",
     "text": [
      "CRSArrTime\n",
      "Skew : -0.28\n"
     ]
    },
    {
     "data": {
      "image/png": "[encoded data removed]",
      "text/plain": [
       "<Figure size 1080x288 with 2 Axes>"
      ]
     },
     "metadata": {
      "needs_background": "light"
     },
     "output_type": "display_data"
    },
    {
     "name": "stdout",
     "output_type": "stream",
     "text": [
      "ArrDelay\n",
      "Skew : 10.38\n"
     ]
    },
    {
     "data": {
      "image/png": "[encoded data removed]",
      "text/plain": [
       "<Figure size 1080x288 with 2 Axes>"
      ]
     },
     "metadata": {
      "needs_background": "light"
     },
     "output_type": "display_data"
    },
    {
     "name": "stdout",
     "output_type": "stream",
     "text": [
      "ArrDel15\n",
      "Skew : 1.38\n"
     ]
    },
    {
     "data": {
      "image/png": "[encoded data removed]",
      "text/plain": [
       "<Figure size 1080x288 with 2 Axes>"
      ]
     },
     "metadata": {
      "needs_background": "light"
     },
     "output_type": "display_data"
    },
    {
     "name": "stdout",
     "output_type": "stream",
     "text": [
      "ArrivalDelayGroups\n",
      "Skew : 2.74\n"
     ]
    },
    {
     "data": {
      "image/png": "[encoded data removed]",
      "text/plain": [
       "<Figure size 1080x288 with 2 Axes>"
      ]
     },
     "metadata": {
      "needs_background": "light"
     },
     "output_type": "display_data"
    },
    {
     "name": "stdout",
     "output_type": "stream",
     "text": [
      "DistanceGroup\n",
      "Skew : 1.29\n"
     ]
    },
    {
     "data": {
      "image/png": "[encoded data removed]",
      "text/plain": [
       "<Figure size 1080x288 with 2 Axes>"
      ]
     },
     "metadata": {
      "needs_background": "light"
     },
     "output_type": "display_data"
    },
    {
     "name": "stdout",
     "output_type": "stream",
     "text": [
      "DivAirportLandings\n",
      "Skew : 65.15\n"
     ]
    },
    {
     "data": {
      "image/png": "[encoded data removed]",
      "text/plain": [
       "<Figure size 1080x288 with 2 Axes>"
      ]
     },
     "metadata": {
      "needs_background": "light"
     },
     "output_type": "display_data"
    }
   ],
   "source": [
    "#Univariate Analysis\n",
    "\n",
    "for col in num_cols:\n",
    "    print(col)\n",
    "    print('Skew :', round(flight_data_df[col].skew(), 2))\n",
    "    plt.figure(figsize = (15, 4))\n",
    "    plt.subplot(1, 2, 1)\n",
    "    flight_data_df[col].hist(grid=False)\n",
    "    plt.ylabel('count')\n",
    "    plt.subplot(1, 2, 2)\n",
    "    sns.boxplot(x=flight_data_df[col])\n",
    "    plt.show()\n",
    "    \n",
    "# Code reference from https://www.analyticsvidhya.com/blog/2022/07/step-by-step-exploratory-data-analysis-eda-using-python/"
   ]
  },
  {
   "cell_type": "markdown",
   "id": "00557bb9",
   "metadata": {},
   "source": [
    "# Explore Joint Attributes\n",
    "Visualize relationships between attributes: Look at the attributes via scatter plots, correlation, cross-tabulation, group-wise averages, etc. as appropriate. Explain any interesting relationships."
   ]
  },
  {
   "cell_type": "code",
   "execution_count": null,
   "id": "49d46d1d",
   "metadata": {},
   "outputs": [],
   "source": [
    "# First step to explore any relationships between data would be to do a correlation\n",
    "flight_data_df.corr()"
   ]
  },
  {
   "cell_type": "code",
   "execution_count": null,
   "id": "2d1d9899",
   "metadata": {},
   "outputs": [],
   "source": [
    "#Correlation plot\n",
    "sns.heatmap(flight_data_df.corr())"
   ]
  },
  {
   "cell_type": "code",
   "execution_count": null,
   "id": "488253f2",
   "metadata": {},
   "outputs": [],
   "source": [
    "# Very condensed heat correlation map\n",
    "corrmat = flight_data_df.corr()\n",
    "hm = sns.heatmap(corrmat, \n",
    "                 cbar=True, \n",
    "                 annot=True, \n",
    "                 square=True, \n",
    "                 fmt='.2f', \n",
    "                 #annot_kws={'size': 50}, \n",
    "                 yticklabels=df.columns, \n",
    "                 xticklabels=df.columns, \n",
    "                 cmap=\"Spectral_r\")\n",
    "plt.show()"
   ]
  },
  {
   "cell_type": "code",
   "execution_count": null,
   "id": "93a9fc0a",
   "metadata": {},
   "outputs": [],
   "source": [
    "# Example code for boxplot vs target variable (whatever we decide)\n",
    "sns.catplot(x=\"target\", y=\"\", data=flight_data_df, kind=\"box\", aspect=1.5)\n",
    "plt.title(\"Boxplot for target vs \")\n",
    "plt.show()"
   ]
  },
  {
   "cell_type": "code",
   "execution_count": null,
   "id": "e5f20ed5",
   "metadata": {},
   "outputs": [],
   "source": [
    "# Code for analyzing scatterplot relationships \n",
    "sns.scatterplot(x=\"\", y=\"\", hue=\"target\", data=flight_data_df, palette=\"Dark2\", s=80)\n",
    "plt.title(\"Relationship between 1, 2 and target\")\n",
    "plt.show()"
   ]
  },
  {
   "cell_type": "markdown",
   "id": "e9063b3a",
   "metadata": {},
   "source": [
    "# Explore Attributes and Class\n",
    "Identify and explain interesting relationships between features and the class you are trying to predict (i.e., relationships with variables and the target classification)."
   ]
  },
  {
   "attachments": {},
   "cell_type": "markdown",
   "id": "4521ae24",
   "metadata": {},
   "source": [
    "# New Fetaures\n",
    "Are there other features that could be added to the data or created from existing features? Which ones?\n",
    "\n",
    " - Average airline cost / minute delayed\n",
    " - Average passenger cost / minute delayed\n",
    " - Average reimbursement / cancellation"
   ]
  },
  {
   "cell_type": "markdown",
   "id": "4a220775",
   "metadata": {},
   "source": [
    "# Modeling"
   ]
  },
  {
   "cell_type": "markdown",
   "id": "b606d23f",
   "metadata": {},
   "source": [
    "# Exceptional Work"
   ]
  },
  {
   "cell_type": "code",
   "execution_count": null,
   "id": "780ffa5d",
   "metadata": {},
   "outputs": [],
   "source": []
  },
  {
   "attachments": {},
   "cell_type": "markdown",
   "id": "9dc44418",
   "metadata": {},
   "source": [
    "# Sources\n",
    "1. Ball, M., Barnhart, C., Dresner, M., Hansen, M., Neels, K., Odoni, A., Peterson, E., Sherry, L., Trani, A., & Zou, B. (2010, October). Total Delay Impact Study. isr.umd.edu. https://isr.umd.edu/NEXTOR/pubs/TDI_Report_Final_10_18_10_V3.pdf\n",
    "\n",
    "2. Olson, E. (2022, December 28). Soutwest cancels another 4,800 flights as its reduced schedule continues. NPR. https://www.npr.org/2022/12/28/1145775020/southwest-airlines-flights-cancellations\n",
    "\n",
    "3. Investis. (2023, January 6). Southwest Airlines Securities and Exchange Commission Financial Filing. https://otp.tools.investis.com/clients/us/southwest/SEC/sec-show.aspx?Type=html&FilingId=16303107&CIK=0000092380&Index=10000"
   ]
  }
 ],
 "metadata": {
  "kernelspec": {
   "display_name": "Python 3",
   "language": "python",
   "name": "python3"
  },
  "language_info": {
   "codemirror_mode": {
    "name": "ipython",
    "version": 3
   },
   "file_extension": ".py",
   "mimetype": "text/x-python",
   "name": "python",
   "nbconvert_exporter": "python",
   "pygments_lexer": "ipython3",
   "version": "3.9.13"
  },
  "vscode": {
   "interpreter": {
    "hash": "77fad8f1fd48b0dbc17e5e0b2f14396946f41876e8f98b3588ed05859c665f39"
   }
  }
 },
 "nbformat": 4,
 "nbformat_minor": 5
}
