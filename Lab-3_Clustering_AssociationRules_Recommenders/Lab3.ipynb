{
 "cells": [
  {
   "attachments": {},
   "cell_type": "markdown",
   "id": "2c8dcb02",
   "metadata": {},
   "source": [
    "__Title:__ Lab 3: Clustering, Association Rules, or Recommenders  \n",
    "__Authors:__ Butler, Derner, Holmes  \n",
    "__Date:__ 2/5/23 "
   ]
  },
  {
   "attachments": {},
   "cell_type": "markdown",
   "id": "a5113bc9",
   "metadata": {},
   "source": [
    "## Ruberic"
   ]
  },
  {
   "attachments": {},
   "cell_type": "markdown",
   "id": "eae0caf3",
   "metadata": {},
   "source": [
    "|Category | Points | Description |\n",
    "| --- | --- | --- |\n",
    "| Business Understanding | 10 points total | Describe the purpose of the data set you selected (i.e., why was this data collected in the first place?). How will you measure the effectiveness of a good algorithm? Why does your chosen validation method make sense for this specific dataset and thestakeholders needs? | \n",
    "| Data Understanding | 20 points total | | \n",
    "| Modeling and Evaluation | 50 points total | Different tasks will require different evaluation methods. Be as thorough as possible when analyzing the data you have chosen and use visualizations of the results to explain the performance and expected outcomes whenever possible. Guide the reader through your analysis with plenty of discussion of the results. Each option is broken down by: | \n",
    "| Deployment | 10 points total | Be critical of your performance and tell the reader how you current model might be usable by other parties. | \n",
    "| Exceptional Work | 10 points total | You have free reign to provide additional analyses or combine analyses. | \n",
    "| Total\t| 100"
   ]
  }
 ],
 "metadata": {
  "kernelspec": {
   "display_name": "Python 3",
   "language": "python",
   "name": "python3"
  },
  "language_info": {
   "codemirror_mode": {
    "name": "ipython",
    "version": 3
   },
   "file_extension": ".py",
   "mimetype": "text/x-python",
   "name": "python",
   "nbconvert_exporter": "python",
   "pygments_lexer": "ipython3",
   "version": "3.9.13 (tags/v3.9.13:6de2ca5, May 17 2022, 16:36:42) [MSC v.1929 64 bit (AMD64)]"
  },
  "vscode": {
   "interpreter": {
    "hash": "77fad8f1fd48b0dbc17e5e0b2f14396946f41876e8f98b3588ed05859c665f39"
   }
  }
 },
 "nbformat": 4,
 "nbformat_minor": 5
}
