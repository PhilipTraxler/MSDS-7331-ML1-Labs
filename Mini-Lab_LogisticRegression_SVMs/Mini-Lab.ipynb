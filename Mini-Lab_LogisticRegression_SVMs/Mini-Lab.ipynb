{
 "cells": [
  {
   "attachments": {},
   "cell_type": "markdown",
   "metadata": {},
   "source": [
    "__Title:__ Mini-Lab: Logistic Regression and SVMs  \n",
    "__Authors:__ Butler, Derner, Holmes, Traxler  \n",
    "__Date:__ 1/22/23 "
   ]
  },
  {
   "attachments": {},
   "cell_type": "markdown",
   "metadata": {},
   "source": [
    "## Rubric\n",
    "You are to perform predictive analysis (classification) upon a data set: model the dataset using \n",
    "methods we have discussed in class: logistic regression & support vector machines and making \n",
    "conclusions from the analysis. Follow the CRISP-DM framework in your analysis (you are not \n",
    "performing all of the CRISP-DM outline, only the portions relevant to the grading rubric outlined \n",
    "below). This report is worth 10% of the final grade. You may complete this assignment in teams \n",
    "of as many as three people. \n",
    "Write a report covering all the steps of the project. The format of the document can be PDF, \n",
    "*.ipynb, or HTML. You can write the report in whatever format you like, but it is easiest to turn in \n",
    "the rendered Jupyter notebook. The results should be reproducible using your report. Please \n",
    "carefully describe every assumption and every step in your report.\n",
    "A note on grading: A common mistake I see in this lab is not investigating different input \n",
    "parameters for each model. Try a number of parameter combinations and discuss how the \n",
    "model changed. \n",
    "SVM and Logistic Regression Modeling \n",
    " - [50 points] Create a logistic regression model and a support vector machine model for the \n",
    "classification task involved with your dataset. Assess how well each model performs (use \n",
    "80/20 training/testing split for your data). Adjust parameters of the models to make them \n",
    "more accurate. If your dataset size requires the use of stochastic gradient descent, then \n",
    "linear kernel only is fine to use. That is, the SGDClassifier is fine to use for optimizing \n",
    "logistic regression and linear support vector machines. For many problems, SGD will be \n",
    "required in order to train the SVM model in a reasonable timeframe. \n",
    " - [10 points] Discuss the advantages of each model for each classification task. Does one \n",
    "type of model offer superior performance over another in terms of prediction accuracy? In \n",
    "terms of training time or efficiency? Explain in detail. \n",
    " - [30 points] Use the weights from logistic regression to interpret the importance of different \n",
    "features for the classification task. Explain your interpretation in detail. Why do you think \n",
    "some variables are more important? \n",
    " - [10 points] Look at the chosen support vectors for the classification task. Do these provide \n",
    "any insight into the data? Explain. If you used stochastic gradient descent (and therefore did \n",
    "not explicitly solve for support vectors), try subsampling your data to train the SVC model—\n",
    "then analyze the support vectors from the subsampled dataset."
   ]
  },
  {
   "attachments": {},
   "cell_type": "markdown",
   "metadata": {},
   "source": [
    "__CRISP-DM__\n",
    " - Business understanding – What does the business need?\n",
    " - Data understanding – What data do we have / need? Is it clean?\n",
    " - Data preparation – How do we organize the data for modeling?\n",
    " - Modeling – What modeling techniques should we apply?\n",
    " - Evaluation – Which model best meets the business objectives?\n",
    " - Deployment – How do stakeholders access the results?\n",
    "\n",
    " Source: [Hotz, 2023](https://www.datascience-pm.com/crisp-dm-2/)\n",
    "\n"
   ]
  },
  {
   "attachments": {},
   "cell_type": "markdown",
   "metadata": {},
   "source": [
    "__Buisness Understanding__  \n",
    "What features are most important in predicting which flights will be delayed?\n",
    "\n",
    "__Data Understanding__  \n",
    "We have a dataset of over 200,000 flights and 60 features from US Carriers in 2021. Approximately 33% of flights are delayed. There are some features with null values. These features are largely associated with columns that will be removed for the simple reason that they would not be knowable prior to the flight. We will have to prune the dataset to only include knowable features. Some of the features are highly correlated because they represent very similar things (e.g. scheduled departure time(CRSDepTime) vs. actual departure time(DepTime)). While most of these will be removed because they are not knowable, the remaining will be chosen based on the completeness of the data. The remaining issue to address is multi-colinearity. The majority of correlated features will be removed in the above steps. The remaining will again be chosen by the completeness of their data. Any remaining observations with incomplete data will be removed.\n",
    "\n",
    "__Data Preparation__  \n",
    "All categorical features will require one hot encoding. Some will not be usable due to the number of levels compared to the number of observations available.\n",
    "\n",
    "The continous features will be normalized to reduce the influence of features with large values.\n",
    "\n",
    "__Modeling__  \n",
    "We will be comparing Logistic Regression and Support Vector Machines in this notebook. Each model will use the same training and testing datasets.\n",
    "\n",
    "__Evaluation__  \n",
    "The overall performance of each model will be evaluated by their respective accuracy, sensitivity, and specificity. We have concluded that it is more important to accurately predict the true occurance of delayed flights. For this reason, we will use sensitivity as the primary metric to compare and evaluate each model.\n",
    "\n",
    "__Deployment__  \n",
    "The findings of our study, including important features and their weights, can be found in the conclusion section of this rendered Jupyter notebook."
   ]
  },
  {
   "cell_type": "code",
   "execution_count": null,
   "metadata": {},
   "outputs": [],
   "source": [
    "# Import libraries\n",
    "import pandas as pd\n",
    "import numpy as np\n",
    "import plotly.express as px\n",
    "import plotly.graph_objects as go\n",
    "from sklearn.model_selection import train_test_split\n",
    "from sklearn.linear_model import LogisticRegression\n",
    "from sklearn.preprocessing import OneHotEncoder\n",
    "from sklearn.preprocessing import LabelEncoder\n",
    "from sklearn.model_selection import GridSearchCV\n",
    "from sklearn.feature_selection import SelectFromModel\n",
    "from sklearn import svm\n",
    "from sklearn.metrics import confusion_matrix\n",
    "from sklearn.metrics import classification_report\n",
    "from sklearn import metrics\n",
    "\n",
    "pd.set_option('display.max_columns', None)"
   ]
  },
  {
   "cell_type": "code",
   "execution_count": 2,
   "metadata": {},
   "outputs": [],
   "source": [
    "# Dataset\n",
    "url = 'https://github.com/cdholmes11/MSDS-7331-ML1-Labs/blob/main/Lab-1_Visualization_DataPreprocessing/data/Combined_Flights_2021_sample.csv?raw=true'\n",
    "flight_data_df = pd.read_csv(url, encoding = \"utf-8\")"
   ]
  },
  {
   "cell_type": "code",
   "execution_count": 3,
   "metadata": {},
   "outputs": [],
   "source": [
    "# New Features\n",
    "flight_data_df['Delayed'] = np.where(flight_data_df['DepDelayMinutes'] > 0, 1, 0)\n",
    "flight_data_df['Dif_Oper'] = np.where(flight_data_df['DOT_ID_Marketing_Airline'] == flight_data_df['DOT_ID_Operating_Airline'], 0, 1)"
   ]
  },
  {
   "attachments": {},
   "cell_type": "markdown",
   "metadata": {},
   "source": [
    "The original dataset doesn't have a feature for binary classification of delayed status. We've added one based on the DepDelayMinutes field. Delayed flights are coded as 1 and not delayed as 0.\n",
    "\n",
    "Marketing Airline and Operatin Airline are often the same. One will likely be dropped from the model due to multi-colinearity. To maintain the important information from both columns, we've added a classification feature for when the flight is marketed by one airline and operated by another. Flights with different operators are coded as 1 and 0 for flights with the same marketing airline."
   ]
  },
  {
   "cell_type": "code",
   "execution_count": 4,
   "metadata": {},
   "outputs": [
    {
     "data": {
      "text/plain": [
       "(200000, 64)"
      ]
     },
     "execution_count": 4,
     "metadata": {},
     "output_type": "execute_result"
    }
   ],
   "source": [
    "# Dataset Shape\n",
    "flight_data_df.shape"
   ]
  },
  {
   "cell_type": "code",
   "execution_count": 5,
   "metadata": {},
   "outputs": [
    {
     "data": {
      "text/html": [
       "<div>\n",
       "<style scoped>\n",
       "    .dataframe tbody tr th:only-of-type {\n",
       "        vertical-align: middle;\n",
       "    }\n",
       "\n",
       "    .dataframe tbody tr th {\n",
       "        vertical-align: top;\n",
       "    }\n",
       "\n",
       "    .dataframe thead th {\n",
       "        text-align: right;\n",
       "    }\n",
       "</style>\n",
       "<table border=\"1\" class=\"dataframe\">\n",
       "  <thead>\n",
       "    <tr style=\"text-align: right;\">\n",
       "      <th></th>\n",
       "      <th>Delayed</th>\n",
       "      <th>Count</th>\n",
       "      <th>Frequency</th>\n",
       "    </tr>\n",
       "  </thead>\n",
       "  <tbody>\n",
       "    <tr>\n",
       "      <th>0</th>\n",
       "      <td>0</td>\n",
       "      <td>134697</td>\n",
       "      <td>67.35</td>\n",
       "    </tr>\n",
       "    <tr>\n",
       "      <th>1</th>\n",
       "      <td>1</td>\n",
       "      <td>65303</td>\n",
       "      <td>32.65</td>\n",
       "    </tr>\n",
       "  </tbody>\n",
       "</table>\n",
       "</div>"
      ],
      "text/plain": [
       "   Delayed   Count  Frequency\n",
       "0        0  134697      67.35\n",
       "1        1   65303      32.65"
      ]
     },
     "execution_count": 5,
     "metadata": {},
     "output_type": "execute_result"
    }
   ],
   "source": [
    "# Delayed Frequency\n",
    "delayed_df = pd.DataFrame(flight_data_df['Delayed'].value_counts()).reset_index()\n",
    "delayed_df.columns = ['Delayed', 'Count']\n",
    "delayed_df['Frequency'] = round(delayed_df['Count'] / sum(delayed_df['Count']) * 100, 2)\n",
    "delayed_df"
   ]
  },
  {
   "cell_type": "code",
   "execution_count": 6,
   "metadata": {},
   "outputs": [],
   "source": [
    "# Knowable features grouped by data type\n",
    "cat_features = ['Airline', 'Dest', 'DestAirportID', 'DestAirportSeqID', 'DestCityMarketID', 'DestCityName', 'DestState', 'DestStateFips', 'DestStateName', 'DestWac', 'DOT_ID_Marketing_Airline', 'DOT_ID_Operating_Airline', 'Flight_Number_Marketing_Airline', 'Flight_Number_Operating_Airline', 'IATA_Code_Marketing_Airline', 'IATA_Code_Operating_Airline', 'Marketing_Airline_Network', 'Operated_or_Branded_Code_Share_Partners', 'Operating_Airline', 'Origin', 'OriginAirportID', 'OriginAirportSeqID', 'OriginCityMarketID', 'OriginCityName', 'OriginState', 'OriginStateFips', 'OriginStateName', 'OriginWac', 'Tail_Number']\n",
    "cont_features = ['CRSArrTime', 'CRSDepTime', 'CRSElapsedTime', 'Distance']\n",
    "ord_features = ['Quarter', 'Month', 'DayofMonth', 'DayOfWeek', 'Delayed', 'Dif_Oper']\n",
    "date_feature = ['FlightDate']"
   ]
  },
  {
   "cell_type": "code",
   "execution_count": 7,
   "metadata": {},
   "outputs": [
    {
     "data": {
      "text/plain": [
       "(200000, 40)"
      ]
     },
     "execution_count": 7,
     "metadata": {},
     "output_type": "execute_result"
    }
   ],
   "source": [
    "# Trimmed Dataset to knowable features\n",
    "flight_delay_df = flight_data_df[cat_features + cont_features + ord_features + date_feature]\n",
    "flight_delay_df.shape"
   ]
  },
  {
   "cell_type": "code",
   "execution_count": 8,
   "metadata": {},
   "outputs": [
    {
     "name": "stderr",
     "output_type": "stream",
     "text": [
      "C:\\Users\\corey\\AppData\\Local\\Temp\\ipykernel_8488\\1500021064.py:2: FutureWarning: The default value of numeric_only in DataFrame.corr is deprecated. In a future version, it will default to False. Select only valid columns or specify the value of numeric_only to silence this warning.\n",
      "  flight_corr = flight_delay_df.corr()\n"
     ]
    },
    {
     "data": {
      "application/vnd.plotly.v1+json": {
       "config": {
        "plotlyServerURL": "https://plot.ly"
       },
       "data": [
        {
         "text": [
          [
           1,
           0.9999999999187358,
           0.6305738020858336,
           -0.0687237848382235,
           0.21606415646247934,
           0.004298231212063779,
           -0.03789180036165516,
           -0.055872091588846144,
           -0.05586046713619067,
           0.002600162550855406,
           0.0026003246984249895,
           -0.024372385012194367,
           -0.029687834362559375,
           0.11327538424600772,
           0.019534014344196996,
           0.027137946864027367,
           0.08466368004866286,
           0.07936954727275368,
           0.0009434329190268621,
           0.0017846778452778043,
           0.0012994320966988224,
           -0.0019960320328277353,
           0.014627987949096526,
           -0.013249165492197597
          ],
          [
           0.9999999999187358,
           1,
           0.6305734217573302,
           -0.06872545705258767,
           0.21606356457135578,
           0.004298374974995588,
           -0.037891513560399,
           -0.055872417091954084,
           -0.05586079277578823,
           0.002600369154840638,
           0.0026005312969621455,
           -0.024371794222806706,
           -0.029687873441657832,
           0.11327496137325256,
           0.0195335706578676,
           0.02713750900856178,
           0.08466415406752269,
           0.07936987473174391,
           0.0009434605579468479,
           0.0017846935162624954,
           0.0012994096648935932,
           -0.0019960057304789,
           0.01462787973516868,
           -0.0132491124701479
          ],
          [
           0.6305738020858336,
           0.6305734217573302,
           1,
           0.027511036708371257,
           0.021478741728286815,
           0.05359492300580681,
           0.0505177740552714,
           0.003743143934517235,
           0.00375569725339569,
           -0.0195276605421636,
           -0.01952707983160127,
           -0.07719156759749914,
           -0.02421012372149235,
           0.02465857459492321,
           0.06176042123997688,
           0.074978414014677,
           0.0017405667597479558,
           0.01812145117134589,
           -0.0015585128441773647,
           -0.0009890913791339218,
           -0.0008604654282589383,
           0.00267361630710462,
           0.01077819940709913,
           0.030079524074146245
          ],
          [
           -0.0687237848382235,
           -0.06872545705258767,
           0.027511036708371257,
           1,
           -0.020007442576796923,
           0.02734967718472289,
           0.10559244103463643,
           0.1053270285255876,
           0.10533217606262783,
           -0.02978349106396284,
           -0.029783537280202083,
           -0.02460322694212234,
           0.016841512444957917,
           -0.0446211849434018,
           0.019457329334391416,
           0.01117052061129272,
           -0.07397255432605877,
           -0.07669082770313335,
           0.009712182403923601,
           0.009512979518229327,
           -0.0021639530511724466,
           0.002343681160756665,
           -0.025389544687345052,
           0.13529535211688012
          ],
          [
           0.21606415646247934,
           0.21606356457135578,
           0.021478741728286815,
           -0.020007442576796923,
           1,
           -0.11252050765525796,
           -0.13905951364471536,
           -0.012976214904324742,
           -0.012977463276993262,
           0.11342854694969802,
           0.1134281278478537,
           0.019629065103513116,
           -0.04716467008596783,
           0.4696914511424426,
           0.0016172177810655798,
           0.011488043372604298,
           0.04266649171888102,
           0.016364856696993228,
           -0.019398141792378188,
           -0.02000642908564077,
           -0.0007694755806417478,
           -0.007894956809852383,
           0.02162391067610761,
           0.02422309280433864
          ],
          [
           0.004298231212063779,
           0.004298374974995588,
           0.05359492300580681,
           0.02734967718472289,
           -0.11252050765525796,
           1,
           0.7233068356670619,
           -0.13063678618112246,
           -0.13064376388304402,
           0.0038309551621716156,
           0.0038310690052030566,
           0.051657412374745075,
           0.024932873795396524,
           -0.11134169913764344,
           0.0036825489719960166,
           0.023547506943751958,
           0.1291114801721258,
           0.1115228845147136,
           0.0002773800240364617,
           0.0012430043460512606,
           0.0010859809390130124,
           0.011114404405652154,
           -0.09565956105626004,
           0.08354032647756407
          ],
          [
           -0.03789180036165516,
           -0.037891513560399,
           0.0505177740552714,
           0.10559244103463643,
           -0.13905951364471536,
           0.7233068356670619,
           1,
           0.4273552178480586,
           0.4273499741173785,
           -0.03876723354163498,
           -0.038766987520509985,
           0.04913603256668855,
           0.10622317408141511,
           -0.1379640949200228,
           -0.006933949321582868,
           0.01547523153390202,
           -0.1340877348815342,
           -0.17423900783803717,
           -0.020375596526898566,
           -0.020938346522420364,
           -0.002859443476950634,
           0.005125369599398767,
           -0.17119486631035769,
           0.6654119510898214
          ],
          [
           -0.055872091588846144,
           -0.055872417091954084,
           0.003743143934517235,
           0.1053270285255876,
           -0.012976214904324742,
           -0.13063678618112246,
           0.4273552178480586,
           1,
           0.9999857631953153,
           -0.03991292835267128,
           -0.03991319502156993,
           0.015594073969970167,
           0.10636675920274895,
           -0.010221044596037203,
           -0.008511979692733766,
           -0.0016824289214553618,
           -0.3780675975538276,
           -0.40804097326297195,
           0.0022917288923200514,
           0.0028687023783312256,
           -0.004950090019207521,
           0.01057896225758264,
           -0.09632119519109766,
           0.7715867200744319
          ],
          [
           -0.05586046713619067,
           -0.05586079277578823,
           0.00375569725339569,
           0.10533217606262783,
           -0.012977463276993262,
           -0.13064376388304402,
           0.4273499741173785,
           0.9999857631953153,
           1,
           -0.039921661610002684,
           -0.03992192858382917,
           0.015597552384304726,
           0.10637047509974859,
           -0.010220782649252944,
           -0.008510771203438648,
           -0.001680483440838099,
           -0.37806063643906934,
           -0.408033902349778,
           0.002309612934237534,
           0.0028783641954465557,
           -0.004956066642798739,
           0.010583766213913062,
           -0.09629901260602827,
           0.7715783950125374
          ],
          [
           0.002600162550855406,
           0.002600369154840638,
           -0.0195276605421636,
           -0.02978349106396284,
           0.11342854694969802,
           0.0038309551621716156,
           -0.03876723354163498,
           -0.03991292835267128,
           -0.039921661610002684,
           1,
           0.9999999999184714,
           0.6284861499661808,
           -0.06898251178244129,
           0.21477766278236876,
           -0.0103836667209319,
           -0.04066986329129981,
           0.06350963066912496,
           0.07933793522243295,
           0.005741499372593237,
           0.006015337132125581,
           0.0007616574590694642,
           0.003687279519468612,
           -0.01608055393771567,
           -0.013049913089028253
          ],
          [
           0.0026003246984249895,
           0.0026005312969621455,
           -0.01952707983160127,
           -0.029783537280202083,
           0.1134281278478537,
           0.0038310690052030566,
           -0.038766987520509985,
           -0.03991319502156993,
           -0.03992192858382917,
           0.9999999999184714,
           1,
           0.6284857818139974,
           -0.06898412095529345,
           0.21477700805952138,
           -0.010383409406283206,
           -0.040669525761325244,
           0.0635099792996093,
           0.07933830305690505,
           0.005741571055260866,
           0.006015417659482486,
           0.0007616243428259541,
           0.0036872927069773686,
           -0.01608060459306556,
           -0.013049884123860513
          ],
          [
           -0.024372385012194367,
           -0.024371794222806706,
           -0.07719156759749914,
           -0.02460322694212234,
           0.019629065103513116,
           0.051657412374745075,
           0.04913603256668855,
           0.015594073969970167,
           0.015597552384304726,
           0.6284861499661808,
           0.6284857818139974,
           1,
           0.030603471548994184,
           0.013444380908984989,
           -0.06959262258804906,
           -0.06870028067443393,
           0.01641735822724734,
           0.018976730250391007,
           0.0034353288562416697,
           0.004149520229168299,
           0.0021855660049446414,
           0.006883784098213387,
           -0.04888070539295648,
           0.029580460440296406
          ],
          [
           -0.029687834362559375,
           -0.029687873441657832,
           -0.02421012372149235,
           0.016841512444957917,
           -0.04716467008596783,
           0.024932873795396524,
           0.10622317408141511,
           0.10636675920274895,
           0.10637047509974859,
           -0.06898251178244129,
           -0.06898412095529345,
           0.030603471548994184,
           1,
           -0.023084840479937217,
           -0.0106656317643523,
           -0.003100427156709592,
           -0.050369804199993734,
           -0.08191998867137264,
           0.00283742187527832,
           0.003058027893671178,
           -0.004668291832823632,
           -0.0003060734005209962,
           -0.028778970164586255,
           0.13812154034982804
          ],
          [
           0.11327538424600772,
           0.11327496137325256,
           0.02465857459492321,
           -0.0446211849434018,
           0.4696914511424426,
           -0.11134169913764344,
           -0.1379640949200228,
           -0.010221044596037203,
           -0.010220782649252944,
           0.21477766278236876,
           0.21477700805952138,
           0.013444380908984989,
           -0.023084840479937217,
           1,
           0.014177814257001266,
           -0.017126193352756697,
           -0.03886690388131695,
           0.016543922850684175,
           -0.015143647013457905,
           -0.015923455988370114,
           0.002449776014409099,
           -0.006559849938895762,
           0.04015853887661711,
           0.024156614319956405
          ],
          [
           0.019534014344196996,
           0.0195335706578676,
           0.06176042123997688,
           0.019457329334391416,
           0.0016172177810655798,
           0.0036825489719960166,
           -0.006933949321582868,
           -0.008511979692733766,
           -0.008510771203438648,
           -0.0103836667209319,
           -0.010383409406283206,
           -0.06959262258804906,
           -0.0106656317643523,
           0.014177814257001266,
           1,
           0.7433121631387266,
           0.025988767528251557,
           0.028741393392719895,
           -0.002925742838975486,
           -0.003590446066926118,
           -0.005792284526231053,
           0.004585166800596305,
           0.13855517168329126,
           -0.013698705196446935
          ],
          [
           0.027137946864027367,
           0.02713750900856178,
           0.074978414014677,
           0.01117052061129272,
           0.011488043372604298,
           0.023547506943751958,
           0.01547523153390202,
           -0.0016824289214553618,
           -0.001680483440838099,
           -0.04066986329129981,
           -0.040669525761325244,
           -0.06870028067443393,
           -0.003100427156709592,
           -0.017126193352756697,
           0.7433121631387266,
           1,
           -0.018718897561462916,
           -0.007944848637197138,
           0.018329722786052882,
           0.018012247879914206,
           -0.0011055685934354797,
           0.006529690147797599,
           0.1555523796612108,
           0.0006499494639834729
          ],
          [
           0.08466368004866286,
           0.08466415406752269,
           0.0017405667597479558,
           -0.07397255432605877,
           0.04266649171888102,
           0.1291114801721258,
           -0.1340877348815342,
           -0.3780675975538276,
           -0.37806063643906934,
           0.06350963066912496,
           0.0635099792996093,
           0.01641735822724734,
           -0.050369804199993734,
           -0.03886690388131695,
           0.025988767528251557,
           -0.018718897561462916,
           1,
           0.9835707412955682,
           0.003888371404949225,
           0.005734327853110088,
           -0.0006495720064440984,
           0.0025133817554214466,
           0.06825583339372586,
           -0.3762733446979034
          ],
          [
           0.07936954727275368,
           0.07936987473174391,
           0.01812145117134589,
           -0.07669082770313335,
           0.016364856696993228,
           0.1115228845147136,
           -0.17423900783803717,
           -0.40804097326297195,
           -0.408033902349778,
           0.07933793522243295,
           0.07933830305690505,
           0.018976730250391007,
           -0.08191998867137264,
           0.016543922850684175,
           0.028741393392719895,
           -0.007944848637197138,
           0.9835707412955682,
           1,
           0.007873769701583721,
           0.008923164251572356,
           -0.0005870466000848968,
           0.0033440423063136747,
           0.08065974619591078,
           -0.41503626158232226
          ],
          [
           0.0009434329190268621,
           0.0009434605579468479,
           -0.0015585128441773647,
           0.009712182403923601,
           -0.019398141792378188,
           0.0002773800240364617,
           -0.020375596526898566,
           0.0022917288923200514,
           0.002309612934237534,
           0.005741499372593237,
           0.005741571055260866,
           0.0034353288562416697,
           0.00283742187527832,
           -0.015143647013457905,
           -0.002925742838975486,
           0.018329722786052882,
           0.003888371404949225,
           0.007873769701583721,
           1,
           0.9686566976050759,
           0.004524908935346541,
           -0.007945651118068088,
           0.11572071767661694,
           -0.03595722924636879
          ],
          [
           0.0017846778452778043,
           0.0017846935162624954,
           -0.0009890913791339218,
           0.009512979518229327,
           -0.02000642908564077,
           0.0012430043460512606,
           -0.020938346522420364,
           0.0028687023783312256,
           0.0028783641954465557,
           0.006015337132125581,
           0.006015417659482486,
           0.004149520229168299,
           0.003058027893671178,
           -0.015923455988370114,
           -0.003590446066926118,
           0.018012247879914206,
           0.005734327853110088,
           0.008923164251572356,
           0.9686566976050759,
           1,
           0.0056823913127318935,
           -0.01917403446683058,
           0.11734040188746168,
           -0.03798838559985832
          ],
          [
           0.0012994320966988224,
           0.0012994096648935932,
           -0.0008604654282589383,
           -0.0021639530511724466,
           -0.0007694755806417478,
           0.0010859809390130124,
           -0.002859443476950634,
           -0.004950090019207521,
           -0.004956066642798739,
           0.0007616574590694642,
           0.0007616243428259541,
           0.0021855660049446414,
           -0.004668291832823632,
           0.002449776014409099,
           -0.005792284526231053,
           -0.0011055685934354797,
           -0.0006495720064440984,
           -0.0005870466000848968,
           0.004524908935346541,
           0.0056823913127318935,
           1,
           0.005010417054053836,
           0.013488643672251284,
           -0.006110226048625313
          ],
          [
           -0.0019960320328277353,
           -0.0019960057304789,
           0.00267361630710462,
           0.002343681160756665,
           -0.007894956809852383,
           0.011114404405652154,
           0.005125369599398767,
           0.01057896225758264,
           0.010583766213913062,
           0.003687279519468612,
           0.0036872927069773686,
           0.006883784098213387,
           -0.0003060734005209962,
           -0.006559849938895762,
           0.004585166800596305,
           0.006529690147797599,
           0.0025133817554214466,
           0.0033440423063136747,
           -0.007945651118068088,
           -0.01917403446683058,
           0.005010417054053836,
           1,
           0.025692797165401033,
           -0.0009455252972115773
          ],
          [
           0.014627987949096526,
           0.01462787973516868,
           0.01077819940709913,
           -0.025389544687345052,
           0.02162391067610761,
           -0.09565956105626004,
           -0.17119486631035769,
           -0.09632119519109766,
           -0.09629901260602827,
           -0.01608055393771567,
           -0.01608060459306556,
           -0.04888070539295648,
           -0.028778970164586255,
           0.04015853887661711,
           0.13855517168329126,
           0.1555523796612108,
           0.06825583339372586,
           0.08065974619591078,
           0.11572071767661694,
           0.11734040188746168,
           0.013488643672251284,
           0.025692797165401033,
           1,
           -0.1571816695736759
          ],
          [
           -0.013249165492197597,
           -0.0132491124701479,
           0.030079524074146245,
           0.13529535211688012,
           0.02422309280433864,
           0.08354032647756407,
           0.6654119510898214,
           0.7715867200744319,
           0.7715783950125374,
           -0.013049913089028253,
           -0.013049884123860513,
           0.029580460440296406,
           0.13812154034982804,
           0.024156614319956405,
           -0.013698705196446935,
           0.0006499494639834729,
           -0.3762733446979034,
           -0.41503626158232226,
           -0.03595722924636879,
           -0.03798838559985832,
           -0.006110226048625313,
           -0.0009455252972115773,
           -0.1571816695736759,
           1
          ]
         ],
         "texttemplate": "%{text:.2f}",
         "type": "heatmap",
         "x": [
          "DestAirportID",
          "DestAirportSeqID",
          "DestCityMarketID",
          "DestStateFips",
          "DestWac",
          "DOT_ID_Marketing_Airline",
          "DOT_ID_Operating_Airline",
          "Flight_Number_Marketing_Airline",
          "Flight_Number_Operating_Airline",
          "OriginAirportID",
          "OriginAirportSeqID",
          "OriginCityMarketID",
          "OriginStateFips",
          "OriginWac",
          "CRSArrTime",
          "CRSDepTime",
          "CRSElapsedTime",
          "Distance",
          "Quarter",
          "Month",
          "DayofMonth",
          "DayOfWeek",
          "Delayed",
          "Dif_Oper"
         ],
         "y": [
          "DestAirportID",
          "DestAirportSeqID",
          "DestCityMarketID",
          "DestStateFips",
          "DestWac",
          "DOT_ID_Marketing_Airline",
          "DOT_ID_Operating_Airline",
          "Flight_Number_Marketing_Airline",
          "Flight_Number_Operating_Airline",
          "OriginAirportID",
          "OriginAirportSeqID",
          "OriginCityMarketID",
          "OriginStateFips",
          "OriginWac",
          "CRSArrTime",
          "CRSDepTime",
          "CRSElapsedTime",
          "Distance",
          "Quarter",
          "Month",
          "DayofMonth",
          "DayOfWeek",
          "Delayed",
          "Dif_Oper"
         ],
         "z": [
          [
           1,
           0.9999999999187358,
           0.6305738020858336,
           -0.0687237848382235,
           0.21606415646247934,
           0.004298231212063779,
           -0.03789180036165516,
           -0.055872091588846144,
           -0.05586046713619067,
           0.002600162550855406,
           0.0026003246984249895,
           -0.024372385012194367,
           -0.029687834362559375,
           0.11327538424600772,
           0.019534014344196996,
           0.027137946864027367,
           0.08466368004866286,
           0.07936954727275368,
           0.0009434329190268621,
           0.0017846778452778043,
           0.0012994320966988224,
           -0.0019960320328277353,
           0.014627987949096526,
           -0.013249165492197597
          ],
          [
           0.9999999999187358,
           1,
           0.6305734217573302,
           -0.06872545705258767,
           0.21606356457135578,
           0.004298374974995588,
           -0.037891513560399,
           -0.055872417091954084,
           -0.05586079277578823,
           0.002600369154840638,
           0.0026005312969621455,
           -0.024371794222806706,
           -0.029687873441657832,
           0.11327496137325256,
           0.0195335706578676,
           0.02713750900856178,
           0.08466415406752269,
           0.07936987473174391,
           0.0009434605579468479,
           0.0017846935162624954,
           0.0012994096648935932,
           -0.0019960057304789,
           0.01462787973516868,
           -0.0132491124701479
          ],
          [
           0.6305738020858336,
           0.6305734217573302,
           1,
           0.027511036708371257,
           0.021478741728286815,
           0.05359492300580681,
           0.0505177740552714,
           0.003743143934517235,
           0.00375569725339569,
           -0.0195276605421636,
           -0.01952707983160127,
           -0.07719156759749914,
           -0.02421012372149235,
           0.02465857459492321,
           0.06176042123997688,
           0.074978414014677,
           0.0017405667597479558,
           0.01812145117134589,
           -0.0015585128441773647,
           -0.0009890913791339218,
           -0.0008604654282589383,
           0.00267361630710462,
           0.01077819940709913,
           0.030079524074146245
          ],
          [
           -0.0687237848382235,
           -0.06872545705258767,
           0.027511036708371257,
           1,
           -0.020007442576796923,
           0.02734967718472289,
           0.10559244103463643,
           0.1053270285255876,
           0.10533217606262783,
           -0.02978349106396284,
           -0.029783537280202083,
           -0.02460322694212234,
           0.016841512444957917,
           -0.0446211849434018,
           0.019457329334391416,
           0.01117052061129272,
           -0.07397255432605877,
           -0.07669082770313335,
           0.009712182403923601,
           0.009512979518229327,
           -0.0021639530511724466,
           0.002343681160756665,
           -0.025389544687345052,
           0.13529535211688012
          ],
          [
           0.21606415646247934,
           0.21606356457135578,
           0.021478741728286815,
           -0.020007442576796923,
           1,
           -0.11252050765525796,
           -0.13905951364471536,
           -0.012976214904324742,
           -0.012977463276993262,
           0.11342854694969802,
           0.1134281278478537,
           0.019629065103513116,
           -0.04716467008596783,
           0.4696914511424426,
           0.0016172177810655798,
           0.011488043372604298,
           0.04266649171888102,
           0.016364856696993228,
           -0.019398141792378188,
           -0.02000642908564077,
           -0.0007694755806417478,
           -0.007894956809852383,
           0.02162391067610761,
           0.02422309280433864
          ],
          [
           0.004298231212063779,
           0.004298374974995588,
           0.05359492300580681,
           0.02734967718472289,
           -0.11252050765525796,
           1,
           0.7233068356670619,
           -0.13063678618112246,
           -0.13064376388304402,
           0.0038309551621716156,
           0.0038310690052030566,
           0.051657412374745075,
           0.024932873795396524,
           -0.11134169913764344,
           0.0036825489719960166,
           0.023547506943751958,
           0.1291114801721258,
           0.1115228845147136,
           0.0002773800240364617,
           0.0012430043460512606,
           0.0010859809390130124,
           0.011114404405652154,
           -0.09565956105626004,
           0.08354032647756407
          ],
          [
           -0.03789180036165516,
           -0.037891513560399,
           0.0505177740552714,
           0.10559244103463643,
           -0.13905951364471536,
           0.7233068356670619,
           1,
           0.4273552178480586,
           0.4273499741173785,
           -0.03876723354163498,
           -0.038766987520509985,
           0.04913603256668855,
           0.10622317408141511,
           -0.1379640949200228,
           -0.006933949321582868,
           0.01547523153390202,
           -0.1340877348815342,
           -0.17423900783803717,
           -0.020375596526898566,
           -0.020938346522420364,
           -0.002859443476950634,
           0.005125369599398767,
           -0.17119486631035769,
           0.6654119510898214
          ],
          [
           -0.055872091588846144,
           -0.055872417091954084,
           0.003743143934517235,
           0.1053270285255876,
           -0.012976214904324742,
           -0.13063678618112246,
           0.4273552178480586,
           1,
           0.9999857631953153,
           -0.03991292835267128,
           -0.03991319502156993,
           0.015594073969970167,
           0.10636675920274895,
           -0.010221044596037203,
           -0.008511979692733766,
           -0.0016824289214553618,
           -0.3780675975538276,
           -0.40804097326297195,
           0.0022917288923200514,
           0.0028687023783312256,
           -0.004950090019207521,
           0.01057896225758264,
           -0.09632119519109766,
           0.7715867200744319
          ],
          [
           -0.05586046713619067,
           -0.05586079277578823,
           0.00375569725339569,
           0.10533217606262783,
           -0.012977463276993262,
           -0.13064376388304402,
           0.4273499741173785,
           0.9999857631953153,
           1,
           -0.039921661610002684,
           -0.03992192858382917,
           0.015597552384304726,
           0.10637047509974859,
           -0.010220782649252944,
           -0.008510771203438648,
           -0.001680483440838099,
           -0.37806063643906934,
           -0.408033902349778,
           0.002309612934237534,
           0.0028783641954465557,
           -0.004956066642798739,
           0.010583766213913062,
           -0.09629901260602827,
           0.7715783950125374
          ],
          [
           0.002600162550855406,
           0.002600369154840638,
           -0.0195276605421636,
           -0.02978349106396284,
           0.11342854694969802,
           0.0038309551621716156,
           -0.03876723354163498,
           -0.03991292835267128,
           -0.039921661610002684,
           1,
           0.9999999999184714,
           0.6284861499661808,
           -0.06898251178244129,
           0.21477766278236876,
           -0.0103836667209319,
           -0.04066986329129981,
           0.06350963066912496,
           0.07933793522243295,
           0.005741499372593237,
           0.006015337132125581,
           0.0007616574590694642,
           0.003687279519468612,
           -0.01608055393771567,
           -0.013049913089028253
          ],
          [
           0.0026003246984249895,
           0.0026005312969621455,
           -0.01952707983160127,
           -0.029783537280202083,
           0.1134281278478537,
           0.0038310690052030566,
           -0.038766987520509985,
           -0.03991319502156993,
           -0.03992192858382917,
           0.9999999999184714,
           1,
           0.6284857818139974,
           -0.06898412095529345,
           0.21477700805952138,
           -0.010383409406283206,
           -0.040669525761325244,
           0.0635099792996093,
           0.07933830305690505,
           0.005741571055260866,
           0.006015417659482486,
           0.0007616243428259541,
           0.0036872927069773686,
           -0.01608060459306556,
           -0.013049884123860513
          ],
          [
           -0.024372385012194367,
           -0.024371794222806706,
           -0.07719156759749914,
           -0.02460322694212234,
           0.019629065103513116,
           0.051657412374745075,
           0.04913603256668855,
           0.015594073969970167,
           0.015597552384304726,
           0.6284861499661808,
           0.6284857818139974,
           1,
           0.030603471548994184,
           0.013444380908984989,
           -0.06959262258804906,
           -0.06870028067443393,
           0.01641735822724734,
           0.018976730250391007,
           0.0034353288562416697,
           0.004149520229168299,
           0.0021855660049446414,
           0.006883784098213387,
           -0.04888070539295648,
           0.029580460440296406
          ],
          [
           -0.029687834362559375,
           -0.029687873441657832,
           -0.02421012372149235,
           0.016841512444957917,
           -0.04716467008596783,
           0.024932873795396524,
           0.10622317408141511,
           0.10636675920274895,
           0.10637047509974859,
           -0.06898251178244129,
           -0.06898412095529345,
           0.030603471548994184,
           1,
           -0.023084840479937217,
           -0.0106656317643523,
           -0.003100427156709592,
           -0.050369804199993734,
           -0.08191998867137264,
           0.00283742187527832,
           0.003058027893671178,
           -0.004668291832823632,
           -0.0003060734005209962,
           -0.028778970164586255,
           0.13812154034982804
          ],
          [
           0.11327538424600772,
           0.11327496137325256,
           0.02465857459492321,
           -0.0446211849434018,
           0.4696914511424426,
           -0.11134169913764344,
           -0.1379640949200228,
           -0.010221044596037203,
           -0.010220782649252944,
           0.21477766278236876,
           0.21477700805952138,
           0.013444380908984989,
           -0.023084840479937217,
           1,
           0.014177814257001266,
           -0.017126193352756697,
           -0.03886690388131695,
           0.016543922850684175,
           -0.015143647013457905,
           -0.015923455988370114,
           0.002449776014409099,
           -0.006559849938895762,
           0.04015853887661711,
           0.024156614319956405
          ],
          [
           0.019534014344196996,
           0.0195335706578676,
           0.06176042123997688,
           0.019457329334391416,
           0.0016172177810655798,
           0.0036825489719960166,
           -0.006933949321582868,
           -0.008511979692733766,
           -0.008510771203438648,
           -0.0103836667209319,
           -0.010383409406283206,
           -0.06959262258804906,
           -0.0106656317643523,
           0.014177814257001266,
           1,
           0.7433121631387266,
           0.025988767528251557,
           0.028741393392719895,
           -0.002925742838975486,
           -0.003590446066926118,
           -0.005792284526231053,
           0.004585166800596305,
           0.13855517168329126,
           -0.013698705196446935
          ],
          [
           0.027137946864027367,
           0.02713750900856178,
           0.074978414014677,
           0.01117052061129272,
           0.011488043372604298,
           0.023547506943751958,
           0.01547523153390202,
           -0.0016824289214553618,
           -0.001680483440838099,
           -0.04066986329129981,
           -0.040669525761325244,
           -0.06870028067443393,
           -0.003100427156709592,
           -0.017126193352756697,
           0.7433121631387266,
           1,
           -0.018718897561462916,
           -0.007944848637197138,
           0.018329722786052882,
           0.018012247879914206,
           -0.0011055685934354797,
           0.006529690147797599,
           0.1555523796612108,
           0.0006499494639834729
          ],
          [
           0.08466368004866286,
           0.08466415406752269,
           0.0017405667597479558,
           -0.07397255432605877,
           0.04266649171888102,
           0.1291114801721258,
           -0.1340877348815342,
           -0.3780675975538276,
           -0.37806063643906934,
           0.06350963066912496,
           0.0635099792996093,
           0.01641735822724734,
           -0.050369804199993734,
           -0.03886690388131695,
           0.025988767528251557,
           -0.018718897561462916,
           1,
           0.9835707412955682,
           0.003888371404949225,
           0.005734327853110088,
           -0.0006495720064440984,
           0.0025133817554214466,
           0.06825583339372586,
           -0.3762733446979034
          ],
          [
           0.07936954727275368,
           0.07936987473174391,
           0.01812145117134589,
           -0.07669082770313335,
           0.016364856696993228,
           0.1115228845147136,
           -0.17423900783803717,
           -0.40804097326297195,
           -0.408033902349778,
           0.07933793522243295,
           0.07933830305690505,
           0.018976730250391007,
           -0.08191998867137264,
           0.016543922850684175,
           0.028741393392719895,
           -0.007944848637197138,
           0.9835707412955682,
           1,
           0.007873769701583721,
           0.008923164251572356,
           -0.0005870466000848968,
           0.0033440423063136747,
           0.08065974619591078,
           -0.41503626158232226
          ],
          [
           0.0009434329190268621,
           0.0009434605579468479,
           -0.0015585128441773647,
           0.009712182403923601,
           -0.019398141792378188,
           0.0002773800240364617,
           -0.020375596526898566,
           0.0022917288923200514,
           0.002309612934237534,
           0.005741499372593237,
           0.005741571055260866,
           0.0034353288562416697,
           0.00283742187527832,
           -0.015143647013457905,
           -0.002925742838975486,
           0.018329722786052882,
           0.003888371404949225,
           0.007873769701583721,
           1,
           0.9686566976050759,
           0.004524908935346541,
           -0.007945651118068088,
           0.11572071767661694,
           -0.03595722924636879
          ],
          [
           0.0017846778452778043,
           0.0017846935162624954,
           -0.0009890913791339218,
           0.009512979518229327,
           -0.02000642908564077,
           0.0012430043460512606,
           -0.020938346522420364,
           0.0028687023783312256,
           0.0028783641954465557,
           0.006015337132125581,
           0.006015417659482486,
           0.004149520229168299,
           0.003058027893671178,
           -0.015923455988370114,
           -0.003590446066926118,
           0.018012247879914206,
           0.005734327853110088,
           0.008923164251572356,
           0.9686566976050759,
           1,
           0.0056823913127318935,
           -0.01917403446683058,
           0.11734040188746168,
           -0.03798838559985832
          ],
          [
           0.0012994320966988224,
           0.0012994096648935932,
           -0.0008604654282589383,
           -0.0021639530511724466,
           -0.0007694755806417478,
           0.0010859809390130124,
           -0.002859443476950634,
           -0.004950090019207521,
           -0.004956066642798739,
           0.0007616574590694642,
           0.0007616243428259541,
           0.0021855660049446414,
           -0.004668291832823632,
           0.002449776014409099,
           -0.005792284526231053,
           -0.0011055685934354797,
           -0.0006495720064440984,
           -0.0005870466000848968,
           0.004524908935346541,
           0.0056823913127318935,
           1,
           0.005010417054053836,
           0.013488643672251284,
           -0.006110226048625313
          ],
          [
           -0.0019960320328277353,
           -0.0019960057304789,
           0.00267361630710462,
           0.002343681160756665,
           -0.007894956809852383,
           0.011114404405652154,
           0.005125369599398767,
           0.01057896225758264,
           0.010583766213913062,
           0.003687279519468612,
           0.0036872927069773686,
           0.006883784098213387,
           -0.0003060734005209962,
           -0.006559849938895762,
           0.004585166800596305,
           0.006529690147797599,
           0.0025133817554214466,
           0.0033440423063136747,
           -0.007945651118068088,
           -0.01917403446683058,
           0.005010417054053836,
           1,
           0.025692797165401033,
           -0.0009455252972115773
          ],
          [
           0.014627987949096526,
           0.01462787973516868,
           0.01077819940709913,
           -0.025389544687345052,
           0.02162391067610761,
           -0.09565956105626004,
           -0.17119486631035769,
           -0.09632119519109766,
           -0.09629901260602827,
           -0.01608055393771567,
           -0.01608060459306556,
           -0.04888070539295648,
           -0.028778970164586255,
           0.04015853887661711,
           0.13855517168329126,
           0.1555523796612108,
           0.06825583339372586,
           0.08065974619591078,
           0.11572071767661694,
           0.11734040188746168,
           0.013488643672251284,
           0.025692797165401033,
           1,
           -0.1571816695736759
          ],
          [
           -0.013249165492197597,
           -0.0132491124701479,
           0.030079524074146245,
           0.13529535211688012,
           0.02422309280433864,
           0.08354032647756407,
           0.6654119510898214,
           0.7715867200744319,
           0.7715783950125374,
           -0.013049913089028253,
           -0.013049884123860513,
           0.029580460440296406,
           0.13812154034982804,
           0.024156614319956405,
           -0.013698705196446935,
           0.0006499494639834729,
           -0.3762733446979034,
           -0.41503626158232226,
           -0.03595722924636879,
           -0.03798838559985832,
           -0.006110226048625313,
           -0.0009455252972115773,
           -0.1571816695736759,
           1
          ]
         ]
        }
       ],
       "layout": {
        "autosize": false,
        "height": 600,
        "template": {
         "data": {
          "bar": [
           {
            "error_x": {
             "color": "#2a3f5f"
            },
            "error_y": {
             "color": "#2a3f5f"
            },
            "marker": {
             "line": {
              "color": "#E5ECF6",
              "width": 0.5
             },
             "pattern": {
              "fillmode": "overlay",
              "size": 10,
              "solidity": 0.2
             }
            },
            "type": "bar"
           }
          ],
          "barpolar": [
           {
            "marker": {
             "line": {
              "color": "#E5ECF6",
              "width": 0.5
             },
             "pattern": {
              "fillmode": "overlay",
              "size": 10,
              "solidity": 0.2
             }
            },
            "type": "barpolar"
           }
          ],
          "carpet": [
           {
            "aaxis": {
             "endlinecolor": "#2a3f5f",
             "gridcolor": "white",
             "linecolor": "white",
             "minorgridcolor": "white",
             "startlinecolor": "#2a3f5f"
            },
            "baxis": {
             "endlinecolor": "#2a3f5f",
             "gridcolor": "white",
             "linecolor": "white",
             "minorgridcolor": "white",
             "startlinecolor": "#2a3f5f"
            },
            "type": "carpet"
           }
          ],
          "choropleth": [
           {
            "colorbar": {
             "outlinewidth": 0,
             "ticks": ""
            },
            "type": "choropleth"
           }
          ],
          "contour": [
           {
            "colorbar": {
             "outlinewidth": 0,
             "ticks": ""
            },
            "colorscale": [
             [
              0,
              "#0d0887"
             ],
             [
              0.1111111111111111,
              "#46039f"
             ],
             [
              0.2222222222222222,
              "#7201a8"
             ],
             [
              0.3333333333333333,
              "#9c179e"
             ],
             [
              0.4444444444444444,
              "#bd3786"
             ],
             [
              0.5555555555555556,
              "#d8576b"
             ],
             [
              0.6666666666666666,
              "#ed7953"
             ],
             [
              0.7777777777777778,
              "#fb9f3a"
             ],
             [
              0.8888888888888888,
              "#fdca26"
             ],
             [
              1,
              "#f0f921"
             ]
            ],
            "type": "contour"
           }
          ],
          "contourcarpet": [
           {
            "colorbar": {
             "outlinewidth": 0,
             "ticks": ""
            },
            "type": "contourcarpet"
           }
          ],
          "heatmap": [
           {
            "colorbar": {
             "outlinewidth": 0,
             "ticks": ""
            },
            "colorscale": [
             [
              0,
              "#0d0887"
             ],
             [
              0.1111111111111111,
              "#46039f"
             ],
             [
              0.2222222222222222,
              "#7201a8"
             ],
             [
              0.3333333333333333,
              "#9c179e"
             ],
             [
              0.4444444444444444,
              "#bd3786"
             ],
             [
              0.5555555555555556,
              "#d8576b"
             ],
             [
              0.6666666666666666,
              "#ed7953"
             ],
             [
              0.7777777777777778,
              "#fb9f3a"
             ],
             [
              0.8888888888888888,
              "#fdca26"
             ],
             [
              1,
              "#f0f921"
             ]
            ],
            "type": "heatmap"
           }
          ],
          "heatmapgl": [
           {
            "colorbar": {
             "outlinewidth": 0,
             "ticks": ""
            },
            "colorscale": [
             [
              0,
              "#0d0887"
             ],
             [
              0.1111111111111111,
              "#46039f"
             ],
             [
              0.2222222222222222,
              "#7201a8"
             ],
             [
              0.3333333333333333,
              "#9c179e"
             ],
             [
              0.4444444444444444,
              "#bd3786"
             ],
             [
              0.5555555555555556,
              "#d8576b"
             ],
             [
              0.6666666666666666,
              "#ed7953"
             ],
             [
              0.7777777777777778,
              "#fb9f3a"
             ],
             [
              0.8888888888888888,
              "#fdca26"
             ],
             [
              1,
              "#f0f921"
             ]
            ],
            "type": "heatmapgl"
           }
          ],
          "histogram": [
           {
            "marker": {
             "pattern": {
              "fillmode": "overlay",
              "size": 10,
              "solidity": 0.2
             }
            },
            "type": "histogram"
           }
          ],
          "histogram2d": [
           {
            "colorbar": {
             "outlinewidth": 0,
             "ticks": ""
            },
            "colorscale": [
             [
              0,
              "#0d0887"
             ],
             [
              0.1111111111111111,
              "#46039f"
             ],
             [
              0.2222222222222222,
              "#7201a8"
             ],
             [
              0.3333333333333333,
              "#9c179e"
             ],
             [
              0.4444444444444444,
              "#bd3786"
             ],
             [
              0.5555555555555556,
              "#d8576b"
             ],
             [
              0.6666666666666666,
              "#ed7953"
             ],
             [
              0.7777777777777778,
              "#fb9f3a"
             ],
             [
              0.8888888888888888,
              "#fdca26"
             ],
             [
              1,
              "#f0f921"
             ]
            ],
            "type": "histogram2d"
           }
          ],
          "histogram2dcontour": [
           {
            "colorbar": {
             "outlinewidth": 0,
             "ticks": ""
            },
            "colorscale": [
             [
              0,
              "#0d0887"
             ],
             [
              0.1111111111111111,
              "#46039f"
             ],
             [
              0.2222222222222222,
              "#7201a8"
             ],
             [
              0.3333333333333333,
              "#9c179e"
             ],
             [
              0.4444444444444444,
              "#bd3786"
             ],
             [
              0.5555555555555556,
              "#d8576b"
             ],
             [
              0.6666666666666666,
              "#ed7953"
             ],
             [
              0.7777777777777778,
              "#fb9f3a"
             ],
             [
              0.8888888888888888,
              "#fdca26"
             ],
             [
              1,
              "#f0f921"
             ]
            ],
            "type": "histogram2dcontour"
           }
          ],
          "mesh3d": [
           {
            "colorbar": {
             "outlinewidth": 0,
             "ticks": ""
            },
            "type": "mesh3d"
           }
          ],
          "parcoords": [
           {
            "line": {
             "colorbar": {
              "outlinewidth": 0,
              "ticks": ""
             }
            },
            "type": "parcoords"
           }
          ],
          "pie": [
           {
            "automargin": true,
            "type": "pie"
           }
          ],
          "scatter": [
           {
            "fillpattern": {
             "fillmode": "overlay",
             "size": 10,
             "solidity": 0.2
            },
            "type": "scatter"
           }
          ],
          "scatter3d": [
           {
            "line": {
             "colorbar": {
              "outlinewidth": 0,
              "ticks": ""
             }
            },
            "marker": {
             "colorbar": {
              "outlinewidth": 0,
              "ticks": ""
             }
            },
            "type": "scatter3d"
           }
          ],
          "scattercarpet": [
           {
            "marker": {
             "colorbar": {
              "outlinewidth": 0,
              "ticks": ""
             }
            },
            "type": "scattercarpet"
           }
          ],
          "scattergeo": [
           {
            "marker": {
             "colorbar": {
              "outlinewidth": 0,
              "ticks": ""
             }
            },
            "type": "scattergeo"
           }
          ],
          "scattergl": [
           {
            "marker": {
             "colorbar": {
              "outlinewidth": 0,
              "ticks": ""
             }
            },
            "type": "scattergl"
           }
          ],
          "scattermapbox": [
           {
            "marker": {
             "colorbar": {
              "outlinewidth": 0,
              "ticks": ""
             }
            },
            "type": "scattermapbox"
           }
          ],
          "scatterpolar": [
           {
            "marker": {
             "colorbar": {
              "outlinewidth": 0,
              "ticks": ""
             }
            },
            "type": "scatterpolar"
           }
          ],
          "scatterpolargl": [
           {
            "marker": {
             "colorbar": {
              "outlinewidth": 0,
              "ticks": ""
             }
            },
            "type": "scatterpolargl"
           }
          ],
          "scatterternary": [
           {
            "marker": {
             "colorbar": {
              "outlinewidth": 0,
              "ticks": ""
             }
            },
            "type": "scatterternary"
           }
          ],
          "surface": [
           {
            "colorbar": {
             "outlinewidth": 0,
             "ticks": ""
            },
            "colorscale": [
             [
              0,
              "#0d0887"
             ],
             [
              0.1111111111111111,
              "#46039f"
             ],
             [
              0.2222222222222222,
              "#7201a8"
             ],
             [
              0.3333333333333333,
              "#9c179e"
             ],
             [
              0.4444444444444444,
              "#bd3786"
             ],
             [
              0.5555555555555556,
              "#d8576b"
             ],
             [
              0.6666666666666666,
              "#ed7953"
             ],
             [
              0.7777777777777778,
              "#fb9f3a"
             ],
             [
              0.8888888888888888,
              "#fdca26"
             ],
             [
              1,
              "#f0f921"
             ]
            ],
            "type": "surface"
           }
          ],
          "table": [
           {
            "cells": {
             "fill": {
              "color": "#EBF0F8"
             },
             "line": {
              "color": "white"
             }
            },
            "header": {
             "fill": {
              "color": "#C8D4E3"
             },
             "line": {
              "color": "white"
             }
            },
            "type": "table"
           }
          ]
         },
         "layout": {
          "annotationdefaults": {
           "arrowcolor": "#2a3f5f",
           "arrowhead": 0,
           "arrowwidth": 1
          },
          "autotypenumbers": "strict",
          "coloraxis": {
           "colorbar": {
            "outlinewidth": 0,
            "ticks": ""
           }
          },
          "colorscale": {
           "diverging": [
            [
             0,
             "#8e0152"
            ],
            [
             0.1,
             "#c51b7d"
            ],
            [
             0.2,
             "#de77ae"
            ],
            [
             0.3,
             "#f1b6da"
            ],
            [
             0.4,
             "#fde0ef"
            ],
            [
             0.5,
             "#f7f7f7"
            ],
            [
             0.6,
             "#e6f5d0"
            ],
            [
             0.7,
             "#b8e186"
            ],
            [
             0.8,
             "#7fbc41"
            ],
            [
             0.9,
             "#4d9221"
            ],
            [
             1,
             "#276419"
            ]
           ],
           "sequential": [
            [
             0,
             "#0d0887"
            ],
            [
             0.1111111111111111,
             "#46039f"
            ],
            [
             0.2222222222222222,
             "#7201a8"
            ],
            [
             0.3333333333333333,
             "#9c179e"
            ],
            [
             0.4444444444444444,
             "#bd3786"
            ],
            [
             0.5555555555555556,
             "#d8576b"
            ],
            [
             0.6666666666666666,
             "#ed7953"
            ],
            [
             0.7777777777777778,
             "#fb9f3a"
            ],
            [
             0.8888888888888888,
             "#fdca26"
            ],
            [
             1,
             "#f0f921"
            ]
           ],
           "sequentialminus": [
            [
             0,
             "#0d0887"
            ],
            [
             0.1111111111111111,
             "#46039f"
            ],
            [
             0.2222222222222222,
             "#7201a8"
            ],
            [
             0.3333333333333333,
             "#9c179e"
            ],
            [
             0.4444444444444444,
             "#bd3786"
            ],
            [
             0.5555555555555556,
             "#d8576b"
            ],
            [
             0.6666666666666666,
             "#ed7953"
            ],
            [
             0.7777777777777778,
             "#fb9f3a"
            ],
            [
             0.8888888888888888,
             "#fdca26"
            ],
            [
             1,
             "#f0f921"
            ]
           ]
          },
          "colorway": [
           "#636efa",
           "#EF553B",
           "#00cc96",
           "#ab63fa",
           "#FFA15A",
           "#19d3f3",
           "#FF6692",
           "#B6E880",
           "#FF97FF",
           "#FECB52"
          ],
          "font": {
           "color": "#2a3f5f"
          },
          "geo": {
           "bgcolor": "white",
           "lakecolor": "white",
           "landcolor": "#E5ECF6",
           "showlakes": true,
           "showland": true,
           "subunitcolor": "white"
          },
          "hoverlabel": {
           "align": "left"
          },
          "hovermode": "closest",
          "mapbox": {
           "style": "light"
          },
          "paper_bgcolor": "white",
          "plot_bgcolor": "#E5ECF6",
          "polar": {
           "angularaxis": {
            "gridcolor": "white",
            "linecolor": "white",
            "ticks": ""
           },
           "bgcolor": "#E5ECF6",
           "radialaxis": {
            "gridcolor": "white",
            "linecolor": "white",
            "ticks": ""
           }
          },
          "scene": {
           "xaxis": {
            "backgroundcolor": "#E5ECF6",
            "gridcolor": "white",
            "gridwidth": 2,
            "linecolor": "white",
            "showbackground": true,
            "ticks": "",
            "zerolinecolor": "white"
           },
           "yaxis": {
            "backgroundcolor": "#E5ECF6",
            "gridcolor": "white",
            "gridwidth": 2,
            "linecolor": "white",
            "showbackground": true,
            "ticks": "",
            "zerolinecolor": "white"
           },
           "zaxis": {
            "backgroundcolor": "#E5ECF6",
            "gridcolor": "white",
            "gridwidth": 2,
            "linecolor": "white",
            "showbackground": true,
            "ticks": "",
            "zerolinecolor": "white"
           }
          },
          "shapedefaults": {
           "line": {
            "color": "#2a3f5f"
           }
          },
          "ternary": {
           "aaxis": {
            "gridcolor": "white",
            "linecolor": "white",
            "ticks": ""
           },
           "baxis": {
            "gridcolor": "white",
            "linecolor": "white",
            "ticks": ""
           },
           "bgcolor": "#E5ECF6",
           "caxis": {
            "gridcolor": "white",
            "linecolor": "white",
            "ticks": ""
           }
          },
          "title": {
           "x": 0.05
          },
          "xaxis": {
           "automargin": true,
           "gridcolor": "white",
           "linecolor": "white",
           "ticks": "",
           "title": {
            "standoff": 15
           },
           "zerolinecolor": "white",
           "zerolinewidth": 2
          },
          "yaxis": {
           "automargin": true,
           "gridcolor": "white",
           "linecolor": "white",
           "ticks": "",
           "title": {
            "standoff": 15
           },
           "zerolinecolor": "white",
           "zerolinewidth": 2
          }
         }
        },
        "title": {
         "text": "Airline Feature Correlation"
        },
        "width": 1000
       }
      }
     },
     "metadata": {},
     "output_type": "display_data"
    }
   ],
   "source": [
    "# Correlation Plot using Plotly\n",
    "flight_corr = flight_delay_df.corr()\n",
    "\n",
    "fig = go.Figure()\n",
    "\n",
    "fig.add_trace(\n",
    "    go.Heatmap(\n",
    "        x = flight_corr.columns,\n",
    "        y = flight_corr.index,\n",
    "        z = np.array(flight_corr),\n",
    "        text=flight_corr.values,\n",
    "        texttemplate='%{text:.2f}' #set the size of the text inside the graphs\n",
    "    )\n",
    ")\n",
    "\n",
    "fig.update_layout(\n",
    "    title='Airline Feature Correlation',\n",
    "    autosize=False,\n",
    "    width=1000,\n",
    "    height=600\n",
    ")\n",
    "\n",
    "fig.show()"
   ]
  },
  {
   "cell_type": "code",
   "execution_count": 9,
   "metadata": {},
   "outputs": [],
   "source": [
    "# Features converted to corresponding group type\n",
    "flight_data_df[cat_features] = flight_data_df[cat_features].astype('category')\n",
    "flight_data_df[ord_features] = flight_data_df[ord_features].astype(np.int64)\n",
    "flight_data_df[cont_features] = flight_data_df[cont_features].astype(np.int64)\n",
    "flight_data_df['FlightDate'] = pd.to_datetime(flight_data_df['FlightDate']).dt.date"
   ]
  },
  {
   "cell_type": "code",
   "execution_count": 10,
   "metadata": {},
   "outputs": [
    {
     "data": {
      "text/plain": [
       "count     199226\n",
       "unique      5727\n",
       "top       N491HA\n",
       "freq         104\n",
       "Name: Tail_Number, dtype: object"
      ]
     },
     "execution_count": 10,
     "metadata": {},
     "output_type": "execute_result"
    }
   ],
   "source": [
    "# Tail Number Evaluation\n",
    "flight_delay_df['Tail_Number'].describe()"
   ]
  },
  {
   "cell_type": "code",
   "execution_count": 11,
   "metadata": {},
   "outputs": [
    {
     "data": {
      "text/html": [
       "<div>\n",
       "<style scoped>\n",
       "    .dataframe tbody tr th:only-of-type {\n",
       "        vertical-align: middle;\n",
       "    }\n",
       "\n",
       "    .dataframe tbody tr th {\n",
       "        vertical-align: top;\n",
       "    }\n",
       "\n",
       "    .dataframe thead th {\n",
       "        text-align: right;\n",
       "    }\n",
       "</style>\n",
       "<table border=\"1\" class=\"dataframe\">\n",
       "  <thead>\n",
       "    <tr style=\"text-align: right;\">\n",
       "      <th></th>\n",
       "      <th>Tail_Number</th>\n",
       "      <th>On-Time</th>\n",
       "      <th>Delayed</th>\n",
       "      <th>Total</th>\n",
       "      <th>Frequency</th>\n",
       "    </tr>\n",
       "  </thead>\n",
       "  <tbody>\n",
       "    <tr>\n",
       "      <th>4717</th>\n",
       "      <td>N8658A</td>\n",
       "      <td>41.0</td>\n",
       "      <td>47.0</td>\n",
       "      <td>88.0</td>\n",
       "      <td>53.41</td>\n",
       "    </tr>\n",
       "    <tr>\n",
       "      <th>4697</th>\n",
       "      <td>N8642E</td>\n",
       "      <td>22.0</td>\n",
       "      <td>44.0</td>\n",
       "      <td>66.0</td>\n",
       "      <td>66.67</td>\n",
       "    </tr>\n",
       "    <tr>\n",
       "      <th>5386</th>\n",
       "      <td>N935WN</td>\n",
       "      <td>15.0</td>\n",
       "      <td>44.0</td>\n",
       "      <td>59.0</td>\n",
       "      <td>74.58</td>\n",
       "    </tr>\n",
       "    <tr>\n",
       "      <th>4629</th>\n",
       "      <td>N8602F</td>\n",
       "      <td>19.0</td>\n",
       "      <td>43.0</td>\n",
       "      <td>62.0</td>\n",
       "      <td>69.35</td>\n",
       "    </tr>\n",
       "    <tr>\n",
       "      <th>4481</th>\n",
       "      <td>N8501V</td>\n",
       "      <td>28.0</td>\n",
       "      <td>42.0</td>\n",
       "      <td>70.0</td>\n",
       "      <td>60.00</td>\n",
       "    </tr>\n",
       "    <tr>\n",
       "      <th>...</th>\n",
       "      <td>...</td>\n",
       "      <td>...</td>\n",
       "      <td>...</td>\n",
       "      <td>...</td>\n",
       "      <td>...</td>\n",
       "    </tr>\n",
       "    <tr>\n",
       "      <th>3842</th>\n",
       "      <td>N7718B</td>\n",
       "      <td>3.0</td>\n",
       "      <td>1.0</td>\n",
       "      <td>4.0</td>\n",
       "      <td>25.00</td>\n",
       "    </tr>\n",
       "    <tr>\n",
       "      <th>3836</th>\n",
       "      <td>N77066</td>\n",
       "      <td>1.0</td>\n",
       "      <td>1.0</td>\n",
       "      <td>2.0</td>\n",
       "      <td>50.00</td>\n",
       "    </tr>\n",
       "    <tr>\n",
       "      <th>2481</th>\n",
       "      <td>N511MJ</td>\n",
       "      <td>7.0</td>\n",
       "      <td>1.0</td>\n",
       "      <td>8.0</td>\n",
       "      <td>12.50</td>\n",
       "    </tr>\n",
       "    <tr>\n",
       "      <th>4376</th>\n",
       "      <td>N833AA</td>\n",
       "      <td>3.0</td>\n",
       "      <td>1.0</td>\n",
       "      <td>4.0</td>\n",
       "      <td>25.00</td>\n",
       "    </tr>\n",
       "    <tr>\n",
       "      <th>4196</th>\n",
       "      <td>N815AA</td>\n",
       "      <td>1.0</td>\n",
       "      <td>1.0</td>\n",
       "      <td>2.0</td>\n",
       "      <td>50.00</td>\n",
       "    </tr>\n",
       "  </tbody>\n",
       "</table>\n",
       "<p>5595 rows × 5 columns</p>\n",
       "</div>"
      ],
      "text/plain": [
       "     Tail_Number  On-Time  Delayed  Total  Frequency\n",
       "4717      N8658A     41.0     47.0   88.0      53.41\n",
       "4697      N8642E     22.0     44.0   66.0      66.67\n",
       "5386      N935WN     15.0     44.0   59.0      74.58\n",
       "4629      N8602F     19.0     43.0   62.0      69.35\n",
       "4481      N8501V     28.0     42.0   70.0      60.00\n",
       "...          ...      ...      ...    ...        ...\n",
       "3842      N7718B      3.0      1.0    4.0      25.00\n",
       "3836      N77066      1.0      1.0    2.0      50.00\n",
       "2481      N511MJ      7.0      1.0    8.0      12.50\n",
       "4376      N833AA      3.0      1.0    4.0      25.00\n",
       "4196      N815AA      1.0      1.0    2.0      50.00\n",
       "\n",
       "[5595 rows x 5 columns]"
      ]
     },
     "execution_count": 11,
     "metadata": {},
     "output_type": "execute_result"
    }
   ],
   "source": [
    "# Tail Number Delay Frequency\n",
    "tail_df = pd.pivot_table(flight_delay_df, values='Distance', index =['Tail_Number'], aggfunc = 'count', columns='Delayed').reset_index()\n",
    "tail_df.columns = ['Tail_Number', 'On-Time', 'Delayed']\n",
    "tail_df['Total'] = tail_df['Delayed'] + tail_df['On-Time']\n",
    "tail_df['Frequency'] = round((tail_df['Delayed'] / tail_df['Total'] * 100),2)\n",
    "\n",
    "tail_df[tail_df['Total'].notnull()].sort_values(by=['Delayed'], ascending=False)"
   ]
  },
  {
   "attachments": {},
   "cell_type": "markdown",
   "metadata": {},
   "source": [
    "Many categorical features have a corresponding numeric feature. Wherever possible, we've decided to utilize the numeric representation of these features."
   ]
  },
  {
   "cell_type": "markdown",
   "metadata": {},
   "source": [
    "cat_remove = ['Airline', 'Dest', 'DestCityName', 'DestState', 'DestStateName', \n",
    "    'DOT_ID_Operating_Airline', 'Flight_Number_Operating_Airline', 'IATA_Code_Marketing_Airline',\n",
    "    'IATA_Code_Operating_Airline', 'Marketing_Airline_Network', 'Operated_or_Branded_Code_Share_Partners',\n",
    "    'Operating_Airline', 'Origin', 'OriginCityName', 'OriginState', 'OriginStateName', 'DestAirportSeqID',\n",
    "    'OriginAirportSeqID']\n"
   ]
  },
  {
   "cell_type": "code",
   "execution_count": 12,
   "metadata": {},
   "outputs": [],
   "source": [
    "# Features to remove\n",
    "cat_remove = ['Airline', 'Dest', 'DestCityName', 'DestState', 'DestStateName', \n",
    "    'DOT_ID_Operating_Airline', 'Flight_Number_Operating_Airline', 'IATA_Code_Marketing_Airline',\n",
    "    'IATA_Code_Operating_Airline', 'Marketing_Airline_Network', 'Operated_or_Branded_Code_Share_Partners',\n",
    "    'Operating_Airline', 'Origin', 'OriginCityName', 'OriginState', 'OriginStateName', 'DestAirportSeqID',\n",
    "    'OriginAirportSeqID', 'Tail_Number', 'DestCityMarketID']\n",
    "cont_remove = ['CRSArrTime', 'CRSElapsedTime']\n",
    "ord_remove = ['Quarter']"
   ]
  },
  {
   "cell_type": "code",
   "execution_count": 13,
   "metadata": {},
   "outputs": [],
   "source": [
    "# Removing features from category groups\n",
    "for n in cat_remove:\n",
    "    if n in cat_features:\n",
    "        cat_features.remove(n)\n",
    "\n",
    "for n in cont_remove:\n",
    "    if n in cont_features:\n",
    "        cont_features.remove(n)\n",
    "\n",
    "for n in ord_remove:\n",
    "    if n in ord_features:\n",
    "        ord_features.remove(n)\n"
   ]
  },
  {
   "cell_type": "code",
   "execution_count": 14,
   "metadata": {},
   "outputs": [
    {
     "data": {
      "text/plain": [
       "(200000, 16)"
      ]
     },
     "execution_count": 14,
     "metadata": {},
     "output_type": "execute_result"
    }
   ],
   "source": [
    "# Creating new dataset with updated feature lists\n",
    "flight_delay_df = flight_data_df[cat_features + cont_features + ord_features]\n",
    "flight_delay_df.shape"
   ]
  },
  {
   "attachments": {},
   "cell_type": "markdown",
   "metadata": {},
   "source": [
    "Tail Number has over 5700 unique values. One Hot Encoding Tail Number will add too many features to the dataset, for the given observation count. Additionaly, future datasets will likely contain different tail numbers. Practically, this makes tail number an unrealistic feature to include in the model. For the curious, we've provided a table of tail numbers sourted by the number of times delayed and provided their relative freqency of being delayed. There are clearly some aircraft that are much more likely to be delayed than others."
   ]
  },
  {
   "cell_type": "code",
   "execution_count": 15,
   "metadata": {},
   "outputs": [
    {
     "data": {
      "text/html": [
       "<div>\n",
       "<style scoped>\n",
       "    .dataframe tbody tr th:only-of-type {\n",
       "        vertical-align: middle;\n",
       "    }\n",
       "\n",
       "    .dataframe tbody tr th {\n",
       "        vertical-align: top;\n",
       "    }\n",
       "\n",
       "    .dataframe thead th {\n",
       "        text-align: right;\n",
       "    }\n",
       "</style>\n",
       "<table border=\"1\" class=\"dataframe\">\n",
       "  <thead>\n",
       "    <tr style=\"text-align: right;\">\n",
       "      <th></th>\n",
       "      <th>DestAirportID</th>\n",
       "      <th>DestStateFips</th>\n",
       "      <th>DestWac</th>\n",
       "      <th>DOT_ID_Marketing_Airline</th>\n",
       "      <th>Flight_Number_Marketing_Airline</th>\n",
       "      <th>OriginAirportID</th>\n",
       "      <th>OriginCityMarketID</th>\n",
       "      <th>OriginStateFips</th>\n",
       "      <th>OriginWac</th>\n",
       "    </tr>\n",
       "  </thead>\n",
       "  <tbody>\n",
       "    <tr>\n",
       "      <th>count</th>\n",
       "      <td>200000</td>\n",
       "      <td>200000</td>\n",
       "      <td>200000</td>\n",
       "      <td>200000</td>\n",
       "      <td>200000</td>\n",
       "      <td>200000</td>\n",
       "      <td>200000</td>\n",
       "      <td>200000</td>\n",
       "      <td>200000</td>\n",
       "    </tr>\n",
       "    <tr>\n",
       "      <th>unique</th>\n",
       "      <td>378</td>\n",
       "      <td>53</td>\n",
       "      <td>53</td>\n",
       "      <td>10</td>\n",
       "      <td>6495</td>\n",
       "      <td>377</td>\n",
       "      <td>353</td>\n",
       "      <td>53</td>\n",
       "      <td>53</td>\n",
       "    </tr>\n",
       "    <tr>\n",
       "      <th>top</th>\n",
       "      <td>10397</td>\n",
       "      <td>48</td>\n",
       "      <td>74</td>\n",
       "      <td>19805</td>\n",
       "      <td>678</td>\n",
       "      <td>10397</td>\n",
       "      <td>30977</td>\n",
       "      <td>48</td>\n",
       "      <td>74</td>\n",
       "    </tr>\n",
       "    <tr>\n",
       "      <th>freq</th>\n",
       "      <td>10044</td>\n",
       "      <td>21972</td>\n",
       "      <td>21972</td>\n",
       "      <td>52560</td>\n",
       "      <td>95</td>\n",
       "      <td>9822</td>\n",
       "      <td>11169</td>\n",
       "      <td>22065</td>\n",
       "      <td>22065</td>\n",
       "    </tr>\n",
       "  </tbody>\n",
       "</table>\n",
       "</div>"
      ],
      "text/plain": [
       "        DestAirportID  DestStateFips  DestWac  DOT_ID_Marketing_Airline  \\\n",
       "count          200000         200000   200000                    200000   \n",
       "unique            378             53       53                        10   \n",
       "top             10397             48       74                     19805   \n",
       "freq            10044          21972    21972                     52560   \n",
       "\n",
       "        Flight_Number_Marketing_Airline  OriginAirportID  OriginCityMarketID  \\\n",
       "count                            200000           200000              200000   \n",
       "unique                             6495              377                 353   \n",
       "top                                 678            10397               30977   \n",
       "freq                                 95             9822               11169   \n",
       "\n",
       "        OriginStateFips  OriginWac  \n",
       "count            200000     200000  \n",
       "unique               53         53  \n",
       "top                  48         74  \n",
       "freq              22065      22065  "
      ]
     },
     "execution_count": 15,
     "metadata": {},
     "output_type": "execute_result"
    }
   ],
   "source": [
    "flight_delay_df[cat_features].describe()"
   ]
  },
  {
   "cell_type": "code",
   "execution_count": 16,
   "metadata": {},
   "outputs": [
    {
     "name": "stdout",
     "output_type": "stream",
     "text": [
      "<class 'pandas.core.frame.DataFrame'>\n",
      "RangeIndex: 200000 entries, 0 to 199999\n",
      "Data columns (total 16 columns):\n",
      " #   Column                           Non-Null Count   Dtype   \n",
      "---  ------                           --------------   -----   \n",
      " 0   DestAirportID                    200000 non-null  category\n",
      " 1   DestStateFips                    200000 non-null  category\n",
      " 2   DestWac                          200000 non-null  category\n",
      " 3   DOT_ID_Marketing_Airline         200000 non-null  category\n",
      " 4   Flight_Number_Marketing_Airline  200000 non-null  category\n",
      " 5   OriginAirportID                  200000 non-null  category\n",
      " 6   OriginCityMarketID               200000 non-null  category\n",
      " 7   OriginStateFips                  200000 non-null  category\n",
      " 8   OriginWac                        200000 non-null  category\n",
      " 9   CRSDepTime                       200000 non-null  int64   \n",
      " 10  Distance                         200000 non-null  int64   \n",
      " 11  Month                            200000 non-null  int64   \n",
      " 12  DayofMonth                       200000 non-null  int64   \n",
      " 13  DayOfWeek                        200000 non-null  int64   \n",
      " 14  Delayed                          200000 non-null  int64   \n",
      " 15  Dif_Oper                         200000 non-null  int64   \n",
      "dtypes: category(9), int64(7)\n",
      "memory usage: 13.5 MB\n"
     ]
    }
   ],
   "source": [
    "flight_delay_df.info()"
   ]
  },
  {
   "cell_type": "code",
   "execution_count": 17,
   "metadata": {},
   "outputs": [],
   "source": [
    "# Train/Test Split\n",
    "X = flight_delay_df.drop(['Delayed'], axis=1)\n",
    "Y = flight_delay_df['Delayed']"
   ]
  },
  {
   "cell_type": "code",
   "execution_count": 18,
   "metadata": {},
   "outputs": [],
   "source": [
    "# One Hot Encoding\n",
    "onehot_encoder = OneHotEncoder(drop='first', sparse_output=True)\n",
    "label_encoder = LabelEncoder()\n",
    "X = onehot_encoder.fit_transform(X)\n",
    "Y = label_encoder.fit_transform(Y)"
   ]
  },
  {
   "cell_type": "code",
   "execution_count": 19,
   "metadata": {},
   "outputs": [],
   "source": [
    "X_train, X_test, Y_train, Y_test = train_test_split(X, Y, test_size=0.2, random_state=110)"
   ]
  },
  {
   "attachments": {},
   "cell_type": "markdown",
   "metadata": {},
   "source": [
    "## Logistic Regression"
   ]
  },
  {
   "cell_type": "code",
   "execution_count": 20,
   "metadata": {},
   "outputs": [],
   "source": [
    "# Basic Logistic Regression\n",
    "logmod_opt = LogisticRegression(random_state=10)"
   ]
  },
  {
   "cell_type": "code",
   "execution_count": 21,
   "metadata": {},
   "outputs": [
    {
     "name": "stdout",
     "output_type": "stream",
     "text": [
      "LogisticRegression\n",
      "Basic Score:  0.740075\n",
      "Feature Selection Score:  0.702675\n",
      "              precision    recall  f1-score   support\n",
      "\n",
      "           0       0.73      0.87      0.80     26936\n",
      "           1       0.56      0.34      0.42     13064\n",
      "\n",
      "    accuracy                           0.70     40000\n",
      "   macro avg       0.65      0.61      0.61     40000\n",
      "weighted avg       0.68      0.70      0.67     40000\n",
      "\n",
      "              precision    recall  f1-score   support\n",
      "\n",
      "           0       0.71      0.92      0.80     26936\n",
      "           1       0.57      0.24      0.33     13064\n",
      "\n",
      "    accuracy                           0.69     40000\n",
      "   macro avg       0.64      0.58      0.57     40000\n",
      "weighted avg       0.67      0.69      0.65     40000\n",
      "\n"
     ]
    }
   ],
   "source": [
    "# Basic Logistic Regression\n",
    "logmod = LogisticRegression(random_state=10, max_iter=5000)\n",
    "log_fit = logmod.fit(X_train, Y_train)\n",
    "logmod_pred = logmod.predict(X_test)\n",
    "\n",
    "# Feature selection\n",
    "logmod2 = LogisticRegression(random_state=10, max_iter=5000)\n",
    "logmod2.fit(X_train, Y_train)\n",
    "\n",
    "model = SelectFromModel(logmod2, max_features=500, prefit=True, threshold='median')\n",
    "X_train_new = model.transform(X_train)\n",
    "X_test_new = model.transform(X_test)\n",
    "\n",
    "log_fit2 = logmod2.fit(X_train_new, Y_train)\n",
    "logmod_pred2 = logmod2.predict(X_test_new)\n",
    "\n",
    "# Model Scores\n",
    "print('LogisticRegression')\n",
    "print('Basic Score: ', logmod.score(X_train, Y_train))\n",
    "print('Feature Selection Score: ', logmod2.score(X_train_new, Y_train))\n",
    "\n",
    "# Confusion Matrix\n",
    "print(classification_report(Y_test, logmod_pred))\n",
    "print(classification_report(Y_test, logmod_pred2))"
   ]
  },
  {
   "cell_type": "code",
   "execution_count": 86,
   "metadata": {},
   "outputs": [],
   "source": [
    "# Grid Search Param\n",
    "param_grid = [    \n",
    "    {'penalty' : ['l1', 'l2', 'elasticnet', 'none'],\n",
    "    'C' : [0.1, 1, 10, 100, 1000],\n",
    "    'solver' : ['lbfgs','newton-cg','liblinear','sag','saga'],\n",
    "    'max_iter' : [100, 1000,2500, 5000]\n",
    "    }\n",
    "]"
   ]
  },
  {
   "cell_type": "code",
   "execution_count": 87,
   "metadata": {},
   "outputs": [],
   "source": [
    "# Optimized Logistic Regression\n",
    "clf = GridSearchCV(logmod2, param_grid = param_grid, cv=None , verbose=False, n_jobs=-1, scoring='precision')"
   ]
  },
  {
   "cell_type": "code",
   "execution_count": 88,
   "metadata": {},
   "outputs": [
    {
     "name": "stderr",
     "output_type": "stream",
     "text": [
      "C:\\Users\\corey\\AppData\\Local\\Packages\\PythonSoftwareFoundation.Python.3.9_qbz5n2kfra8p0\\LocalCache\\local-packages\\Python39\\site-packages\\sklearn\\model_selection\\_validation.py:378: FitFailedWarning:\n",
      "\n",
      "\n",
      "900 fits failed out of a total of 2000.\n",
      "The score on these train-test partitions for these parameters will be set to nan.\n",
      "If these failures are not expected, you can try to debug them by setting error_score='raise'.\n",
      "\n",
      "Below are more details about the failures:\n",
      "--------------------------------------------------------------------------------\n",
      "100 fits failed with the following error:\n",
      "Traceback (most recent call last):\n",
      "  File \"C:\\Users\\corey\\AppData\\Local\\Packages\\PythonSoftwareFoundation.Python.3.9_qbz5n2kfra8p0\\LocalCache\\local-packages\\Python39\\site-packages\\sklearn\\model_selection\\_validation.py\", line 686, in _fit_and_score\n",
      "    estimator.fit(X_train, y_train, **fit_params)\n",
      "  File \"C:\\Users\\corey\\AppData\\Local\\Packages\\PythonSoftwareFoundation.Python.3.9_qbz5n2kfra8p0\\LocalCache\\local-packages\\Python39\\site-packages\\sklearn\\linear_model\\_logistic.py\", line 1162, in fit\n",
      "    solver = _check_solver(self.solver, self.penalty, self.dual)\n",
      "  File \"C:\\Users\\corey\\AppData\\Local\\Packages\\PythonSoftwareFoundation.Python.3.9_qbz5n2kfra8p0\\LocalCache\\local-packages\\Python39\\site-packages\\sklearn\\linear_model\\_logistic.py\", line 54, in _check_solver\n",
      "    raise ValueError(\n",
      "ValueError: Solver lbfgs supports only 'l2' or 'none' penalties, got l1 penalty.\n",
      "\n",
      "--------------------------------------------------------------------------------\n",
      "100 fits failed with the following error:\n",
      "Traceback (most recent call last):\n",
      "  File \"C:\\Users\\corey\\AppData\\Local\\Packages\\PythonSoftwareFoundation.Python.3.9_qbz5n2kfra8p0\\LocalCache\\local-packages\\Python39\\site-packages\\sklearn\\model_selection\\_validation.py\", line 686, in _fit_and_score\n",
      "    estimator.fit(X_train, y_train, **fit_params)\n",
      "  File \"C:\\Users\\corey\\AppData\\Local\\Packages\\PythonSoftwareFoundation.Python.3.9_qbz5n2kfra8p0\\LocalCache\\local-packages\\Python39\\site-packages\\sklearn\\linear_model\\_logistic.py\", line 1162, in fit\n",
      "    solver = _check_solver(self.solver, self.penalty, self.dual)\n",
      "  File \"C:\\Users\\corey\\AppData\\Local\\Packages\\PythonSoftwareFoundation.Python.3.9_qbz5n2kfra8p0\\LocalCache\\local-packages\\Python39\\site-packages\\sklearn\\linear_model\\_logistic.py\", line 54, in _check_solver\n",
      "    raise ValueError(\n",
      "ValueError: Solver newton-cg supports only 'l2' or 'none' penalties, got l1 penalty.\n",
      "\n",
      "--------------------------------------------------------------------------------\n",
      "100 fits failed with the following error:\n",
      "Traceback (most recent call last):\n",
      "  File \"C:\\Users\\corey\\AppData\\Local\\Packages\\PythonSoftwareFoundation.Python.3.9_qbz5n2kfra8p0\\LocalCache\\local-packages\\Python39\\site-packages\\sklearn\\model_selection\\_validation.py\", line 686, in _fit_and_score\n",
      "    estimator.fit(X_train, y_train, **fit_params)\n",
      "  File \"C:\\Users\\corey\\AppData\\Local\\Packages\\PythonSoftwareFoundation.Python.3.9_qbz5n2kfra8p0\\LocalCache\\local-packages\\Python39\\site-packages\\sklearn\\linear_model\\_logistic.py\", line 1162, in fit\n",
      "    solver = _check_solver(self.solver, self.penalty, self.dual)\n",
      "  File \"C:\\Users\\corey\\AppData\\Local\\Packages\\PythonSoftwareFoundation.Python.3.9_qbz5n2kfra8p0\\LocalCache\\local-packages\\Python39\\site-packages\\sklearn\\linear_model\\_logistic.py\", line 54, in _check_solver\n",
      "    raise ValueError(\n",
      "ValueError: Solver sag supports only 'l2' or 'none' penalties, got l1 penalty.\n",
      "\n",
      "--------------------------------------------------------------------------------\n",
      "100 fits failed with the following error:\n",
      "Traceback (most recent call last):\n",
      "  File \"C:\\Users\\corey\\AppData\\Local\\Packages\\PythonSoftwareFoundation.Python.3.9_qbz5n2kfra8p0\\LocalCache\\local-packages\\Python39\\site-packages\\sklearn\\model_selection\\_validation.py\", line 686, in _fit_and_score\n",
      "    estimator.fit(X_train, y_train, **fit_params)\n",
      "  File \"C:\\Users\\corey\\AppData\\Local\\Packages\\PythonSoftwareFoundation.Python.3.9_qbz5n2kfra8p0\\LocalCache\\local-packages\\Python39\\site-packages\\sklearn\\linear_model\\_logistic.py\", line 1162, in fit\n",
      "    solver = _check_solver(self.solver, self.penalty, self.dual)\n",
      "  File \"C:\\Users\\corey\\AppData\\Local\\Packages\\PythonSoftwareFoundation.Python.3.9_qbz5n2kfra8p0\\LocalCache\\local-packages\\Python39\\site-packages\\sklearn\\linear_model\\_logistic.py\", line 54, in _check_solver\n",
      "    raise ValueError(\n",
      "ValueError: Solver lbfgs supports only 'l2' or 'none' penalties, got elasticnet penalty.\n",
      "\n",
      "--------------------------------------------------------------------------------\n",
      "100 fits failed with the following error:\n",
      "Traceback (most recent call last):\n",
      "  File \"C:\\Users\\corey\\AppData\\Local\\Packages\\PythonSoftwareFoundation.Python.3.9_qbz5n2kfra8p0\\LocalCache\\local-packages\\Python39\\site-packages\\sklearn\\model_selection\\_validation.py\", line 686, in _fit_and_score\n",
      "    estimator.fit(X_train, y_train, **fit_params)\n",
      "  File \"C:\\Users\\corey\\AppData\\Local\\Packages\\PythonSoftwareFoundation.Python.3.9_qbz5n2kfra8p0\\LocalCache\\local-packages\\Python39\\site-packages\\sklearn\\linear_model\\_logistic.py\", line 1162, in fit\n",
      "    solver = _check_solver(self.solver, self.penalty, self.dual)\n",
      "  File \"C:\\Users\\corey\\AppData\\Local\\Packages\\PythonSoftwareFoundation.Python.3.9_qbz5n2kfra8p0\\LocalCache\\local-packages\\Python39\\site-packages\\sklearn\\linear_model\\_logistic.py\", line 54, in _check_solver\n",
      "    raise ValueError(\n",
      "ValueError: Solver newton-cg supports only 'l2' or 'none' penalties, got elasticnet penalty.\n",
      "\n",
      "--------------------------------------------------------------------------------\n",
      "100 fits failed with the following error:\n",
      "Traceback (most recent call last):\n",
      "  File \"C:\\Users\\corey\\AppData\\Local\\Packages\\PythonSoftwareFoundation.Python.3.9_qbz5n2kfra8p0\\LocalCache\\local-packages\\Python39\\site-packages\\sklearn\\model_selection\\_validation.py\", line 686, in _fit_and_score\n",
      "    estimator.fit(X_train, y_train, **fit_params)\n",
      "  File \"C:\\Users\\corey\\AppData\\Local\\Packages\\PythonSoftwareFoundation.Python.3.9_qbz5n2kfra8p0\\LocalCache\\local-packages\\Python39\\site-packages\\sklearn\\linear_model\\_logistic.py\", line 1162, in fit\n",
      "    solver = _check_solver(self.solver, self.penalty, self.dual)\n",
      "  File \"C:\\Users\\corey\\AppData\\Local\\Packages\\PythonSoftwareFoundation.Python.3.9_qbz5n2kfra8p0\\LocalCache\\local-packages\\Python39\\site-packages\\sklearn\\linear_model\\_logistic.py\", line 64, in _check_solver\n",
      "    raise ValueError(\n",
      "ValueError: Only 'saga' solver supports elasticnet penalty, got solver=liblinear.\n",
      "\n",
      "--------------------------------------------------------------------------------\n",
      "100 fits failed with the following error:\n",
      "Traceback (most recent call last):\n",
      "  File \"C:\\Users\\corey\\AppData\\Local\\Packages\\PythonSoftwareFoundation.Python.3.9_qbz5n2kfra8p0\\LocalCache\\local-packages\\Python39\\site-packages\\sklearn\\model_selection\\_validation.py\", line 686, in _fit_and_score\n",
      "    estimator.fit(X_train, y_train, **fit_params)\n",
      "  File \"C:\\Users\\corey\\AppData\\Local\\Packages\\PythonSoftwareFoundation.Python.3.9_qbz5n2kfra8p0\\LocalCache\\local-packages\\Python39\\site-packages\\sklearn\\linear_model\\_logistic.py\", line 1162, in fit\n",
      "    solver = _check_solver(self.solver, self.penalty, self.dual)\n",
      "  File \"C:\\Users\\corey\\AppData\\Local\\Packages\\PythonSoftwareFoundation.Python.3.9_qbz5n2kfra8p0\\LocalCache\\local-packages\\Python39\\site-packages\\sklearn\\linear_model\\_logistic.py\", line 54, in _check_solver\n",
      "    raise ValueError(\n",
      "ValueError: Solver sag supports only 'l2' or 'none' penalties, got elasticnet penalty.\n",
      "\n",
      "--------------------------------------------------------------------------------\n",
      "100 fits failed with the following error:\n",
      "Traceback (most recent call last):\n",
      "  File \"C:\\Users\\corey\\AppData\\Local\\Packages\\PythonSoftwareFoundation.Python.3.9_qbz5n2kfra8p0\\LocalCache\\local-packages\\Python39\\site-packages\\sklearn\\model_selection\\_validation.py\", line 686, in _fit_and_score\n",
      "    estimator.fit(X_train, y_train, **fit_params)\n",
      "  File \"C:\\Users\\corey\\AppData\\Local\\Packages\\PythonSoftwareFoundation.Python.3.9_qbz5n2kfra8p0\\LocalCache\\local-packages\\Python39\\site-packages\\sklearn\\linear_model\\_logistic.py\", line 1291, in fit\n",
      "    fold_coefs_ = Parallel(n_jobs=self.n_jobs, verbose=self.verbose, prefer=prefer)(\n",
      "  File \"C:\\Users\\corey\\AppData\\Local\\Packages\\PythonSoftwareFoundation.Python.3.9_qbz5n2kfra8p0\\LocalCache\\local-packages\\Python39\\site-packages\\joblib\\parallel.py\", line 1085, in __call__\n",
      "    if self.dispatch_one_batch(iterator):\n",
      "  File \"C:\\Users\\corey\\AppData\\Local\\Packages\\PythonSoftwareFoundation.Python.3.9_qbz5n2kfra8p0\\LocalCache\\local-packages\\Python39\\site-packages\\joblib\\parallel.py\", line 901, in dispatch_one_batch\n",
      "    self._dispatch(tasks)\n",
      "  File \"C:\\Users\\corey\\AppData\\Local\\Packages\\PythonSoftwareFoundation.Python.3.9_qbz5n2kfra8p0\\LocalCache\\local-packages\\Python39\\site-packages\\joblib\\parallel.py\", line 819, in _dispatch\n",
      "    job = self._backend.apply_async(batch, callback=cb)\n",
      "  File \"C:\\Users\\corey\\AppData\\Local\\Packages\\PythonSoftwareFoundation.Python.3.9_qbz5n2kfra8p0\\LocalCache\\local-packages\\Python39\\site-packages\\joblib\\_parallel_backends.py\", line 208, in apply_async\n",
      "    result = ImmediateResult(func)\n",
      "  File \"C:\\Users\\corey\\AppData\\Local\\Packages\\PythonSoftwareFoundation.Python.3.9_qbz5n2kfra8p0\\LocalCache\\local-packages\\Python39\\site-packages\\joblib\\_parallel_backends.py\", line 597, in __init__\n",
      "    self.results = batch()\n",
      "  File \"C:\\Users\\corey\\AppData\\Local\\Packages\\PythonSoftwareFoundation.Python.3.9_qbz5n2kfra8p0\\LocalCache\\local-packages\\Python39\\site-packages\\joblib\\parallel.py\", line 288, in __call__\n",
      "    return [func(*args, **kwargs)\n",
      "  File \"C:\\Users\\corey\\AppData\\Local\\Packages\\PythonSoftwareFoundation.Python.3.9_qbz5n2kfra8p0\\LocalCache\\local-packages\\Python39\\site-packages\\joblib\\parallel.py\", line 288, in <listcomp>\n",
      "    return [func(*args, **kwargs)\n",
      "  File \"C:\\Users\\corey\\AppData\\Local\\Packages\\PythonSoftwareFoundation.Python.3.9_qbz5n2kfra8p0\\LocalCache\\local-packages\\Python39\\site-packages\\sklearn\\utils\\fixes.py\", line 117, in __call__\n",
      "    return self.function(*args, **kwargs)\n",
      "  File \"C:\\Users\\corey\\AppData\\Local\\Packages\\PythonSoftwareFoundation.Python.3.9_qbz5n2kfra8p0\\LocalCache\\local-packages\\Python39\\site-packages\\sklearn\\linear_model\\_logistic.py\", line 521, in _logistic_regression_path\n",
      "    alpha = (1.0 / C) * (1 - l1_ratio)\n",
      "TypeError: unsupported operand type(s) for -: 'int' and 'NoneType'\n",
      "\n",
      "--------------------------------------------------------------------------------\n",
      "100 fits failed with the following error:\n",
      "Traceback (most recent call last):\n",
      "  File \"C:\\Users\\corey\\AppData\\Local\\Packages\\PythonSoftwareFoundation.Python.3.9_qbz5n2kfra8p0\\LocalCache\\local-packages\\Python39\\site-packages\\sklearn\\model_selection\\_validation.py\", line 686, in _fit_and_score\n",
      "    estimator.fit(X_train, y_train, **fit_params)\n",
      "  File \"C:\\Users\\corey\\AppData\\Local\\Packages\\PythonSoftwareFoundation.Python.3.9_qbz5n2kfra8p0\\LocalCache\\local-packages\\Python39\\site-packages\\sklearn\\linear_model\\_logistic.py\", line 1162, in fit\n",
      "    solver = _check_solver(self.solver, self.penalty, self.dual)\n",
      "  File \"C:\\Users\\corey\\AppData\\Local\\Packages\\PythonSoftwareFoundation.Python.3.9_qbz5n2kfra8p0\\LocalCache\\local-packages\\Python39\\site-packages\\sklearn\\linear_model\\_logistic.py\", line 71, in _check_solver\n",
      "    raise ValueError(\"penalty='none' is not supported for the liblinear solver\")\n",
      "ValueError: penalty='none' is not supported for the liblinear solver\n",
      "\n",
      "\n",
      "C:\\Users\\corey\\AppData\\Local\\Packages\\PythonSoftwareFoundation.Python.3.9_qbz5n2kfra8p0\\LocalCache\\local-packages\\Python39\\site-packages\\sklearn\\model_selection\\_search.py:953: UserWarning:\n",
      "\n",
      "One or more of the test scores are non-finite: [       nan        nan 0.59856768        nan 0.59856768 0.60262453\n",
      " 0.60266487 0.60262453 0.60266487 0.60266487        nan        nan\n",
      "        nan        nan        nan 0.60455719 0.60558575        nan\n",
      " 0.60559537 0.60560454        nan        nan 0.59856768        nan\n",
      " 0.59856768 0.60262453 0.60266487 0.60262453 0.60266487 0.60266487\n",
      "        nan        nan        nan        nan        nan 0.60563343\n",
      " 0.60558575        nan 0.60560454 0.60560454        nan        nan\n",
      " 0.59856768        nan 0.59856768 0.60262453 0.60266487 0.60262453\n",
      " 0.60266487 0.60266487        nan        nan        nan        nan\n",
      "        nan 0.6056247  0.60558575        nan 0.60561416 0.60558575\n",
      "        nan        nan 0.59856768        nan 0.59856768 0.60262453\n",
      " 0.60266487 0.60262453 0.60266487 0.60266487        nan        nan\n",
      "        nan        nan        nan 0.6056247  0.60558575        nan\n",
      " 0.60561416 0.60558575        nan        nan 0.60409635        nan\n",
      " 0.60409635 0.6061366  0.60627264 0.60628326 0.60627264 0.60627264\n",
      "        nan        nan        nan        nan        nan 0.60455719\n",
      " 0.60558575        nan 0.60559537 0.60560454        nan        nan\n",
      " 0.60409635        nan 0.60409635 0.60624346 0.60627264 0.60628326\n",
      " 0.60627264 0.60627264        nan        nan        nan        nan\n",
      "        nan 0.60563343 0.60558575        nan 0.60560454 0.60560454\n",
      "        nan        nan 0.60409635        nan 0.60409635 0.60624346\n",
      " 0.60627264 0.60628326 0.60627264 0.60627264        nan        nan\n",
      "        nan        nan        nan 0.6056247  0.60558575        nan\n",
      " 0.60561416 0.60558575        nan        nan 0.60409635        nan\n",
      " 0.60409635 0.60624346 0.60627264 0.60628326 0.60627264 0.60627264\n",
      "        nan        nan        nan        nan        nan 0.6056247\n",
      " 0.60558575        nan 0.60561416 0.60558575        nan        nan\n",
      " 0.60575002        nan 0.60575002 0.60509135 0.60586123 0.60587092\n",
      " 0.60586123 0.60586123        nan        nan        nan        nan\n",
      "        nan 0.60455719 0.60558575        nan 0.60559537 0.60560454\n",
      "        nan        nan 0.60575002        nan 0.60575002 0.6058906\n",
      " 0.60586123 0.60587092 0.60586123 0.60586123        nan        nan\n",
      "        nan        nan        nan 0.60563343 0.60558575        nan\n",
      " 0.60560454 0.60560454        nan        nan 0.60575002        nan\n",
      " 0.60575002 0.6058906  0.60586123 0.60587092 0.60586123 0.60586123\n",
      "        nan        nan        nan        nan        nan 0.6056247\n",
      " 0.60558575        nan 0.60561416 0.60558575        nan        nan\n",
      " 0.60575002        nan 0.60575002 0.6058906  0.60586123 0.60587092\n",
      " 0.60586123 0.60586123        nan        nan        nan        nan\n",
      "        nan 0.6056247  0.60558575        nan 0.60561416 0.60558575\n",
      "        nan        nan 0.60563515        nan 0.60563515 0.60436574\n",
      " 0.60563515 0.60559701 0.60563515 0.60563515        nan        nan\n",
      "        nan        nan        nan 0.60455719 0.60558575        nan\n",
      " 0.60559537 0.60560454        nan        nan 0.60563515        nan\n",
      " 0.60563515 0.60559632 0.60563515 0.60559701 0.60563515 0.60563515\n",
      "        nan        nan        nan        nan        nan 0.60563343\n",
      " 0.60558575        nan 0.60560454 0.60560454        nan        nan\n",
      " 0.60563515        nan 0.60563515 0.60559632 0.60563515 0.60559701\n",
      " 0.60563515 0.60563515        nan        nan        nan        nan\n",
      "        nan 0.6056247  0.60558575        nan 0.60561416 0.60558575\n",
      "        nan        nan 0.60563515        nan 0.60563515 0.60559632\n",
      " 0.60563515 0.60559701 0.60563515 0.60563515        nan        nan\n",
      "        nan        nan        nan 0.6056247  0.60558575        nan\n",
      " 0.60561416 0.60558575        nan        nan 0.60559537        nan\n",
      " 0.60559537 0.60476625 0.60559537 0.60561412 0.60559537 0.60559537\n",
      "        nan        nan        nan        nan        nan 0.60455719\n",
      " 0.60558575        nan 0.60559537 0.60560454        nan        nan\n",
      " 0.60559537        nan 0.60559537 0.60548156 0.60559537 0.60561412\n",
      " 0.60559537 0.60559537        nan        nan        nan        nan\n",
      "        nan 0.60563343 0.60558575        nan 0.60560454 0.60560454\n",
      "        nan        nan 0.60559537        nan 0.60559537 0.60548156\n",
      " 0.60559537 0.60561412 0.60559537 0.60559537        nan        nan\n",
      "        nan        nan        nan 0.6056247  0.60558575        nan\n",
      " 0.60561416 0.60558575        nan        nan 0.60559537        nan\n",
      " 0.60559537 0.60548156 0.60559537 0.60561412 0.60559537 0.60559537\n",
      "        nan        nan        nan        nan        nan 0.6056247\n",
      " 0.60558575        nan 0.60561416 0.60558575]\n",
      "\n"
     ]
    }
   ],
   "source": [
    "best_clf = clf.fit(X_train_new,Y_train)"
   ]
  },
  {
   "cell_type": "code",
   "execution_count": 89,
   "metadata": {},
   "outputs": [
    {
     "name": "stdout",
     "output_type": "stream",
     "text": [
      "LogisticRegression(C=1, random_state=10, solver='liblinear')\n",
      "0.6062832634878605\n"
     ]
    }
   ],
   "source": [
    "print(best_clf.best_estimator_)\n",
    "print(best_clf.best_score_)\n",
    "# print(best_clf.best_estimator_.feature_importance())"
   ]
  },
  {
   "cell_type": "code",
   "execution_count": 48,
   "metadata": {},
   "outputs": [
    {
     "data": {
      "text/plain": [
       "0.72345"
      ]
     },
     "execution_count": 48,
     "metadata": {},
     "output_type": "execute_result"
    }
   ],
   "source": [
    "logmod.score(X_train, Y_train)"
   ]
  },
  {
   "cell_type": "code",
   "execution_count": 49,
   "metadata": {},
   "outputs": [
    {
     "data": {
      "text/plain": [
       "0.6218238774799861"
      ]
     },
     "execution_count": 49,
     "metadata": {},
     "output_type": "execute_result"
    }
   ],
   "source": [
    "best_clf.score(X_test, Y_test)"
   ]
  },
  {
   "cell_type": "code",
   "execution_count": 52,
   "metadata": {},
   "outputs": [
    {
     "name": "stdout",
     "output_type": "stream",
     "text": [
      "              precision    recall  f1-score   support\n",
      "\n",
      "           0       0.72      0.92      0.81     26936\n",
      "           1       0.62      0.27      0.38     13064\n",
      "\n",
      "    accuracy                           0.71     40000\n",
      "   macro avg       0.67      0.60      0.59     40000\n",
      "weighted avg       0.69      0.71      0.67     40000\n",
      "\n",
      "              precision    recall  f1-score   support\n",
      "\n",
      "           0       0.73      0.90      0.80     26936\n",
      "           1       0.60      0.32      0.42     13064\n",
      "\n",
      "    accuracy                           0.71     40000\n",
      "   macro avg       0.66      0.61      0.61     40000\n",
      "weighted avg       0.69      0.71      0.68     40000\n",
      "\n"
     ]
    }
   ],
   "source": [
    "print(classification_report(Y_test, best_clf.best_estimator_.predict(X_test)))\n",
    "print(classification_report(Y_test, logmod_pred))"
   ]
  },
  {
   "attachments": {},
   "cell_type": "markdown",
   "metadata": {},
   "source": [
    "## Support Vector Machines"
   ]
  },
  {
   "cell_type": "code",
   "execution_count": 23,
   "metadata": {},
   "outputs": [],
   "source": [
    "svc_model = svm.SVC()\n",
    "\n",
    "svc_model.fit(X_train, Y_train)\n",
    "\n",
    "y_pred = clf.predict(X_test)"
   ]
  },
  {
   "cell_type": "code",
   "execution_count": null,
   "metadata": {},
   "outputs": [],
   "source": [
    "print(\"Accuracy:\", metrics.accuracy_score(Y_test, y_pred))"
   ]
  },
  {
   "attachments": {},
   "cell_type": "markdown",
   "metadata": {},
   "source": [
    "## Model Advantages"
   ]
  },
  {
   "cell_type": "code",
   "execution_count": null,
   "metadata": {},
   "outputs": [],
   "source": []
  },
  {
   "attachments": {},
   "cell_type": "markdown",
   "metadata": {},
   "source": [
    "## Feature Importance"
   ]
  },
  {
   "cell_type": "code",
   "execution_count": null,
   "metadata": {},
   "outputs": [],
   "source": []
  },
  {
   "attachments": {},
   "cell_type": "markdown",
   "metadata": {},
   "source": [
    "## SVC Insights"
   ]
  },
  {
   "cell_type": "code",
   "execution_count": null,
   "metadata": {},
   "outputs": [],
   "source": []
  },
  {
   "attachments": {},
   "cell_type": "markdown",
   "metadata": {},
   "source": [
    "## Sources"
   ]
  },
  {
   "attachments": {},
   "cell_type": "markdown",
   "metadata": {},
   "source": [
    "1. Hotz, N. (2023, January 19). What is CRISP DM? Data Science Process Alliance. https://www.datascience-pm.com/crisp-dm-2/"
   ]
  }
 ],
 "metadata": {
  "kernelspec": {
   "display_name": "Python 3",
   "language": "python",
   "name": "python3"
  },
  "language_info": {
   "codemirror_mode": {
    "name": "ipython",
    "version": 3
   },
   "file_extension": ".py",
   "mimetype": "text/x-python",
   "name": "python",
   "nbconvert_exporter": "python",
   "pygments_lexer": "ipython3",
   "version": "3.10.5"
  },
  "orig_nbformat": 4,
  "vscode": {
   "interpreter": {
    "hash": "a1e1e9b7e36fbb86883f2aa85798d41f32b1f0f226bbb83329a3a826842abaa4"
   }
  }
 },
 "nbformat": 4,
 "nbformat_minor": 2
}
